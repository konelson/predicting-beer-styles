{
 "cells": [
  {
   "cell_type": "markdown",
   "metadata": {},
   "source": [
    "# Model Selection"
   ]
  },
  {
   "cell_type": "code",
   "execution_count": 1,
   "metadata": {},
   "outputs": [
    {
     "data": {
      "text/plain": [
       "'/Users/kelly/metis_v3/Project_3'"
      ]
     },
     "execution_count": 1,
     "metadata": {},
     "output_type": "execute_result"
    }
   ],
   "source": [
    "pwd"
   ]
  },
  {
   "cell_type": "code",
   "execution_count": 2,
   "metadata": {},
   "outputs": [
    {
     "name": "stderr",
     "output_type": "stream",
     "text": [
      "/anaconda3/lib/python3.6/site-packages/sklearn/ensemble/weight_boosting.py:29: DeprecationWarning: numpy.core.umath_tests is an internal NumPy module and should not be imported. It will be removed in a future NumPy release.\n",
      "  from numpy.core.umath_tests import inner1d\n",
      "Using TensorFlow backend.\n"
     ]
    }
   ],
   "source": [
    "import pickle\n",
    "\n",
    "import numpy as np\n",
    "import pandas as pd\n",
    "\n",
    "import matplotlib.pyplot as plt\n",
    "plt.style.use('ggplot')\n",
    "\n",
    "%matplotlib inline\n",
    "\n",
    "import seaborn as sns\n",
    "\n",
    "from sklearn.model_selection import train_test_split\n",
    "from sklearn.linear_model import LogisticRegression\n",
    "from sklearn.preprocessing import StandardScaler\n",
    "from sklearn.metrics import f1_score, roc_auc_score, roc_curve\n",
    "from sklearn.metrics import precision_score, recall_score, f1_score, accuracy_score\n",
    "\n",
    "from sklearn.neighbors import KNeighborsClassifier\n",
    "from sklearn import metrics\n",
    "from sklearn.model_selection import cross_val_score\n",
    "from sklearn.metrics import confusion_matrix\n",
    "from sklearn.model_selection import GridSearchCV\n",
    "from sklearn.ensemble import RandomForestClassifier, GradientBoostingClassifier\n",
    "from sklearn.tree import DecisionTreeClassifier \n",
    "from sklearn.naive_bayes import GaussianNB\n",
    "from sklearn.svm import SVC \n",
    "from sklearn.preprocessing import LabelEncoder\n",
    "from keras.utils import np_utils"
   ]
  },
  {
   "cell_type": "code",
   "execution_count": 3,
   "metadata": {},
   "outputs": [
    {
     "data": {
      "text/html": [
       "<div>\n",
       "<style scoped>\n",
       "    .dataframe tbody tr th:only-of-type {\n",
       "        vertical-align: middle;\n",
       "    }\n",
       "\n",
       "    .dataframe tbody tr th {\n",
       "        vertical-align: top;\n",
       "    }\n",
       "\n",
       "    .dataframe thead th {\n",
       "        text-align: right;\n",
       "    }\n",
       "</style>\n",
       "<table border=\"1\" class=\"dataframe\">\n",
       "  <thead>\n",
       "    <tr style=\"text-align: right;\">\n",
       "      <th></th>\n",
       "      <th>beerid</th>\n",
       "      <th>name</th>\n",
       "      <th>style</th>\n",
       "      <th>styleid</th>\n",
       "      <th>size</th>\n",
       "      <th>og</th>\n",
       "      <th>fg</th>\n",
       "      <th>abv</th>\n",
       "      <th>ibu</th>\n",
       "      <th>color</th>\n",
       "      <th>...</th>\n",
       "      <th>ipa</th>\n",
       "      <th>lager</th>\n",
       "      <th>stout</th>\n",
       "      <th>porter</th>\n",
       "      <th>saison</th>\n",
       "      <th>kolsch</th>\n",
       "      <th>ale</th>\n",
       "      <th>apa</th>\n",
       "      <th>wheat</th>\n",
       "      <th>pilsner</th>\n",
       "    </tr>\n",
       "  </thead>\n",
       "  <tbody>\n",
       "    <tr>\n",
       "      <th>0</th>\n",
       "      <td>1</td>\n",
       "      <td>Vanilla Cream Ale</td>\n",
       "      <td>Cream Ale</td>\n",
       "      <td>45</td>\n",
       "      <td>21.77</td>\n",
       "      <td>1.055</td>\n",
       "      <td>1.013</td>\n",
       "      <td>5.48</td>\n",
       "      <td>17.65</td>\n",
       "      <td>4.83</td>\n",
       "      <td>...</td>\n",
       "      <td>0</td>\n",
       "      <td>0</td>\n",
       "      <td>0</td>\n",
       "      <td>0</td>\n",
       "      <td>0</td>\n",
       "      <td>0</td>\n",
       "      <td>1</td>\n",
       "      <td>0</td>\n",
       "      <td>0</td>\n",
       "      <td>0</td>\n",
       "    </tr>\n",
       "    <tr>\n",
       "      <th>2</th>\n",
       "      <td>5</td>\n",
       "      <td>Bakke Brygg Belgisk Blonde 50 l</td>\n",
       "      <td>Belgian Blond Ale</td>\n",
       "      <td>20</td>\n",
       "      <td>50.00</td>\n",
       "      <td>1.060</td>\n",
       "      <td>1.010</td>\n",
       "      <td>6.48</td>\n",
       "      <td>17.84</td>\n",
       "      <td>4.57</td>\n",
       "      <td>...</td>\n",
       "      <td>0</td>\n",
       "      <td>0</td>\n",
       "      <td>0</td>\n",
       "      <td>0</td>\n",
       "      <td>0</td>\n",
       "      <td>0</td>\n",
       "      <td>1</td>\n",
       "      <td>0</td>\n",
       "      <td>0</td>\n",
       "      <td>0</td>\n",
       "    </tr>\n",
       "    <tr>\n",
       "      <th>3</th>\n",
       "      <td>6</td>\n",
       "      <td>Sierra Nevada Pale Ale Clone</td>\n",
       "      <td>American Pale Ale</td>\n",
       "      <td>10</td>\n",
       "      <td>24.61</td>\n",
       "      <td>1.055</td>\n",
       "      <td>1.013</td>\n",
       "      <td>5.58</td>\n",
       "      <td>40.12</td>\n",
       "      <td>8.00</td>\n",
       "      <td>...</td>\n",
       "      <td>0</td>\n",
       "      <td>0</td>\n",
       "      <td>0</td>\n",
       "      <td>0</td>\n",
       "      <td>0</td>\n",
       "      <td>0</td>\n",
       "      <td>0</td>\n",
       "      <td>1</td>\n",
       "      <td>0</td>\n",
       "      <td>0</td>\n",
       "    </tr>\n",
       "    <tr>\n",
       "      <th>4</th>\n",
       "      <td>8</td>\n",
       "      <td>Spotted Clown (New Glarus Spotted Cow clone)</td>\n",
       "      <td>Cream Ale</td>\n",
       "      <td>45</td>\n",
       "      <td>20.82</td>\n",
       "      <td>1.054</td>\n",
       "      <td>1.014</td>\n",
       "      <td>5.36</td>\n",
       "      <td>19.97</td>\n",
       "      <td>5.94</td>\n",
       "      <td>...</td>\n",
       "      <td>0</td>\n",
       "      <td>0</td>\n",
       "      <td>0</td>\n",
       "      <td>0</td>\n",
       "      <td>0</td>\n",
       "      <td>0</td>\n",
       "      <td>1</td>\n",
       "      <td>0</td>\n",
       "      <td>0</td>\n",
       "      <td>0</td>\n",
       "    </tr>\n",
       "    <tr>\n",
       "      <th>5</th>\n",
       "      <td>9</td>\n",
       "      <td>Chocolate Vanilla Porter</td>\n",
       "      <td>Robust Porter</td>\n",
       "      <td>129</td>\n",
       "      <td>22.71</td>\n",
       "      <td>1.060</td>\n",
       "      <td>1.016</td>\n",
       "      <td>5.77</td>\n",
       "      <td>31.63</td>\n",
       "      <td>34.76</td>\n",
       "      <td>...</td>\n",
       "      <td>0</td>\n",
       "      <td>0</td>\n",
       "      <td>0</td>\n",
       "      <td>1</td>\n",
       "      <td>0</td>\n",
       "      <td>0</td>\n",
       "      <td>0</td>\n",
       "      <td>0</td>\n",
       "      <td>0</td>\n",
       "      <td>0</td>\n",
       "    </tr>\n",
       "  </tbody>\n",
       "</table>\n",
       "<p>5 rows × 31 columns</p>\n",
       "</div>"
      ],
      "text/plain": [
       "   beerid                                          name              style  \\\n",
       "0       1                             Vanilla Cream Ale          Cream Ale   \n",
       "2       5               Bakke Brygg Belgisk Blonde 50 l  Belgian Blond Ale   \n",
       "3       6                  Sierra Nevada Pale Ale Clone  American Pale Ale   \n",
       "4       8  Spotted Clown (New Glarus Spotted Cow clone)          Cream Ale   \n",
       "5       9                      Chocolate Vanilla Porter      Robust Porter   \n",
       "\n",
       "   styleid   size     og     fg   abv    ibu  color   ...    ipa  lager  \\\n",
       "0       45  21.77  1.055  1.013  5.48  17.65   4.83   ...      0      0   \n",
       "2       20  50.00  1.060  1.010  6.48  17.84   4.57   ...      0      0   \n",
       "3       10  24.61  1.055  1.013  5.58  40.12   8.00   ...      0      0   \n",
       "4       45  20.82  1.054  1.014  5.36  19.97   5.94   ...      0      0   \n",
       "5      129  22.71  1.060  1.016  5.77  31.63  34.76   ...      0      0   \n",
       "\n",
       "   stout  porter saison  kolsch  ale  apa  wheat pilsner  \n",
       "0      0       0      0       0    1    0      0       0  \n",
       "2      0       0      0       0    1    0      0       0  \n",
       "3      0       0      0       0    0    1      0       0  \n",
       "4      0       0      0       0    1    0      0       0  \n",
       "5      0       1      0       0    0    0      0       0  \n",
       "\n",
       "[5 rows x 31 columns]"
      ]
     },
     "execution_count": 3,
     "metadata": {},
     "output_type": "execute_result"
    }
   ],
   "source": [
    "with open('beer_final.pickle','rb') as read_file:\n",
    "    beer_df = pickle.load(read_file)\n",
    "beer_df.head()"
   ]
  },
  {
   "cell_type": "code",
   "execution_count": 4,
   "metadata": {},
   "outputs": [],
   "source": [
    "beer_df_original = beer_df.copy()"
   ]
  },
  {
   "cell_type": "code",
   "execution_count": 5,
   "metadata": {},
   "outputs": [
    {
     "data": {
      "text/plain": [
       "ipa        16506\n",
       "lager       4078\n",
       "stout       5697\n",
       "porter      2575\n",
       "saison      2528\n",
       "kolsch       840\n",
       "ale        10791\n",
       "apa         7328\n",
       "wheat       4606\n",
       "pilsner      984\n",
       "dtype: int64"
      ]
     },
     "execution_count": 5,
     "metadata": {},
     "output_type": "execute_result"
    }
   ],
   "source": [
    "#Check final df uploaded with 'Other' removed - Top 10 styles remain\n",
    "\n",
    "beer_df.iloc[:,21:].sum()"
   ]
  },
  {
   "cell_type": "markdown",
   "metadata": {},
   "source": [
    "*Try Logistic Regression on one X and one Y to begin*"
   ]
  },
  {
   "cell_type": "code",
   "execution_count": 6,
   "metadata": {},
   "outputs": [],
   "source": [
    "y_ipa = beer_df['ipa']"
   ]
  },
  {
   "cell_type": "code",
   "execution_count": 7,
   "metadata": {},
   "outputs": [],
   "source": [
    "X_ipa = beer_df.iloc[:,4:-16].drop(columns = 'brewmethod')"
   ]
  },
  {
   "cell_type": "code",
   "execution_count": 8,
   "metadata": {},
   "outputs": [
    {
     "data": {
      "text/html": [
       "<div>\n",
       "<style scoped>\n",
       "    .dataframe tbody tr th:only-of-type {\n",
       "        vertical-align: middle;\n",
       "    }\n",
       "\n",
       "    .dataframe tbody tr th {\n",
       "        vertical-align: top;\n",
       "    }\n",
       "\n",
       "    .dataframe thead th {\n",
       "        text-align: right;\n",
       "    }\n",
       "</style>\n",
       "<table border=\"1\" class=\"dataframe\">\n",
       "  <thead>\n",
       "    <tr style=\"text-align: right;\">\n",
       "      <th></th>\n",
       "      <th>size</th>\n",
       "      <th>og</th>\n",
       "      <th>fg</th>\n",
       "      <th>abv</th>\n",
       "      <th>ibu</th>\n",
       "      <th>color</th>\n",
       "      <th>boilsize</th>\n",
       "      <th>boiltime</th>\n",
       "      <th>boilgravity</th>\n",
       "      <th>efficiency</th>\n",
       "    </tr>\n",
       "  </thead>\n",
       "  <tbody>\n",
       "    <tr>\n",
       "      <th>0</th>\n",
       "      <td>21.77</td>\n",
       "      <td>1.055</td>\n",
       "      <td>1.013</td>\n",
       "      <td>5.48</td>\n",
       "      <td>17.65</td>\n",
       "      <td>4.83</td>\n",
       "      <td>28.39</td>\n",
       "      <td>75</td>\n",
       "      <td>1.038</td>\n",
       "      <td>70.0</td>\n",
       "    </tr>\n",
       "    <tr>\n",
       "      <th>2</th>\n",
       "      <td>50.00</td>\n",
       "      <td>1.060</td>\n",
       "      <td>1.010</td>\n",
       "      <td>6.48</td>\n",
       "      <td>17.84</td>\n",
       "      <td>4.57</td>\n",
       "      <td>60.00</td>\n",
       "      <td>90</td>\n",
       "      <td>1.050</td>\n",
       "      <td>72.0</td>\n",
       "    </tr>\n",
       "    <tr>\n",
       "      <th>3</th>\n",
       "      <td>24.61</td>\n",
       "      <td>1.055</td>\n",
       "      <td>1.013</td>\n",
       "      <td>5.58</td>\n",
       "      <td>40.12</td>\n",
       "      <td>8.00</td>\n",
       "      <td>29.34</td>\n",
       "      <td>70</td>\n",
       "      <td>1.047</td>\n",
       "      <td>79.0</td>\n",
       "    </tr>\n",
       "    <tr>\n",
       "      <th>4</th>\n",
       "      <td>20.82</td>\n",
       "      <td>1.054</td>\n",
       "      <td>1.014</td>\n",
       "      <td>5.36</td>\n",
       "      <td>19.97</td>\n",
       "      <td>5.94</td>\n",
       "      <td>28.39</td>\n",
       "      <td>75</td>\n",
       "      <td>1.040</td>\n",
       "      <td>70.0</td>\n",
       "    </tr>\n",
       "    <tr>\n",
       "      <th>5</th>\n",
       "      <td>22.71</td>\n",
       "      <td>1.060</td>\n",
       "      <td>1.016</td>\n",
       "      <td>5.77</td>\n",
       "      <td>31.63</td>\n",
       "      <td>34.76</td>\n",
       "      <td>30.28</td>\n",
       "      <td>75</td>\n",
       "      <td>1.042</td>\n",
       "      <td>73.0</td>\n",
       "    </tr>\n",
       "  </tbody>\n",
       "</table>\n",
       "</div>"
      ],
      "text/plain": [
       "    size     og     fg   abv    ibu  color  boilsize  boiltime  boilgravity  \\\n",
       "0  21.77  1.055  1.013  5.48  17.65   4.83     28.39        75        1.038   \n",
       "2  50.00  1.060  1.010  6.48  17.84   4.57     60.00        90        1.050   \n",
       "3  24.61  1.055  1.013  5.58  40.12   8.00     29.34        70        1.047   \n",
       "4  20.82  1.054  1.014  5.36  19.97   5.94     28.39        75        1.040   \n",
       "5  22.71  1.060  1.016  5.77  31.63  34.76     30.28        75        1.042   \n",
       "\n",
       "   efficiency  \n",
       "0        70.0  \n",
       "2        72.0  \n",
       "3        79.0  \n",
       "4        70.0  \n",
       "5        73.0  "
      ]
     },
     "execution_count": 8,
     "metadata": {},
     "output_type": "execute_result"
    }
   ],
   "source": [
    "X_ipa.head()"
   ]
  },
  {
   "cell_type": "code",
   "execution_count": 9,
   "metadata": {},
   "outputs": [
    {
     "data": {
      "text/plain": [
       "Index(['size', 'og', 'fg', 'abv', 'ibu', 'color', 'boilsize', 'boiltime',\n",
       "       'boilgravity', 'efficiency'],\n",
       "      dtype='object')"
      ]
     },
     "execution_count": 9,
     "metadata": {},
     "output_type": "execute_result"
    }
   ],
   "source": [
    "X_ipa.columns"
   ]
  },
  {
   "cell_type": "code",
   "execution_count": 10,
   "metadata": {},
   "outputs": [
    {
     "data": {
      "text/plain": [
       "(55933, 10)"
      ]
     },
     "execution_count": 10,
     "metadata": {},
     "output_type": "execute_result"
    }
   ],
   "source": [
    "X_ipa.shape"
   ]
  },
  {
   "cell_type": "code",
   "execution_count": 11,
   "metadata": {},
   "outputs": [],
   "source": [
    "std_scale = StandardScaler()"
   ]
  },
  {
   "cell_type": "code",
   "execution_count": 12,
   "metadata": {},
   "outputs": [],
   "source": [
    "X_ipa_train, X_ipa_test, y_ipa_train, y_ipa_test = train_test_split(X_ipa, y_ipa, test_size = 0.3, random_state = 4444)"
   ]
  },
  {
   "cell_type": "code",
   "execution_count": 13,
   "metadata": {},
   "outputs": [],
   "source": [
    "std_scale = StandardScaler()\n",
    "X_ipa_train_scaled = std_scale.fit_transform(X_ipa_train)"
   ]
  },
  {
   "cell_type": "code",
   "execution_count": 14,
   "metadata": {},
   "outputs": [],
   "source": [
    "ipa_log_model = LogisticRegression(C = 10)"
   ]
  },
  {
   "cell_type": "code",
   "execution_count": 15,
   "metadata": {},
   "outputs": [
    {
     "data": {
      "text/plain": [
       "LogisticRegression(C=10, class_weight=None, dual=False, fit_intercept=True,\n",
       "          intercept_scaling=1, max_iter=100, multi_class='ovr', n_jobs=1,\n",
       "          penalty='l2', random_state=None, solver='liblinear', tol=0.0001,\n",
       "          verbose=0, warm_start=False)"
      ]
     },
     "execution_count": 15,
     "metadata": {},
     "output_type": "execute_result"
    }
   ],
   "source": [
    "ipa_log_model.fit(X_ipa_train_scaled, y_ipa_train)"
   ]
  },
  {
   "cell_type": "code",
   "execution_count": 16,
   "metadata": {},
   "outputs": [
    {
     "data": {
      "text/plain": [
       "0.3363528009535161"
      ]
     },
     "execution_count": 16,
     "metadata": {},
     "output_type": "execute_result"
    }
   ],
   "source": [
    "ipa_log_model.score(X_ipa_test, y_ipa_test)"
   ]
  },
  {
   "cell_type": "code",
   "execution_count": 17,
   "metadata": {},
   "outputs": [
    {
     "data": {
      "text/plain": [
       "(array([[ 0.0844909 ,  0.00323324, -0.0356024 ,  0.38945709,  2.08876665,\n",
       "         -1.07999425, -0.03456343, -0.17608919,  0.03335394,  0.02483695]]),\n",
       " array([-1.17019637]))"
      ]
     },
     "execution_count": 17,
     "metadata": {},
     "output_type": "execute_result"
    }
   ],
   "source": [
    "ipa_log_model.coef_, ipa_log_model.intercept_"
   ]
  },
  {
   "cell_type": "code",
   "execution_count": 18,
   "metadata": {},
   "outputs": [
    {
     "data": {
      "text/plain": [
       "37199"
      ]
     },
     "execution_count": 18,
     "metadata": {},
     "output_type": "execute_result"
    }
   ],
   "source": [
    "ipa_log_model.predict(X_ipa_train).sum()"
   ]
  },
  {
   "cell_type": "code",
   "execution_count": 19,
   "metadata": {},
   "outputs": [
    {
     "data": {
      "text/plain": [
       "15903"
      ]
     },
     "execution_count": 19,
     "metadata": {},
     "output_type": "execute_result"
    }
   ],
   "source": [
    "ipa_log_model.predict(X_ipa_test).sum()"
   ]
  },
  {
   "cell_type": "code",
   "execution_count": 20,
   "metadata": {},
   "outputs": [],
   "source": [
    "X_inputs = X_ipa.values"
   ]
  },
  {
   "cell_type": "code",
   "execution_count": 21,
   "metadata": {},
   "outputs": [],
   "source": [
    "ipa_pred = ipa_log_model.predict(X_ipa)"
   ]
  },
  {
   "cell_type": "code",
   "execution_count": 22,
   "metadata": {},
   "outputs": [],
   "source": [
    "ipa_mask = y_ipa == 1"
   ]
  },
  {
   "cell_type": "code",
   "execution_count": 23,
   "metadata": {},
   "outputs": [
    {
     "data": {
      "image/png": "[encoded data removed]",
      "text/plain": [
       "<Figure size 432x288 with 1 Axes>"
      ]
     },
     "metadata": {},
     "output_type": "display_data"
    }
   ],
   "source": [
    "plt.plot(X_inputs[ipa_mask], ipa_pred[ipa_mask], 'bo', label='Actually IPA', alpha=0.1)\n",
    "plt.plot(X_inputs[~ipa_mask], ipa_pred[~ipa_mask], 'ro', label='Not an IPA', alpha=0.05)\n",
    "plt.xticks([])\n",
    "plt.ylabel('Prediction (1 = IPA)')\n",
    "plt.ylim(-0.05, 1.05)\n",
    "plt.title('Logistic Regression Prediction for IPA vs. Other Beer Styles');\n",
    "\n",
    "#plt.legend(loc='lower right');"
   ]
  },
  {
   "cell_type": "markdown",
   "metadata": {},
   "source": [
    "Model Setup:"
   ]
  },
  {
   "cell_type": "code",
   "execution_count": 24,
   "metadata": {},
   "outputs": [
    {
     "data": {
      "text/html": [
       "<div>\n",
       "<style scoped>\n",
       "    .dataframe tbody tr th:only-of-type {\n",
       "        vertical-align: middle;\n",
       "    }\n",
       "\n",
       "    .dataframe tbody tr th {\n",
       "        vertical-align: top;\n",
       "    }\n",
       "\n",
       "    .dataframe thead th {\n",
       "        text-align: right;\n",
       "    }\n",
       "</style>\n",
       "<table border=\"1\" class=\"dataframe\">\n",
       "  <thead>\n",
       "    <tr style=\"text-align: right;\">\n",
       "      <th></th>\n",
       "      <th>ipa</th>\n",
       "      <th>lager</th>\n",
       "      <th>stout</th>\n",
       "      <th>porter</th>\n",
       "      <th>saison</th>\n",
       "      <th>kolsch</th>\n",
       "      <th>ale</th>\n",
       "      <th>apa</th>\n",
       "      <th>wheat</th>\n",
       "      <th>pilsner</th>\n",
       "    </tr>\n",
       "  </thead>\n",
       "  <tbody>\n",
       "    <tr>\n",
       "      <th>0</th>\n",
       "      <td>0</td>\n",
       "      <td>0</td>\n",
       "      <td>0</td>\n",
       "      <td>0</td>\n",
       "      <td>0</td>\n",
       "      <td>0</td>\n",
       "      <td>1</td>\n",
       "      <td>0</td>\n",
       "      <td>0</td>\n",
       "      <td>0</td>\n",
       "    </tr>\n",
       "    <tr>\n",
       "      <th>2</th>\n",
       "      <td>0</td>\n",
       "      <td>0</td>\n",
       "      <td>0</td>\n",
       "      <td>0</td>\n",
       "      <td>0</td>\n",
       "      <td>0</td>\n",
       "      <td>1</td>\n",
       "      <td>0</td>\n",
       "      <td>0</td>\n",
       "      <td>0</td>\n",
       "    </tr>\n",
       "    <tr>\n",
       "      <th>3</th>\n",
       "      <td>0</td>\n",
       "      <td>0</td>\n",
       "      <td>0</td>\n",
       "      <td>0</td>\n",
       "      <td>0</td>\n",
       "      <td>0</td>\n",
       "      <td>0</td>\n",
       "      <td>1</td>\n",
       "      <td>0</td>\n",
       "      <td>0</td>\n",
       "    </tr>\n",
       "    <tr>\n",
       "      <th>4</th>\n",
       "      <td>0</td>\n",
       "      <td>0</td>\n",
       "      <td>0</td>\n",
       "      <td>0</td>\n",
       "      <td>0</td>\n",
       "      <td>0</td>\n",
       "      <td>1</td>\n",
       "      <td>0</td>\n",
       "      <td>0</td>\n",
       "      <td>0</td>\n",
       "    </tr>\n",
       "    <tr>\n",
       "      <th>5</th>\n",
       "      <td>0</td>\n",
       "      <td>0</td>\n",
       "      <td>0</td>\n",
       "      <td>1</td>\n",
       "      <td>0</td>\n",
       "      <td>0</td>\n",
       "      <td>0</td>\n",
       "      <td>0</td>\n",
       "      <td>0</td>\n",
       "      <td>0</td>\n",
       "    </tr>\n",
       "  </tbody>\n",
       "</table>\n",
       "</div>"
      ],
      "text/plain": [
       "   ipa  lager  stout  porter  saison  kolsch  ale  apa  wheat  pilsner\n",
       "0    0      0      0       0       0       0    1    0      0        0\n",
       "2    0      0      0       0       0       0    1    0      0        0\n",
       "3    0      0      0       0       0       0    0    1      0        0\n",
       "4    0      0      0       0       0       0    1    0      0        0\n",
       "5    0      0      0       1       0       0    0    0      0        0"
      ]
     },
     "execution_count": 24,
     "metadata": {},
     "output_type": "execute_result"
    }
   ],
   "source": [
    "#Styles\n",
    "\n",
    "beer_df.iloc[:,-10:].head()"
   ]
  },
  {
   "cell_type": "code",
   "execution_count": 25,
   "metadata": {},
   "outputs": [],
   "source": [
    "#Number Styles\n",
    "\n",
    "beer_df['ipa'] = beer_df['ipa']*1\n",
    "beer_df['lager'] = beer_df['lager']*2\n",
    "beer_df['stout'] = beer_df['stout']*3\n",
    "beer_df['porter'] = beer_df['porter']*4\n",
    "beer_df['saison'] = beer_df['saison']*5\n",
    "beer_df['kolsch'] = beer_df['kolsch']*6\n",
    "beer_df['ale'] = beer_df['ale']*7\n",
    "beer_df['apa'] = beer_df['apa']*8\n",
    "beer_df['wheat'] = beer_df['wheat']*9\n",
    "beer_df['pilsner'] = beer_df['pilsner']*10\n"
   ]
  },
  {
   "cell_type": "code",
   "execution_count": 26,
   "metadata": {},
   "outputs": [
    {
     "data": {
      "text/html": [
       "<div>\n",
       "<style scoped>\n",
       "    .dataframe tbody tr th:only-of-type {\n",
       "        vertical-align: middle;\n",
       "    }\n",
       "\n",
       "    .dataframe tbody tr th {\n",
       "        vertical-align: top;\n",
       "    }\n",
       "\n",
       "    .dataframe thead th {\n",
       "        text-align: right;\n",
       "    }\n",
       "</style>\n",
       "<table border=\"1\" class=\"dataframe\">\n",
       "  <thead>\n",
       "    <tr style=\"text-align: right;\">\n",
       "      <th></th>\n",
       "      <th>beerid</th>\n",
       "      <th>name</th>\n",
       "      <th>style</th>\n",
       "      <th>styleid</th>\n",
       "      <th>size</th>\n",
       "      <th>og</th>\n",
       "      <th>fg</th>\n",
       "      <th>abv</th>\n",
       "      <th>ibu</th>\n",
       "      <th>color</th>\n",
       "      <th>...</th>\n",
       "      <th>ipa</th>\n",
       "      <th>lager</th>\n",
       "      <th>stout</th>\n",
       "      <th>porter</th>\n",
       "      <th>saison</th>\n",
       "      <th>kolsch</th>\n",
       "      <th>ale</th>\n",
       "      <th>apa</th>\n",
       "      <th>wheat</th>\n",
       "      <th>pilsner</th>\n",
       "    </tr>\n",
       "  </thead>\n",
       "  <tbody>\n",
       "    <tr>\n",
       "      <th>0</th>\n",
       "      <td>1</td>\n",
       "      <td>Vanilla Cream Ale</td>\n",
       "      <td>Cream Ale</td>\n",
       "      <td>45</td>\n",
       "      <td>21.77</td>\n",
       "      <td>1.055</td>\n",
       "      <td>1.013</td>\n",
       "      <td>5.48</td>\n",
       "      <td>17.65</td>\n",
       "      <td>4.83</td>\n",
       "      <td>...</td>\n",
       "      <td>0</td>\n",
       "      <td>0</td>\n",
       "      <td>0</td>\n",
       "      <td>0</td>\n",
       "      <td>0</td>\n",
       "      <td>0</td>\n",
       "      <td>7</td>\n",
       "      <td>0</td>\n",
       "      <td>0</td>\n",
       "      <td>0</td>\n",
       "    </tr>\n",
       "    <tr>\n",
       "      <th>2</th>\n",
       "      <td>5</td>\n",
       "      <td>Bakke Brygg Belgisk Blonde 50 l</td>\n",
       "      <td>Belgian Blond Ale</td>\n",
       "      <td>20</td>\n",
       "      <td>50.00</td>\n",
       "      <td>1.060</td>\n",
       "      <td>1.010</td>\n",
       "      <td>6.48</td>\n",
       "      <td>17.84</td>\n",
       "      <td>4.57</td>\n",
       "      <td>...</td>\n",
       "      <td>0</td>\n",
       "      <td>0</td>\n",
       "      <td>0</td>\n",
       "      <td>0</td>\n",
       "      <td>0</td>\n",
       "      <td>0</td>\n",
       "      <td>7</td>\n",
       "      <td>0</td>\n",
       "      <td>0</td>\n",
       "      <td>0</td>\n",
       "    </tr>\n",
       "    <tr>\n",
       "      <th>3</th>\n",
       "      <td>6</td>\n",
       "      <td>Sierra Nevada Pale Ale Clone</td>\n",
       "      <td>American Pale Ale</td>\n",
       "      <td>10</td>\n",
       "      <td>24.61</td>\n",
       "      <td>1.055</td>\n",
       "      <td>1.013</td>\n",
       "      <td>5.58</td>\n",
       "      <td>40.12</td>\n",
       "      <td>8.00</td>\n",
       "      <td>...</td>\n",
       "      <td>0</td>\n",
       "      <td>0</td>\n",
       "      <td>0</td>\n",
       "      <td>0</td>\n",
       "      <td>0</td>\n",
       "      <td>0</td>\n",
       "      <td>0</td>\n",
       "      <td>8</td>\n",
       "      <td>0</td>\n",
       "      <td>0</td>\n",
       "    </tr>\n",
       "    <tr>\n",
       "      <th>4</th>\n",
       "      <td>8</td>\n",
       "      <td>Spotted Clown (New Glarus Spotted Cow clone)</td>\n",
       "      <td>Cream Ale</td>\n",
       "      <td>45</td>\n",
       "      <td>20.82</td>\n",
       "      <td>1.054</td>\n",
       "      <td>1.014</td>\n",
       "      <td>5.36</td>\n",
       "      <td>19.97</td>\n",
       "      <td>5.94</td>\n",
       "      <td>...</td>\n",
       "      <td>0</td>\n",
       "      <td>0</td>\n",
       "      <td>0</td>\n",
       "      <td>0</td>\n",
       "      <td>0</td>\n",
       "      <td>0</td>\n",
       "      <td>7</td>\n",
       "      <td>0</td>\n",
       "      <td>0</td>\n",
       "      <td>0</td>\n",
       "    </tr>\n",
       "    <tr>\n",
       "      <th>5</th>\n",
       "      <td>9</td>\n",
       "      <td>Chocolate Vanilla Porter</td>\n",
       "      <td>Robust Porter</td>\n",
       "      <td>129</td>\n",
       "      <td>22.71</td>\n",
       "      <td>1.060</td>\n",
       "      <td>1.016</td>\n",
       "      <td>5.77</td>\n",
       "      <td>31.63</td>\n",
       "      <td>34.76</td>\n",
       "      <td>...</td>\n",
       "      <td>0</td>\n",
       "      <td>0</td>\n",
       "      <td>0</td>\n",
       "      <td>4</td>\n",
       "      <td>0</td>\n",
       "      <td>0</td>\n",
       "      <td>0</td>\n",
       "      <td>0</td>\n",
       "      <td>0</td>\n",
       "      <td>0</td>\n",
       "    </tr>\n",
       "  </tbody>\n",
       "</table>\n",
       "<p>5 rows × 31 columns</p>\n",
       "</div>"
      ],
      "text/plain": [
       "   beerid                                          name              style  \\\n",
       "0       1                             Vanilla Cream Ale          Cream Ale   \n",
       "2       5               Bakke Brygg Belgisk Blonde 50 l  Belgian Blond Ale   \n",
       "3       6                  Sierra Nevada Pale Ale Clone  American Pale Ale   \n",
       "4       8  Spotted Clown (New Glarus Spotted Cow clone)          Cream Ale   \n",
       "5       9                      Chocolate Vanilla Porter      Robust Porter   \n",
       "\n",
       "   styleid   size     og     fg   abv    ibu  color   ...    ipa  lager  \\\n",
       "0       45  21.77  1.055  1.013  5.48  17.65   4.83   ...      0      0   \n",
       "2       20  50.00  1.060  1.010  6.48  17.84   4.57   ...      0      0   \n",
       "3       10  24.61  1.055  1.013  5.58  40.12   8.00   ...      0      0   \n",
       "4       45  20.82  1.054  1.014  5.36  19.97   5.94   ...      0      0   \n",
       "5      129  22.71  1.060  1.016  5.77  31.63  34.76   ...      0      0   \n",
       "\n",
       "   stout  porter saison  kolsch  ale  apa  wheat pilsner  \n",
       "0      0       0      0       0    7    0      0       0  \n",
       "2      0       0      0       0    7    0      0       0  \n",
       "3      0       0      0       0    0    8      0       0  \n",
       "4      0       0      0       0    7    0      0       0  \n",
       "5      0       4      0       0    0    0      0       0  \n",
       "\n",
       "[5 rows x 31 columns]"
      ]
     },
     "execution_count": 26,
     "metadata": {},
     "output_type": "execute_result"
    }
   ],
   "source": [
    "beer_df.head()"
   ]
  },
  {
   "cell_type": "code",
   "execution_count": 27,
   "metadata": {},
   "outputs": [],
   "source": [
    "style_list = ['ipa', 'lager', 'stout', 'porter', 'saison', 'kolsch', 'ale', 'apa', 'wheat', 'pilsner']"
   ]
  },
  {
   "cell_type": "code",
   "execution_count": 28,
   "metadata": {},
   "outputs": [],
   "source": [
    "beer_df['style_num'] = beer_df.iloc[:,21:].sum(axis=1)"
   ]
  },
  {
   "cell_type": "code",
   "execution_count": 29,
   "metadata": {},
   "outputs": [
    {
     "data": {
      "text/html": [
       "<div>\n",
       "<style scoped>\n",
       "    .dataframe tbody tr th:only-of-type {\n",
       "        vertical-align: middle;\n",
       "    }\n",
       "\n",
       "    .dataframe tbody tr th {\n",
       "        vertical-align: top;\n",
       "    }\n",
       "\n",
       "    .dataframe thead th {\n",
       "        text-align: right;\n",
       "    }\n",
       "</style>\n",
       "<table border=\"1\" class=\"dataframe\">\n",
       "  <thead>\n",
       "    <tr style=\"text-align: right;\">\n",
       "      <th></th>\n",
       "      <th>beerid</th>\n",
       "      <th>name</th>\n",
       "      <th>style</th>\n",
       "      <th>styleid</th>\n",
       "      <th>size</th>\n",
       "      <th>og</th>\n",
       "      <th>fg</th>\n",
       "      <th>abv</th>\n",
       "      <th>ibu</th>\n",
       "      <th>color</th>\n",
       "      <th>...</th>\n",
       "      <th>lager</th>\n",
       "      <th>stout</th>\n",
       "      <th>porter</th>\n",
       "      <th>saison</th>\n",
       "      <th>kolsch</th>\n",
       "      <th>ale</th>\n",
       "      <th>apa</th>\n",
       "      <th>wheat</th>\n",
       "      <th>pilsner</th>\n",
       "      <th>style_num</th>\n",
       "    </tr>\n",
       "  </thead>\n",
       "  <tbody>\n",
       "    <tr>\n",
       "      <th>0</th>\n",
       "      <td>1</td>\n",
       "      <td>Vanilla Cream Ale</td>\n",
       "      <td>Cream Ale</td>\n",
       "      <td>45</td>\n",
       "      <td>21.77</td>\n",
       "      <td>1.055</td>\n",
       "      <td>1.013</td>\n",
       "      <td>5.48</td>\n",
       "      <td>17.65</td>\n",
       "      <td>4.83</td>\n",
       "      <td>...</td>\n",
       "      <td>0</td>\n",
       "      <td>0</td>\n",
       "      <td>0</td>\n",
       "      <td>0</td>\n",
       "      <td>0</td>\n",
       "      <td>7</td>\n",
       "      <td>0</td>\n",
       "      <td>0</td>\n",
       "      <td>0</td>\n",
       "      <td>7</td>\n",
       "    </tr>\n",
       "    <tr>\n",
       "      <th>2</th>\n",
       "      <td>5</td>\n",
       "      <td>Bakke Brygg Belgisk Blonde 50 l</td>\n",
       "      <td>Belgian Blond Ale</td>\n",
       "      <td>20</td>\n",
       "      <td>50.00</td>\n",
       "      <td>1.060</td>\n",
       "      <td>1.010</td>\n",
       "      <td>6.48</td>\n",
       "      <td>17.84</td>\n",
       "      <td>4.57</td>\n",
       "      <td>...</td>\n",
       "      <td>0</td>\n",
       "      <td>0</td>\n",
       "      <td>0</td>\n",
       "      <td>0</td>\n",
       "      <td>0</td>\n",
       "      <td>7</td>\n",
       "      <td>0</td>\n",
       "      <td>0</td>\n",
       "      <td>0</td>\n",
       "      <td>7</td>\n",
       "    </tr>\n",
       "    <tr>\n",
       "      <th>3</th>\n",
       "      <td>6</td>\n",
       "      <td>Sierra Nevada Pale Ale Clone</td>\n",
       "      <td>American Pale Ale</td>\n",
       "      <td>10</td>\n",
       "      <td>24.61</td>\n",
       "      <td>1.055</td>\n",
       "      <td>1.013</td>\n",
       "      <td>5.58</td>\n",
       "      <td>40.12</td>\n",
       "      <td>8.00</td>\n",
       "      <td>...</td>\n",
       "      <td>0</td>\n",
       "      <td>0</td>\n",
       "      <td>0</td>\n",
       "      <td>0</td>\n",
       "      <td>0</td>\n",
       "      <td>0</td>\n",
       "      <td>8</td>\n",
       "      <td>0</td>\n",
       "      <td>0</td>\n",
       "      <td>8</td>\n",
       "    </tr>\n",
       "    <tr>\n",
       "      <th>4</th>\n",
       "      <td>8</td>\n",
       "      <td>Spotted Clown (New Glarus Spotted Cow clone)</td>\n",
       "      <td>Cream Ale</td>\n",
       "      <td>45</td>\n",
       "      <td>20.82</td>\n",
       "      <td>1.054</td>\n",
       "      <td>1.014</td>\n",
       "      <td>5.36</td>\n",
       "      <td>19.97</td>\n",
       "      <td>5.94</td>\n",
       "      <td>...</td>\n",
       "      <td>0</td>\n",
       "      <td>0</td>\n",
       "      <td>0</td>\n",
       "      <td>0</td>\n",
       "      <td>0</td>\n",
       "      <td>7</td>\n",
       "      <td>0</td>\n",
       "      <td>0</td>\n",
       "      <td>0</td>\n",
       "      <td>7</td>\n",
       "    </tr>\n",
       "    <tr>\n",
       "      <th>5</th>\n",
       "      <td>9</td>\n",
       "      <td>Chocolate Vanilla Porter</td>\n",
       "      <td>Robust Porter</td>\n",
       "      <td>129</td>\n",
       "      <td>22.71</td>\n",
       "      <td>1.060</td>\n",
       "      <td>1.016</td>\n",
       "      <td>5.77</td>\n",
       "      <td>31.63</td>\n",
       "      <td>34.76</td>\n",
       "      <td>...</td>\n",
       "      <td>0</td>\n",
       "      <td>0</td>\n",
       "      <td>4</td>\n",
       "      <td>0</td>\n",
       "      <td>0</td>\n",
       "      <td>0</td>\n",
       "      <td>0</td>\n",
       "      <td>0</td>\n",
       "      <td>0</td>\n",
       "      <td>4</td>\n",
       "    </tr>\n",
       "  </tbody>\n",
       "</table>\n",
       "<p>5 rows × 32 columns</p>\n",
       "</div>"
      ],
      "text/plain": [
       "   beerid                                          name              style  \\\n",
       "0       1                             Vanilla Cream Ale          Cream Ale   \n",
       "2       5               Bakke Brygg Belgisk Blonde 50 l  Belgian Blond Ale   \n",
       "3       6                  Sierra Nevada Pale Ale Clone  American Pale Ale   \n",
       "4       8  Spotted Clown (New Glarus Spotted Cow clone)          Cream Ale   \n",
       "5       9                      Chocolate Vanilla Porter      Robust Porter   \n",
       "\n",
       "   styleid   size     og     fg   abv    ibu  color    ...     lager  stout  \\\n",
       "0       45  21.77  1.055  1.013  5.48  17.65   4.83    ...         0      0   \n",
       "2       20  50.00  1.060  1.010  6.48  17.84   4.57    ...         0      0   \n",
       "3       10  24.61  1.055  1.013  5.58  40.12   8.00    ...         0      0   \n",
       "4       45  20.82  1.054  1.014  5.36  19.97   5.94    ...         0      0   \n",
       "5      129  22.71  1.060  1.016  5.77  31.63  34.76    ...         0      0   \n",
       "\n",
       "   porter  saison kolsch  ale  apa  wheat  pilsner style_num  \n",
       "0       0       0      0    7    0      0        0         7  \n",
       "2       0       0      0    7    0      0        0         7  \n",
       "3       0       0      0    0    8      0        0         8  \n",
       "4       0       0      0    7    0      0        0         7  \n",
       "5       4       0      0    0    0      0        0         4  \n",
       "\n",
       "[5 rows x 32 columns]"
      ]
     },
     "execution_count": 29,
     "metadata": {},
     "output_type": "execute_result"
    }
   ],
   "source": [
    "beer_df.head()"
   ]
  },
  {
   "cell_type": "code",
   "execution_count": 30,
   "metadata": {},
   "outputs": [
    {
     "data": {
      "text/plain": [
       "Index(['beerid', 'name', 'style', 'styleid', 'size', 'og', 'fg', 'abv', 'ibu',\n",
       "       'color', 'boilsize', 'boiltime', 'boilgravity', 'efficiency',\n",
       "       'brewmethod', 'allgrain', 'biab', 'partialmash', 'extract', 'style',\n",
       "       'styleid', 'ipa', 'lager', 'stout', 'porter', 'saison', 'kolsch', 'ale',\n",
       "       'apa', 'wheat', 'pilsner', 'style_num'],\n",
       "      dtype='object')"
      ]
     },
     "execution_count": 30,
     "metadata": {},
     "output_type": "execute_result"
    }
   ],
   "source": [
    "beer_df.columns"
   ]
  },
  {
   "cell_type": "code",
   "execution_count": 31,
   "metadata": {},
   "outputs": [
    {
     "data": {
      "text/html": [
       "<div>\n",
       "<style scoped>\n",
       "    .dataframe tbody tr th:only-of-type {\n",
       "        vertical-align: middle;\n",
       "    }\n",
       "\n",
       "    .dataframe tbody tr th {\n",
       "        vertical-align: top;\n",
       "    }\n",
       "\n",
       "    .dataframe thead th {\n",
       "        text-align: right;\n",
       "    }\n",
       "</style>\n",
       "<table border=\"1\" class=\"dataframe\">\n",
       "  <thead>\n",
       "    <tr style=\"text-align: right;\">\n",
       "      <th></th>\n",
       "      <th>size</th>\n",
       "      <th>og</th>\n",
       "      <th>fg</th>\n",
       "      <th>abv</th>\n",
       "      <th>ibu</th>\n",
       "      <th>color</th>\n",
       "      <th>boilsize</th>\n",
       "      <th>boiltime</th>\n",
       "      <th>boilgravity</th>\n",
       "      <th>efficiency</th>\n",
       "      <th>brewmethod</th>\n",
       "      <th>allgrain</th>\n",
       "      <th>biab</th>\n",
       "      <th>partialmash</th>\n",
       "      <th>extract</th>\n",
       "    </tr>\n",
       "  </thead>\n",
       "  <tbody>\n",
       "    <tr>\n",
       "      <th>0</th>\n",
       "      <td>21.77</td>\n",
       "      <td>1.055</td>\n",
       "      <td>1.013</td>\n",
       "      <td>5.48</td>\n",
       "      <td>17.65</td>\n",
       "      <td>4.83</td>\n",
       "      <td>28.39</td>\n",
       "      <td>75</td>\n",
       "      <td>1.038</td>\n",
       "      <td>70.0</td>\n",
       "      <td>All Grain</td>\n",
       "      <td>1</td>\n",
       "      <td>0</td>\n",
       "      <td>0</td>\n",
       "      <td>0</td>\n",
       "    </tr>\n",
       "  </tbody>\n",
       "</table>\n",
       "</div>"
      ],
      "text/plain": [
       "    size     og     fg   abv    ibu  color  boilsize  boiltime  boilgravity  \\\n",
       "0  21.77  1.055  1.013  5.48  17.65   4.83     28.39        75        1.038   \n",
       "\n",
       "   efficiency brewmethod  allgrain  biab  partialmash  extract  \n",
       "0        70.0  All Grain         1     0            0        0  "
      ]
     },
     "execution_count": 31,
     "metadata": {},
     "output_type": "execute_result"
    }
   ],
   "source": [
    "beer_df.iloc[:,4:-13].head(1)"
   ]
  },
  {
   "cell_type": "code",
   "execution_count": 32,
   "metadata": {},
   "outputs": [],
   "source": [
    "X = beer_df.iloc[:,4:-13].drop(columns = 'brewmethod')"
   ]
  },
  {
   "cell_type": "code",
   "execution_count": 33,
   "metadata": {},
   "outputs": [],
   "source": [
    "y = beer_df.style_num"
   ]
  },
  {
   "cell_type": "code",
   "execution_count": 34,
   "metadata": {},
   "outputs": [],
   "source": [
    "X_train, X_test, y_train, y_test = train_test_split(X, y, test_size = 0.3, random_state = 4444)"
   ]
  },
  {
   "cell_type": "code",
   "execution_count": 35,
   "metadata": {
    "scrolled": true
   },
   "outputs": [
    {
     "data": {
      "text/plain": [
       "'\\nDid not end up using this code:\\n\\nstd_scale = StandardScaler()\\nX_train_scaled = std_scale.fit_transform(X_train)\\nX_test_scaled = std_scale.fit_transform(X_test)\\n\\n'"
      ]
     },
     "execution_count": 35,
     "metadata": {},
     "output_type": "execute_result"
    }
   ],
   "source": [
    "'''\n",
    "Did not end up using this code:\n",
    "\n",
    "std_scale = StandardScaler()\n",
    "X_train_scaled = std_scale.fit_transform(X_train)\n",
    "X_test_scaled = std_scale.fit_transform(X_test)\n",
    "\n",
    "'''"
   ]
  },
  {
   "cell_type": "code",
   "execution_count": 36,
   "metadata": {},
   "outputs": [],
   "source": [
    "#Create individual y variables to test models on individual styles\n",
    "\n",
    "y_ipa = beer_df_original['ipa']\n",
    "y_lager = beer_df_original['lager']\n",
    "y_stout = beer_df_original['stout']\n",
    "y_porter = beer_df_original['porter']\n",
    "y_saison = beer_df_original['saison']\n",
    "y_kolsch = beer_df_original['kolsch']\n",
    "y_ale = beer_df_original['ale']\n",
    "y_apa = beer_df_original['apa']\n",
    "y_wheat = beer_df_original['wheat']\n",
    "y_pilsner = beer_df_original['pilsner']"
   ]
  },
  {
   "cell_type": "code",
   "execution_count": 37,
   "metadata": {},
   "outputs": [],
   "source": [
    "#Create train / test split for each\n",
    "\n",
    "X_train_ipa, X_test_ipa, y_train_ipa, y_test_ipa = train_test_split(X, y_ipa, test_size = 0.3, random_state = 4444)\n",
    "X_train_lager, X_test_lager, y_train_lager, y_test_lager = train_test_split(X, y_lager, test_size = 0.3, random_state = 4444)\n",
    "X_train_stout, X_test_stout, y_train_stout, y_test_stout = train_test_split(X, y_stout, test_size = 0.3, random_state = 4444)\n",
    "X_train_porter, X_test_porter, y_train_porter, y_test_porter = train_test_split(X, y_porter, test_size = 0.3, random_state = 4444)\n",
    "X_train_saison, X_test_saison, y_train_saison, y_test_saison = train_test_split(X, y_saison, test_size = 0.3, random_state = 4444)\n",
    "X_train_kolsch, X_test_kolsch, y_train_kolsch, y_test_kolsch = train_test_split(X, y_kolsch, test_size = 0.3, random_state = 4444)\n",
    "X_train_ale, X_test_ale, y_train_ale, y_test_ale = train_test_split(X, y_ale, test_size = 0.3, random_state = 4444)\n",
    "X_train_apa, X_test_apa, y_train_apa, y_test_apa = train_test_split(X, y_apa, test_size = 0.3, random_state = 4444)\n",
    "X_train_wheat, X_test_wheat, y_train_wheat, y_test_wheat = train_test_split(X, y_wheat, test_size = 0.3, random_state = 4444)\n",
    "X_train_pilsner, X_test_pilsner, y_train_pilsner, y_test_pilsner = train_test_split(X, y_pilsner, test_size = 0.3, random_state = 4444)\n"
   ]
  },
  {
   "cell_type": "code",
   "execution_count": 38,
   "metadata": {},
   "outputs": [
    {
     "data": {
      "text/html": [
       "<div>\n",
       "<style scoped>\n",
       "    .dataframe tbody tr th:only-of-type {\n",
       "        vertical-align: middle;\n",
       "    }\n",
       "\n",
       "    .dataframe tbody tr th {\n",
       "        vertical-align: top;\n",
       "    }\n",
       "\n",
       "    .dataframe thead th {\n",
       "        text-align: right;\n",
       "    }\n",
       "</style>\n",
       "<table border=\"1\" class=\"dataframe\">\n",
       "  <thead>\n",
       "    <tr style=\"text-align: right;\">\n",
       "      <th></th>\n",
       "      <th>beerid</th>\n",
       "      <th>name</th>\n",
       "      <th>style</th>\n",
       "      <th>styleid</th>\n",
       "      <th>size</th>\n",
       "      <th>og</th>\n",
       "      <th>fg</th>\n",
       "      <th>abv</th>\n",
       "      <th>ibu</th>\n",
       "      <th>color</th>\n",
       "      <th>...</th>\n",
       "      <th>lager</th>\n",
       "      <th>stout</th>\n",
       "      <th>porter</th>\n",
       "      <th>saison</th>\n",
       "      <th>kolsch</th>\n",
       "      <th>ale</th>\n",
       "      <th>apa</th>\n",
       "      <th>wheat</th>\n",
       "      <th>pilsner</th>\n",
       "      <th>style_num</th>\n",
       "    </tr>\n",
       "  </thead>\n",
       "  <tbody>\n",
       "    <tr>\n",
       "      <th>0</th>\n",
       "      <td>1</td>\n",
       "      <td>Vanilla Cream Ale</td>\n",
       "      <td>Cream Ale</td>\n",
       "      <td>45</td>\n",
       "      <td>21.77</td>\n",
       "      <td>1.055</td>\n",
       "      <td>1.013</td>\n",
       "      <td>5.48</td>\n",
       "      <td>17.65</td>\n",
       "      <td>4.83</td>\n",
       "      <td>...</td>\n",
       "      <td>0</td>\n",
       "      <td>0</td>\n",
       "      <td>0</td>\n",
       "      <td>0</td>\n",
       "      <td>0</td>\n",
       "      <td>7</td>\n",
       "      <td>0</td>\n",
       "      <td>0</td>\n",
       "      <td>0</td>\n",
       "      <td>7</td>\n",
       "    </tr>\n",
       "  </tbody>\n",
       "</table>\n",
       "<p>1 rows × 32 columns</p>\n",
       "</div>"
      ],
      "text/plain": [
       "   beerid               name      style  styleid   size     og     fg   abv  \\\n",
       "0       1  Vanilla Cream Ale  Cream Ale       45  21.77  1.055  1.013  5.48   \n",
       "\n",
       "     ibu  color    ...     lager  stout  porter  saison kolsch  ale  apa  \\\n",
       "0  17.65   4.83    ...         0      0       0       0      0    7    0   \n",
       "\n",
       "   wheat  pilsner style_num  \n",
       "0      0        0         7  \n",
       "\n",
       "[1 rows x 32 columns]"
      ]
     },
     "execution_count": 38,
     "metadata": {},
     "output_type": "execute_result"
    }
   ],
   "source": [
    "beer_df.head(1)"
   ]
  },
  {
   "cell_type": "code",
   "execution_count": 39,
   "metadata": {},
   "outputs": [],
   "source": [
    "with open ('beer_df_formodel.pickle', 'wb') as to_write:\n",
    "    pickle.dump(beer_df, to_write)"
   ]
  },
  {
   "cell_type": "markdown",
   "metadata": {},
   "source": [
    "**Logistic Regression Model**"
   ]
  },
  {
   "cell_type": "markdown",
   "metadata": {},
   "source": [
    "Overall"
   ]
  },
  {
   "cell_type": "code",
   "execution_count": 118,
   "metadata": {},
   "outputs": [],
   "source": [
    "log_model = LogisticRegression(C = 10)"
   ]
  },
  {
   "cell_type": "code",
   "execution_count": 119,
   "metadata": {},
   "outputs": [
    {
     "data": {
      "text/plain": [
       "LogisticRegression(C=10, class_weight=None, dual=False, fit_intercept=True,\n",
       "          intercept_scaling=1, max_iter=100, multi_class='ovr', n_jobs=1,\n",
       "          penalty='l2', random_state=None, solver='liblinear', tol=0.0001,\n",
       "          verbose=0, warm_start=False)"
      ]
     },
     "execution_count": 119,
     "metadata": {},
     "output_type": "execute_result"
    }
   ],
   "source": [
    "log_model.fit(X_train, y_train)"
   ]
  },
  {
   "cell_type": "code",
   "execution_count": 120,
   "metadata": {},
   "outputs": [
    {
     "data": {
      "text/plain": [
       "0.5222588307409394"
      ]
     },
     "execution_count": 120,
     "metadata": {},
     "output_type": "execute_result"
    }
   ],
   "source": [
    "log_model.score(X_train, y_train)"
   ]
  },
  {
   "cell_type": "code",
   "execution_count": 121,
   "metadata": {},
   "outputs": [],
   "source": [
    "log_pred = log_model.predict_proba(X_test)"
   ]
  },
  {
   "cell_type": "code",
   "execution_count": 122,
   "metadata": {
    "scrolled": false
   },
   "outputs": [
    {
     "data": {
      "text/plain": [
       "0.5283075089392133"
      ]
     },
     "execution_count": 122,
     "metadata": {},
     "output_type": "execute_result"
    }
   ],
   "source": [
    "log_model.score(X_test, y_test)"
   ]
  },
  {
   "cell_type": "markdown",
   "metadata": {},
   "source": [
    "IPA"
   ]
  },
  {
   "cell_type": "code",
   "execution_count": 37,
   "metadata": {},
   "outputs": [
    {
     "data": {
      "text/plain": [
       "LogisticRegression(C=10, class_weight=None, dual=False, fit_intercept=True,\n",
       "          intercept_scaling=1, max_iter=100, multi_class='ovr', n_jobs=1,\n",
       "          penalty='l2', random_state=None, solver='liblinear', tol=0.0001,\n",
       "          verbose=0, warm_start=False)"
      ]
     },
     "execution_count": 37,
     "metadata": {},
     "output_type": "execute_result"
    }
   ],
   "source": [
    "log_model_ipa = LogisticRegression(C = 10)\n",
    "log_model_ipa.fit(X_train_ipa, y_train_ipa)"
   ]
  },
  {
   "cell_type": "code",
   "execution_count": 38,
   "metadata": {},
   "outputs": [
    {
     "data": {
      "text/plain": [
       "0.8404464536561694"
      ]
     },
     "execution_count": 38,
     "metadata": {},
     "output_type": "execute_result"
    }
   ],
   "source": [
    "log_model_ipa.score(X_train_ipa, y_train_ipa)"
   ]
  },
  {
   "cell_type": "code",
   "execution_count": 39,
   "metadata": {},
   "outputs": [
    {
     "data": {
      "text/plain": [
       "0.8382598331346841"
      ]
     },
     "execution_count": 39,
     "metadata": {},
     "output_type": "execute_result"
    }
   ],
   "source": [
    "log_model_ipa.score(X_test_ipa, y_test_ipa)"
   ]
  },
  {
   "cell_type": "code",
   "execution_count": 40,
   "metadata": {},
   "outputs": [],
   "source": [
    "log_model_ipa_pred = log_model_ipa.predict(X_test_ipa)"
   ]
  },
  {
   "cell_type": "code",
   "execution_count": 41,
   "metadata": {},
   "outputs": [
    {
     "data": {
      "text/plain": [
       "0.7722715647865014"
      ]
     },
     "execution_count": 41,
     "metadata": {},
     "output_type": "execute_result"
    }
   ],
   "source": [
    "roc_auc_score(y_test_ipa, log_model_ipa_pred)"
   ]
  },
  {
   "cell_type": "code",
   "execution_count": 42,
   "metadata": {},
   "outputs": [
    {
     "name": "stdout",
     "output_type": "stream",
     "text": [
      "F1: 0.6921506352087116\n",
      "Accuracy: 0.8382598331346841\n",
      "Precision: 0.8031060805475125\n",
      "Recall: 0.6081323500099661\n"
     ]
    }
   ],
   "source": [
    "print('F1:',metrics.f1_score(y_test_ipa, log_model_ipa_pred))\n",
    "print('Accuracy:', metrics.accuracy_score(y_test_ipa, log_model_ipa_pred))\n",
    "print('Precision:', metrics.precision_score(y_test_ipa, log_model_ipa_pred))\n",
    "print('Recall:', metrics.recall_score(y_test_ipa, log_model_ipa_pred))"
   ]
  },
  {
   "cell_type": "markdown",
   "metadata": {},
   "source": [
    "Lager"
   ]
  },
  {
   "cell_type": "code",
   "execution_count": 58,
   "metadata": {},
   "outputs": [
    {
     "data": {
      "text/plain": [
       "LogisticRegression(C=10, class_weight=None, dual=False, fit_intercept=True,\n",
       "          intercept_scaling=1, max_iter=100, multi_class='ovr', n_jobs=1,\n",
       "          penalty='l2', random_state=None, solver='liblinear', tol=0.0001,\n",
       "          verbose=0, warm_start=False)"
      ]
     },
     "execution_count": 58,
     "metadata": {},
     "output_type": "execute_result"
    }
   ],
   "source": [
    "log_model_lager = LogisticRegression(C = 10)\n",
    "log_model_lager.fit(X_train_lager, y_train_lager)"
   ]
  },
  {
   "cell_type": "code",
   "execution_count": 59,
   "metadata": {},
   "outputs": [
    {
     "data": {
      "text/plain": [
       "0.9266467448215974"
      ]
     },
     "execution_count": 59,
     "metadata": {},
     "output_type": "execute_result"
    }
   ],
   "source": [
    "log_model_lager.score(X_train_lager, y_train_lager)"
   ]
  },
  {
   "cell_type": "code",
   "execution_count": 60,
   "metadata": {},
   "outputs": [
    {
     "data": {
      "text/plain": [
       "0.9281287246722288"
      ]
     },
     "execution_count": 60,
     "metadata": {},
     "output_type": "execute_result"
    }
   ],
   "source": [
    "log_model_lager.score(X_test_lager, y_test_lager)"
   ]
  },
  {
   "cell_type": "code",
   "execution_count": 61,
   "metadata": {},
   "outputs": [],
   "source": [
    "log_model_lager_pred = log_model_lager.predict(X_test_lager)"
   ]
  },
  {
   "cell_type": "code",
   "execution_count": 63,
   "metadata": {
    "scrolled": true
   },
   "outputs": [
    {
     "data": {
      "text/plain": [
       "0.5"
      ]
     },
     "execution_count": 63,
     "metadata": {},
     "output_type": "execute_result"
    }
   ],
   "source": [
    "roc_auc_score(y_test_lager, log_model_lager_pred)"
   ]
  },
  {
   "cell_type": "code",
   "execution_count": 64,
   "metadata": {},
   "outputs": [
    {
     "name": "stdout",
     "output_type": "stream",
     "text": [
      "F1: 0.0\n",
      "Accuracy: 0.9281287246722288\n",
      "Precision: 0.0\n",
      "Recall: 0.0\n"
     ]
    },
    {
     "name": "stderr",
     "output_type": "stream",
     "text": [
      "/anaconda3/lib/python3.6/site-packages/sklearn/metrics/classification.py:1135: UndefinedMetricWarning: F-score is ill-defined and being set to 0.0 due to no predicted samples.\n",
      "  'precision', 'predicted', average, warn_for)\n",
      "/anaconda3/lib/python3.6/site-packages/sklearn/metrics/classification.py:1135: UndefinedMetricWarning: Precision is ill-defined and being set to 0.0 due to no predicted samples.\n",
      "  'precision', 'predicted', average, warn_for)\n"
     ]
    }
   ],
   "source": [
    "print('F1:',metrics.f1_score(y_test_lager, log_model_lager_pred))\n",
    "print('Accuracy:', metrics.accuracy_score(y_test_lager, log_model_lager_pred))\n",
    "print('Precision:', metrics.precision_score(y_test_lager, log_model_lager_pred))\n",
    "print('Recall:', metrics.recall_score(y_test_lager, log_model_lager_pred))"
   ]
  },
  {
   "cell_type": "markdown",
   "metadata": {},
   "source": [
    "Stout"
   ]
  },
  {
   "cell_type": "code",
   "execution_count": 68,
   "metadata": {},
   "outputs": [
    {
     "data": {
      "text/plain": [
       "LogisticRegression(C=10, class_weight=None, dual=False, fit_intercept=True,\n",
       "          intercept_scaling=1, max_iter=100, multi_class='ovr', n_jobs=1,\n",
       "          penalty='l2', random_state=None, solver='liblinear', tol=0.0001,\n",
       "          verbose=0, warm_start=False)"
      ]
     },
     "execution_count": 68,
     "metadata": {},
     "output_type": "execute_result"
    }
   ],
   "source": [
    "log_model_stout = LogisticRegression(C = 10)\n",
    "log_model_stout.fit(X_train_stout, y_train_stout)"
   ]
  },
  {
   "cell_type": "code",
   "execution_count": 69,
   "metadata": {},
   "outputs": [
    {
     "data": {
      "text/plain": [
       "0.942660843358108"
      ]
     },
     "execution_count": 69,
     "metadata": {},
     "output_type": "execute_result"
    }
   ],
   "source": [
    "log_model_stout.score(X_train_stout, y_train_stout)"
   ]
  },
  {
   "cell_type": "code",
   "execution_count": 70,
   "metadata": {},
   "outputs": [
    {
     "data": {
      "text/plain": [
       "0.9410011918951132"
      ]
     },
     "execution_count": 70,
     "metadata": {},
     "output_type": "execute_result"
    }
   ],
   "source": [
    "log_model_stout.score(X_test_stout, y_test_stout)"
   ]
  },
  {
   "cell_type": "code",
   "execution_count": 71,
   "metadata": {},
   "outputs": [],
   "source": [
    "log_model_stout_pred = log_model_stout.predict(X_test_stout)"
   ]
  },
  {
   "cell_type": "code",
   "execution_count": 72,
   "metadata": {},
   "outputs": [
    {
     "data": {
      "text/plain": [
       "0.8355407280676742"
      ]
     },
     "execution_count": 72,
     "metadata": {},
     "output_type": "execute_result"
    }
   ],
   "source": [
    "roc_auc_score(y_test_stout, log_model_stout_pred)"
   ]
  },
  {
   "cell_type": "code",
   "execution_count": 73,
   "metadata": {},
   "outputs": [
    {
     "name": "stdout",
     "output_type": "stream",
     "text": [
      "F1: 0.7128770301624131\n",
      "Accuracy: 0.9410011918951132\n",
      "Precision: 0.7237926972909305\n",
      "Recall: 0.7022857142857143\n"
     ]
    }
   ],
   "source": [
    "print('F1:',metrics.f1_score(y_test_stout, log_model_stout_pred))\n",
    "print('Accuracy:', metrics.accuracy_score(y_test_stout, log_model_stout_pred))\n",
    "print('Precision:', metrics.precision_score(y_test_stout, log_model_stout_pred))\n",
    "print('Recall:', metrics.recall_score(y_test_stout, log_model_stout_pred))"
   ]
  },
  {
   "cell_type": "markdown",
   "metadata": {},
   "source": [
    "Porter"
   ]
  },
  {
   "cell_type": "code",
   "execution_count": 74,
   "metadata": {},
   "outputs": [
    {
     "data": {
      "text/plain": [
       "LogisticRegression(C=10, class_weight=None, dual=False, fit_intercept=True,\n",
       "          intercept_scaling=1, max_iter=100, multi_class='ovr', n_jobs=1,\n",
       "          penalty='l2', random_state=None, solver='liblinear', tol=0.0001,\n",
       "          verbose=0, warm_start=False)"
      ]
     },
     "execution_count": 74,
     "metadata": {},
     "output_type": "execute_result"
    }
   ],
   "source": [
    "log_model_porter = LogisticRegression(C = 10)\n",
    "log_model_porter.fit(X_train_porter, y_train_porter)"
   ]
  },
  {
   "cell_type": "code",
   "execution_count": 75,
   "metadata": {},
   "outputs": [
    {
     "data": {
      "text/plain": [
       "0.9494802441703062"
      ]
     },
     "execution_count": 75,
     "metadata": {},
     "output_type": "execute_result"
    }
   ],
   "source": [
    "log_model_porter.score(X_train_porter, y_train_porter)"
   ]
  },
  {
   "cell_type": "code",
   "execution_count": 76,
   "metadata": {},
   "outputs": [
    {
     "data": {
      "text/plain": [
       "0.9497020262216925"
      ]
     },
     "execution_count": 76,
     "metadata": {},
     "output_type": "execute_result"
    }
   ],
   "source": [
    "log_model_porter.score(X_test_porter, y_test_porter)"
   ]
  },
  {
   "cell_type": "code",
   "execution_count": 77,
   "metadata": {},
   "outputs": [],
   "source": [
    "log_model_porter_pred = log_model_porter.predict(X_test_porter)"
   ]
  },
  {
   "cell_type": "code",
   "execution_count": 78,
   "metadata": {},
   "outputs": [
    {
     "data": {
      "text/plain": [
       "0.5093291686888055"
      ]
     },
     "execution_count": 78,
     "metadata": {},
     "output_type": "execute_result"
    }
   ],
   "source": [
    "roc_auc_score(y_test_porter, log_model_porter_pred)"
   ]
  },
  {
   "cell_type": "code",
   "execution_count": 79,
   "metadata": {},
   "outputs": [
    {
     "name": "stdout",
     "output_type": "stream",
     "text": [
      "ROC AUC Score =  0.5093291686888055\n"
     ]
    },
    {
     "data": {
      "image/png": "[encoded data removed]",
      "text/plain": [
       "<Figure size 432x288 with 1 Axes>"
      ]
     },
     "metadata": {},
     "output_type": "display_data"
    }
   ],
   "source": [
    "porter_log_fpr, porter_log_tpr, porter_thresholds = roc_curve(y_test_porter, log_model_porter_pred)\n",
    "\n",
    "plt.plot(porter_log_fpr, porter_log_tpr);\n",
    "plt.title('Porter Logistic Regression ROC')\n",
    "\n",
    "print('ROC AUC Score = ', roc_auc_score(y_test_porter, log_model_porter_pred))"
   ]
  },
  {
   "cell_type": "code",
   "execution_count": 80,
   "metadata": {
    "scrolled": false
   },
   "outputs": [
    {
     "name": "stdout",
     "output_type": "stream",
     "text": [
      "F1: 0.043083900226757364\n",
      "Accuracy: 0.9497020262216925\n",
      "Precision: 0.15966386554621848\n",
      "Recall: 0.02490170380078637\n"
     ]
    }
   ],
   "source": [
    "print('F1:',metrics.f1_score(y_test_porter, log_model_porter_pred))\n",
    "print('Accuracy:', metrics.accuracy_score(y_test_porter, log_model_porter_pred))\n",
    "print('Precision:', metrics.precision_score(y_test_porter, log_model_porter_pred))\n",
    "print('Recall:', metrics.recall_score(y_test_porter, log_model_porter_pred))"
   ]
  },
  {
   "cell_type": "markdown",
   "metadata": {},
   "source": [
    "Saison"
   ]
  },
  {
   "cell_type": "code",
   "execution_count": 81,
   "metadata": {},
   "outputs": [
    {
     "data": {
      "text/plain": [
       "LogisticRegression(C=10, class_weight=None, dual=False, fit_intercept=True,\n",
       "          intercept_scaling=1, max_iter=100, multi_class='ovr', n_jobs=1,\n",
       "          penalty='l2', random_state=None, solver='liblinear', tol=0.0001,\n",
       "          verbose=0, warm_start=False)"
      ]
     },
     "execution_count": 81,
     "metadata": {},
     "output_type": "execute_result"
    }
   ],
   "source": [
    "log_model_saison = LogisticRegression(C = 10)\n",
    "log_model_saison.fit(X_train_saison, y_train_saison)"
   ]
  },
  {
   "cell_type": "code",
   "execution_count": 82,
   "metadata": {},
   "outputs": [
    {
     "name": "stdout",
     "output_type": "stream",
     "text": [
      "Train Accuracy: 0.9540775930324624 Test Accuracy:  0.9552443384982121\n"
     ]
    }
   ],
   "source": [
    "print('Train Accuracy:',log_model_saison.score(X_train_saison, y_train_saison), 'Test Accuracy: ',log_model_saison.score(X_test_saison, y_test_saison))"
   ]
  },
  {
   "cell_type": "code",
   "execution_count": 83,
   "metadata": {},
   "outputs": [
    {
     "data": {
      "text/plain": [
       "0.49987525728185617"
      ]
     },
     "execution_count": 83,
     "metadata": {},
     "output_type": "execute_result"
    }
   ],
   "source": [
    "log_model_saison_pred = log_model_saison.predict(X_test_saison)\n",
    "roc_auc_score(y_test_saison, log_model_saison_pred)"
   ]
  },
  {
   "cell_type": "code",
   "execution_count": 84,
   "metadata": {},
   "outputs": [
    {
     "name": "stdout",
     "output_type": "stream",
     "text": [
      "F1: 0.0\n",
      "Accuracy: 0.9552443384982121\n",
      "Precision: 0.0\n",
      "Recall: 0.0\n"
     ]
    }
   ],
   "source": [
    "print('F1:',metrics.f1_score(y_test_saison, log_model_saison_pred))\n",
    "print('Accuracy:', metrics.accuracy_score(y_test_saison, log_model_saison_pred))\n",
    "print('Precision:', metrics.precision_score(y_test_saison, log_model_saison_pred))\n",
    "print('Recall:', metrics.recall_score(y_test_saison, log_model_saison_pred))"
   ]
  },
  {
   "cell_type": "markdown",
   "metadata": {},
   "source": [
    "Kolsch"
   ]
  },
  {
   "cell_type": "code",
   "execution_count": 85,
   "metadata": {},
   "outputs": [
    {
     "data": {
      "text/plain": [
       "LogisticRegression(C=10, class_weight=None, dual=False, fit_intercept=True,\n",
       "          intercept_scaling=1, max_iter=100, multi_class='ovr', n_jobs=1,\n",
       "          penalty='l2', random_state=None, solver='liblinear', tol=0.0001,\n",
       "          verbose=0, warm_start=False)"
      ]
     },
     "execution_count": 85,
     "metadata": {},
     "output_type": "execute_result"
    }
   ],
   "source": [
    "log_model_kolsch = LogisticRegression(C = 10)\n",
    "log_model_kolsch.fit(X_train_kolsch, y_train_kolsch)"
   ]
  },
  {
   "cell_type": "code",
   "execution_count": 86,
   "metadata": {},
   "outputs": [
    {
     "name": "stdout",
     "output_type": "stream",
     "text": [
      "Train Accuracy: 0.9847265854468368 Test Accuracy:  0.98492252681764\n"
     ]
    }
   ],
   "source": [
    "print('Train Accuracy:',log_model_kolsch.score(X_train_kolsch, y_train_kolsch), 'Test Accuracy: ',log_model_kolsch.score(X_test_kolsch, y_test_kolsch))"
   ]
  },
  {
   "cell_type": "code",
   "execution_count": 87,
   "metadata": {},
   "outputs": [
    {
     "data": {
      "text/plain": [
       "0.4998487781272683"
      ]
     },
     "execution_count": 87,
     "metadata": {},
     "output_type": "execute_result"
    }
   ],
   "source": [
    "log_model_kolsch_pred = log_model_kolsch.predict(X_test_kolsch)\n",
    "roc_auc_score(y_test_kolsch, log_model_kolsch_pred)"
   ]
  },
  {
   "cell_type": "code",
   "execution_count": 88,
   "metadata": {},
   "outputs": [
    {
     "name": "stdout",
     "output_type": "stream",
     "text": [
      "F1: 0.0\n",
      "Accuracy: 0.98492252681764\n",
      "Precision: 0.0\n",
      "Recall: 0.0\n"
     ]
    }
   ],
   "source": [
    "print('F1:',metrics.f1_score(y_test_kolsch, log_model_kolsch_pred))\n",
    "print('Accuracy:', metrics.accuracy_score(y_test_kolsch, log_model_kolsch_pred))\n",
    "print('Precision:', metrics.precision_score(y_test_kolsch, log_model_kolsch_pred))\n",
    "print('Recall:', metrics.recall_score(y_test_kolsch, log_model_kolsch_pred))"
   ]
  },
  {
   "cell_type": "markdown",
   "metadata": {},
   "source": [
    "Ale"
   ]
  },
  {
   "cell_type": "code",
   "execution_count": 89,
   "metadata": {},
   "outputs": [
    {
     "data": {
      "text/plain": [
       "LogisticRegression(C=10, class_weight=None, dual=False, fit_intercept=True,\n",
       "          intercept_scaling=1, max_iter=100, multi_class='ovr', n_jobs=1,\n",
       "          penalty='l2', random_state=None, solver='liblinear', tol=0.0001,\n",
       "          verbose=0, warm_start=False)"
      ]
     },
     "execution_count": 89,
     "metadata": {},
     "output_type": "execute_result"
    }
   ],
   "source": [
    "log_model_ale = LogisticRegression(C = 10)\n",
    "log_model_ale.fit(X_train_ale, y_train_ale)"
   ]
  },
  {
   "cell_type": "code",
   "execution_count": 90,
   "metadata": {},
   "outputs": [
    {
     "name": "stdout",
     "output_type": "stream",
     "text": [
      "Train Accuracy: 0.8064771537302378 Test Accuracy:  0.8045292014302742\n"
     ]
    }
   ],
   "source": [
    "print('Train Accuracy:',log_model_ale.score(X_train_ale, y_train_ale), 'Test Accuracy: ',log_model_ale.score(X_test_ale, y_test_ale))"
   ]
  },
  {
   "cell_type": "code",
   "execution_count": 91,
   "metadata": {},
   "outputs": [
    {
     "data": {
      "text/plain": [
       "0.4994624625835806"
      ]
     },
     "execution_count": 91,
     "metadata": {},
     "output_type": "execute_result"
    }
   ],
   "source": [
    "log_model_ale_pred = log_model_ale.predict(X_test_ale)\n",
    "roc_auc_score(y_test_ale, log_model_ale_pred)"
   ]
  },
  {
   "cell_type": "code",
   "execution_count": 92,
   "metadata": {},
   "outputs": [
    {
     "name": "stdout",
     "output_type": "stream",
     "text": [
      "F1: 0.0018259281801582471\n",
      "Accuracy: 0.8045292014302742\n",
      "Precision: 0.1\n",
      "Recall: 0.0009213759213759214\n"
     ]
    }
   ],
   "source": [
    "print('F1:',metrics.f1_score(y_test_ale, log_model_ale_pred))\n",
    "print('Accuracy:', metrics.accuracy_score(y_test_ale, log_model_ale_pred))\n",
    "print('Precision:', metrics.precision_score(y_test_ale, log_model_ale_pred))\n",
    "print('Recall:', metrics.recall_score(y_test_ale, log_model_ale_pred))"
   ]
  },
  {
   "cell_type": "markdown",
   "metadata": {},
   "source": [
    "APA"
   ]
  },
  {
   "cell_type": "code",
   "execution_count": 93,
   "metadata": {},
   "outputs": [
    {
     "data": {
      "text/plain": [
       "LogisticRegression(C=10, class_weight=None, dual=False, fit_intercept=True,\n",
       "          intercept_scaling=1, max_iter=100, multi_class='ovr', n_jobs=1,\n",
       "          penalty='l2', random_state=None, solver='liblinear', tol=0.0001,\n",
       "          verbose=0, warm_start=False)"
      ]
     },
     "execution_count": 93,
     "metadata": {},
     "output_type": "execute_result"
    }
   ],
   "source": [
    "log_model_apa = LogisticRegression(C = 10)\n",
    "log_model_apa.fit(X_train_apa, y_train_apa)"
   ]
  },
  {
   "cell_type": "code",
   "execution_count": 94,
   "metadata": {},
   "outputs": [
    {
     "name": "stdout",
     "output_type": "stream",
     "text": [
      "Train Accuracy: 0.8652721375118126 Test Accuracy:  0.8678188319427891\n"
     ]
    }
   ],
   "source": [
    "print('Train Accuracy:',log_model_apa.score(X_train_apa, y_train_apa), 'Test Accuracy: ',log_model_apa.score(X_test_apa, y_test_apa))"
   ]
  },
  {
   "cell_type": "code",
   "execution_count": 95,
   "metadata": {},
   "outputs": [
    {
     "data": {
      "text/plain": [
       "0.4984396454280445"
      ]
     },
     "execution_count": 95,
     "metadata": {},
     "output_type": "execute_result"
    }
   ],
   "source": [
    "log_model_apa_pred = log_model_apa.predict(X_test_apa)\n",
    "roc_auc_score(y_test_apa, log_model_apa_pred)"
   ]
  },
  {
   "cell_type": "code",
   "execution_count": 96,
   "metadata": {},
   "outputs": [
    {
     "name": "stdout",
     "output_type": "stream",
     "text": [
      "F1: 0.0026978417266187047\n",
      "Accuracy: 0.8678188319427891\n",
      "Precision: 0.043478260869565216\n",
      "Recall: 0.0013921113689095127\n"
     ]
    }
   ],
   "source": [
    "print('F1:',metrics.f1_score(y_test_apa, log_model_apa_pred))\n",
    "print('Accuracy:', metrics.accuracy_score(y_test_apa, log_model_apa_pred))\n",
    "print('Precision:', metrics.precision_score(y_test_apa, log_model_apa_pred))\n",
    "print('Recall:', metrics.recall_score(y_test_apa, log_model_apa_pred))"
   ]
  },
  {
   "cell_type": "markdown",
   "metadata": {},
   "source": [
    "Wheat"
   ]
  },
  {
   "cell_type": "code",
   "execution_count": 97,
   "metadata": {},
   "outputs": [
    {
     "data": {
      "text/plain": [
       "LogisticRegression(C=10, class_weight=None, dual=False, fit_intercept=True,\n",
       "          intercept_scaling=1, max_iter=100, multi_class='ovr', n_jobs=1,\n",
       "          penalty='l2', random_state=None, solver='liblinear', tol=0.0001,\n",
       "          verbose=0, warm_start=False)"
      ]
     },
     "execution_count": 97,
     "metadata": {},
     "output_type": "execute_result"
    }
   ],
   "source": [
    "log_model_wheat = LogisticRegression(C = 10)\n",
    "log_model_wheat.fit(X_train_wheat, y_train_wheat)"
   ]
  },
  {
   "cell_type": "code",
   "execution_count": 98,
   "metadata": {},
   "outputs": [
    {
     "name": "stdout",
     "output_type": "stream",
     "text": [
      "Train Accuracy: 0.9101473705718591 Test Accuracy:  0.9122765196662693\n"
     ]
    }
   ],
   "source": [
    "print('Train Accuracy:',log_model_wheat.score(X_train_wheat, y_train_wheat), 'Test Accuracy: ',log_model_wheat.score(X_test_wheat, y_test_wheat))"
   ]
  },
  {
   "cell_type": "code",
   "execution_count": 99,
   "metadata": {},
   "outputs": [
    {
     "data": {
      "text/plain": [
       "0.5325403277072227"
      ]
     },
     "execution_count": 99,
     "metadata": {},
     "output_type": "execute_result"
    }
   ],
   "source": [
    "log_model_wheat_pred = log_model_wheat.predict(X_test_wheat)\n",
    "roc_auc_score(y_test_wheat, log_model_wheat_pred)"
   ]
  },
  {
   "cell_type": "code",
   "execution_count": 100,
   "metadata": {},
   "outputs": [
    {
     "name": "stdout",
     "output_type": "stream",
     "text": [
      "F1: 0.1279620853080569\n",
      "Accuracy: 0.9122765196662693\n",
      "Precision: 0.31671554252199413\n",
      "Recall: 0.0801781737193764\n"
     ]
    }
   ],
   "source": [
    "print('F1:',metrics.f1_score(y_test_wheat, log_model_wheat_pred))\n",
    "print('Accuracy:', metrics.accuracy_score(y_test_wheat, log_model_wheat_pred))\n",
    "print('Precision:', metrics.precision_score(y_test_wheat, log_model_wheat_pred))\n",
    "print('Recall:', metrics.recall_score(y_test_wheat, log_model_wheat_pred))"
   ]
  },
  {
   "cell_type": "markdown",
   "metadata": {},
   "source": [
    "Pilsner"
   ]
  },
  {
   "cell_type": "code",
   "execution_count": 101,
   "metadata": {
    "scrolled": true
   },
   "outputs": [
    {
     "data": {
      "text/plain": [
       "LogisticRegression(C=10, class_weight=None, dual=False, fit_intercept=True,\n",
       "          intercept_scaling=1, max_iter=100, multi_class='ovr', n_jobs=1,\n",
       "          penalty='l2', random_state=None, solver='liblinear', tol=0.0001,\n",
       "          verbose=0, warm_start=False)"
      ]
     },
     "execution_count": 101,
     "metadata": {},
     "output_type": "execute_result"
    }
   ],
   "source": [
    "log_model_pilsner = LogisticRegression(C = 10)\n",
    "log_model_pilsner.fit(X_train_pilsner, y_train_pilsner)"
   ]
  },
  {
   "cell_type": "code",
   "execution_count": 102,
   "metadata": {},
   "outputs": [
    {
     "name": "stdout",
     "output_type": "stream",
     "text": [
      "Train Accuracy: 0.9818660128214952 Test Accuracy:  0.9824791418355184\n"
     ]
    }
   ],
   "source": [
    "print('Train Accuracy:',log_model_saison.score(X_train_pilsner, y_train_pilsner), 'Test Accuracy: ',log_model_pilsner.score(X_test_pilsner, y_test_pilsner))"
   ]
  },
  {
   "cell_type": "code",
   "execution_count": 103,
   "metadata": {},
   "outputs": [
    {
     "data": {
      "text/plain": [
       "0.4999090302625993"
      ]
     },
     "execution_count": 103,
     "metadata": {},
     "output_type": "execute_result"
    }
   ],
   "source": [
    "log_model_pilsner_pred = log_model_pilsner.predict(X_test_pilsner)\n",
    "roc_auc_score(y_test_pilsner, log_model_pilsner_pred)"
   ]
  },
  {
   "cell_type": "code",
   "execution_count": 104,
   "metadata": {},
   "outputs": [
    {
     "name": "stdout",
     "output_type": "stream",
     "text": [
      "F1: 0.0\n",
      "Accuracy: 0.9824791418355184\n",
      "Precision: 0.0\n",
      "Recall: 0.0\n"
     ]
    }
   ],
   "source": [
    "print('F1:',metrics.f1_score(y_test_pilsner, log_model_pilsner_pred))\n",
    "print('Accuracy:', metrics.accuracy_score(y_test_pilsner, log_model_pilsner_pred))\n",
    "print('Precision:', metrics.precision_score(y_test_pilsner, log_model_pilsner_pred))\n",
    "print('Recall:', metrics.recall_score(y_test_pilsner, log_model_pilsner_pred))"
   ]
  },
  {
   "cell_type": "markdown",
   "metadata": {},
   "source": [
    "**K-Nearest Neighbor**"
   ]
  },
  {
   "cell_type": "code",
   "execution_count": 105,
   "metadata": {},
   "outputs": [
    {
     "name": "stdout",
     "output_type": "stream",
     "text": [
      "[0.47324683254864724, 0.4772285236074678, 0.5042514803600084, 0.5221307076418574, 0.5294365556788329, 0.5357199793742055, 0.5393200670475176, 0.5435837913964414, 0.5481298346009484, 0.549533781343368, 0.5529053857193303, 0.5533399781903399, 0.5556123681254055, 0.5576055018331897]\n"
     ]
    }
   ],
   "source": [
    "k_range = list(range(1,15))\n",
    "k_scores = []\n",
    "\n",
    "for k in k_range:\n",
    "    knn = KNeighborsClassifier(n_neighbors=k)\n",
    "    scores = cross_val_score(knn, X_train, y_train, cv=10, scoring = 'accuracy')\n",
    "    k_scores.append(scores.mean())\n",
    "    \n",
    "print(k_scores)"
   ]
  },
  {
   "cell_type": "code",
   "execution_count": 106,
   "metadata": {},
   "outputs": [
    {
     "data": {
      "text/plain": [
       "KNeighborsClassifier(algorithm='auto', leaf_size=30, metric='minkowski',\n",
       "           metric_params=None, n_jobs=1, n_neighbors=15, p=2,\n",
       "           weights='uniform')"
      ]
     },
     "execution_count": 106,
     "metadata": {},
     "output_type": "execute_result"
    }
   ],
   "source": [
    "knn_model = KNeighborsClassifier(n_neighbors = 15) #selected 15 neighobrs from above\n",
    "\n",
    "knn_model.fit(X_train, y_train)"
   ]
  },
  {
   "cell_type": "code",
   "execution_count": 107,
   "metadata": {},
   "outputs": [],
   "source": [
    "knn_pred = knn_model.predict(X_test)"
   ]
  },
  {
   "cell_type": "code",
   "execution_count": 108,
   "metadata": {},
   "outputs": [
    {
     "data": {
      "text/plain": [
       "0.5638855780691299"
      ]
     },
     "execution_count": 108,
     "metadata": {},
     "output_type": "execute_result"
    }
   ],
   "source": [
    "knn_model.score(X_test, y_test)"
   ]
  },
  {
   "cell_type": "code",
   "execution_count": 109,
   "metadata": {},
   "outputs": [
    {
     "data": {
      "text/plain": [
       "0.5638855780691299"
      ]
     },
     "execution_count": 109,
     "metadata": {},
     "output_type": "execute_result"
    }
   ],
   "source": [
    "metrics.accuracy_score(y_test, knn_pred)"
   ]
  },
  {
   "cell_type": "code",
   "execution_count": 1225,
   "metadata": {},
   "outputs": [],
   "source": [
    "knn_confusion = confusion_matrix(y_test, knn_pred)"
   ]
  },
  {
   "cell_type": "code",
   "execution_count": 1226,
   "metadata": {},
   "outputs": [
    {
     "data": {
      "text/plain": [
       "Text(0.5,1,'KNN Confusion Matrix')"
      ]
     },
     "execution_count": 1226,
     "metadata": {},
     "output_type": "execute_result"
    },
    {
     "data": {
      "image/png": "[encoded data removed]",
      "text/plain": [
       "<Figure size 1000x1000 with 2 Axes>"
      ]
     },
     "metadata": {},
     "output_type": "display_data"
    }
   ],
   "source": [
    "plt.figure(figsize = (10,10),dpi = 100)\n",
    "sns.heatmap(knn_confusion, cmap= plt.cm.Blues, annot = True, square = True, xticklabels = style_list, yticklabels = style_list)\n",
    "\n",
    "plt.xlabel('Predicted Beer Style')\n",
    "plt.ylabel('Actual Beer Style')\n",
    "plt.title(\"KNN Confusion Matrix\")"
   ]
  },
  {
   "cell_type": "code",
   "execution_count": 630,
   "metadata": {},
   "outputs": [],
   "source": [
    "k_range = (10,100)\n",
    "\n",
    "grid_param = dict(n_neighbors = k_range)\n",
    "grid = GridSearchCV(knn, grid_param, cv = 10, scoring = 'accuracy')"
   ]
  },
  {
   "cell_type": "code",
   "execution_count": 631,
   "metadata": {},
   "outputs": [
    {
     "data": {
      "text/plain": [
       "GridSearchCV(cv=10, error_score='raise',\n",
       "       estimator=KNeighborsClassifier(algorithm='auto', leaf_size=30, metric='minkowski',\n",
       "           metric_params=None, n_jobs=1, n_neighbors=14, p=2,\n",
       "           weights='uniform'),\n",
       "       fit_params=None, iid=True, n_jobs=1,\n",
       "       param_grid={'n_neighbors': (10, 100)}, pre_dispatch='2*n_jobs',\n",
       "       refit=True, return_train_score='warn', scoring='accuracy',\n",
       "       verbose=0)"
      ]
     },
     "execution_count": 631,
     "metadata": {},
     "output_type": "execute_result"
    }
   ],
   "source": [
    "grid.fit(X, y)"
   ]
  },
  {
   "cell_type": "code",
   "execution_count": 632,
   "metadata": {},
   "outputs": [
    {
     "name": "stderr",
     "output_type": "stream",
     "text": [
      "/anaconda3/lib/python3.6/site-packages/sklearn/model_selection/_search.py:761: DeprecationWarning: The grid_scores_ attribute was deprecated in version 0.18 in favor of the more elaborate cv_results_ attribute. The grid_scores_ attribute will not be available from 0.20\n",
      "  DeprecationWarning)\n"
     ]
    },
    {
     "data": {
      "text/plain": [
       "[mean: 0.55543, std: 0.00911, params: {'n_neighbors': 10},\n",
       " mean: 0.56870, std: 0.01061, params: {'n_neighbors': 100}]"
      ]
     },
     "execution_count": 632,
     "metadata": {},
     "output_type": "execute_result"
    }
   ],
   "source": [
    "grid.grid_scores_"
   ]
  },
  {
   "cell_type": "code",
   "execution_count": 633,
   "metadata": {},
   "outputs": [
    {
     "data": {
      "text/plain": [
       "0.5686982639944219"
      ]
     },
     "execution_count": 633,
     "metadata": {},
     "output_type": "execute_result"
    }
   ],
   "source": [
    "grid.best_score_"
   ]
  },
  {
   "cell_type": "code",
   "execution_count": 634,
   "metadata": {
    "scrolled": true
   },
   "outputs": [
    {
     "data": {
      "text/plain": [
       "{'n_neighbors': 100}"
      ]
     },
     "execution_count": 634,
     "metadata": {},
     "output_type": "execute_result"
    }
   ],
   "source": [
    "grid.best_params_"
   ]
  },
  {
   "cell_type": "code",
   "execution_count": 635,
   "metadata": {},
   "outputs": [
    {
     "data": {
      "text/plain": [
       "KNeighborsClassifier(algorithm='auto', leaf_size=30, metric='minkowski',\n",
       "           metric_params=None, n_jobs=1, n_neighbors=100, p=2,\n",
       "           weights='uniform')"
      ]
     },
     "execution_count": 635,
     "metadata": {},
     "output_type": "execute_result"
    }
   ],
   "source": [
    "grid.best_estimator_"
   ]
  },
  {
   "cell_type": "code",
   "execution_count": 123,
   "metadata": {},
   "outputs": [
    {
     "name": "stdout",
     "output_type": "stream",
     "text": [
      "KNN Accuracy: 0.5638855780691299 \n",
      "Logistic Regression Accuracy: 0.5283075089392133\n"
     ]
    }
   ],
   "source": [
    "print(\"KNN Accuracy:\",knn_model.score(X_test, y_test),'\\n'\n",
    "      \"Logistic Regression Accuracy:\",log_model.score(X_test, y_test))"
   ]
  },
  {
   "cell_type": "markdown",
   "metadata": {},
   "source": [
    "IPA"
   ]
  },
  {
   "cell_type": "code",
   "execution_count": 124,
   "metadata": {},
   "outputs": [],
   "source": [
    "#Input styles here:\n",
    "\n",
    "y_test_style = y_test_ipa\n",
    "X_test_style = X_test_ipa\n",
    "\n",
    "y_train_style = y_train_ipa\n",
    "X_train_style = X_train_ipa"
   ]
  },
  {
   "cell_type": "code",
   "execution_count": 125,
   "metadata": {},
   "outputs": [
    {
     "data": {
      "text/plain": [
       "KNeighborsClassifier(algorithm='auto', leaf_size=30, metric='minkowski',\n",
       "           metric_params=None, n_jobs=1, n_neighbors=15, p=2,\n",
       "           weights='uniform')"
      ]
     },
     "execution_count": 125,
     "metadata": {},
     "output_type": "execute_result"
    }
   ],
   "source": [
    "knn_model_ipa = KNeighborsClassifier(n_neighbors = 15)\n",
    "knn_model_ipa.fit(X_train_style, y_train_style)"
   ]
  },
  {
   "cell_type": "code",
   "execution_count": 126,
   "metadata": {},
   "outputs": [
    {
     "name": "stdout",
     "output_type": "stream",
     "text": [
      "Train Accuracy: 0.8669833729216152 Test Accuracy:  0.8530393325387365\n"
     ]
    }
   ],
   "source": [
    "print('Train Accuracy:',knn_model_ipa.score(X_train_style, y_train_style), 'Test Accuracy: ',knn_model_ipa.score(X_test_style, y_test_style))"
   ]
  },
  {
   "cell_type": "code",
   "execution_count": 127,
   "metadata": {},
   "outputs": [
    {
     "data": {
      "text/plain": [
       "0.8204210758656477"
      ]
     },
     "execution_count": 127,
     "metadata": {},
     "output_type": "execute_result"
    }
   ],
   "source": [
    "knn_model_ipa_pred = knn_model_ipa.predict(X_test_style)\n",
    "roc_auc_score(y_test_style, knn_model_ipa_pred)"
   ]
  },
  {
   "cell_type": "code",
   "execution_count": 128,
   "metadata": {},
   "outputs": [
    {
     "name": "stdout",
     "output_type": "stream",
     "text": [
      "KNN ROC Score better than Logistic Regression\n"
     ]
    }
   ],
   "source": [
    "if roc_auc_score(y_test_style, knn_model_ipa_pred)>roc_auc_score(y_test_style, log_model_ipa_pred):\n",
    "    print(\"KNN ROC Score better than Logistic Regression\")\n",
    "else:\n",
    "    print(\"Logistic Regression ROC Score better than KNN\")"
   ]
  },
  {
   "cell_type": "code",
   "execution_count": 129,
   "metadata": {},
   "outputs": [
    {
     "name": "stdout",
     "output_type": "stream",
     "text": [
      "F1: 0.7505058680696075\n",
      "Accuracy: 0.8530393325387365\n",
      "Precision: 0.7620710910211629\n",
      "Recall: 0.7392864261510863\n"
     ]
    }
   ],
   "source": [
    "print('F1:',metrics.f1_score(y_test_style, knn_model_ipa_pred))\n",
    "print('Accuracy:', metrics.accuracy_score(y_test_style, knn_model_ipa_pred))\n",
    "print('Precision:', metrics.precision_score(y_test_style, knn_model_ipa_pred))\n",
    "print('Recall:', metrics.recall_score(y_test_style, knn_model_ipa_pred))"
   ]
  },
  {
   "cell_type": "markdown",
   "metadata": {},
   "source": [
    "Lager"
   ]
  },
  {
   "cell_type": "code",
   "execution_count": 130,
   "metadata": {},
   "outputs": [],
   "source": [
    "#Input styles here:\n",
    "\n",
    "y_test_style = y_test_lager\n",
    "X_test_style = X_test_lager\n",
    "\n",
    "y_train_style = y_train_lager\n",
    "X_train_style = X_train_lager"
   ]
  },
  {
   "cell_type": "code",
   "execution_count": 131,
   "metadata": {},
   "outputs": [
    {
     "data": {
      "text/plain": [
       "KNeighborsClassifier(algorithm='auto', leaf_size=30, metric='minkowski',\n",
       "           metric_params=None, n_jobs=1, n_neighbors=15, p=2,\n",
       "           weights='uniform')"
      ]
     },
     "execution_count": 131,
     "metadata": {},
     "output_type": "execute_result"
    }
   ],
   "source": [
    "knn_model_lager = KNeighborsClassifier(n_neighbors = 15)\n",
    "knn_model_lager.fit(X_train_style, y_train_style)"
   ]
  },
  {
   "cell_type": "code",
   "execution_count": 132,
   "metadata": {},
   "outputs": [
    {
     "name": "stdout",
     "output_type": "stream",
     "text": [
      "Train Accuracy: 0.9287410926365796 Test Accuracy:  0.9286054827175209\n"
     ]
    }
   ],
   "source": [
    "print('Train Accuracy:',knn_model_lager.score(X_train_style, y_train_style), 'Test Accuracy: ',knn_model_lager.score(X_test_style, y_test_style))"
   ]
  },
  {
   "cell_type": "code",
   "execution_count": 133,
   "metadata": {},
   "outputs": [
    {
     "data": {
      "text/plain": [
       "0.5197637726354744"
      ]
     },
     "execution_count": 133,
     "metadata": {},
     "output_type": "execute_result"
    }
   ],
   "source": [
    "knn_model_lager_pred = knn_model_lager.predict(X_test_style)\n",
    "roc_auc_score(y_test_style, knn_model_lager_pred)"
   ]
  },
  {
   "cell_type": "code",
   "execution_count": 134,
   "metadata": {},
   "outputs": [
    {
     "name": "stdout",
     "output_type": "stream",
     "text": [
      "KNN ROC Score better than Logistic Regression\n"
     ]
    }
   ],
   "source": [
    "if roc_auc_score(y_test_style, knn_model_lager_pred)>roc_auc_score(y_test_style, log_model_lager_pred):\n",
    "    print(\"KNN ROC Score better than Logistic Regression\")\n",
    "else:\n",
    "    print(\"Logistic Regression ROC Score better than KNN\")"
   ]
  },
  {
   "cell_type": "code",
   "execution_count": 135,
   "metadata": {},
   "outputs": [
    {
     "name": "stdout",
     "output_type": "stream",
     "text": [
      "F1: 0.07846153846153847\n",
      "Accuracy: 0.9286054827175209\n",
      "Precision: 0.5425531914893617\n",
      "Recall: 0.04228855721393035\n"
     ]
    }
   ],
   "source": [
    "print('F1:',metrics.f1_score(y_test_style, knn_model_lager_pred))\n",
    "print('Accuracy:', metrics.accuracy_score(y_test_style, knn_model_lager_pred))\n",
    "print('Precision:', metrics.precision_score(y_test_style, knn_model_lager_pred))\n",
    "print('Recall:', metrics.recall_score(y_test_style, knn_model_lager_pred))"
   ]
  },
  {
   "cell_type": "markdown",
   "metadata": {},
   "source": [
    "Stout"
   ]
  },
  {
   "cell_type": "code",
   "execution_count": 136,
   "metadata": {},
   "outputs": [],
   "source": [
    "#Input styles here:\n",
    "\n",
    "y_test_style = y_test_stout\n",
    "X_test_style = X_test_stout\n",
    "\n",
    "y_train_style = y_train_stout\n",
    "X_train_style = X_train_stout"
   ]
  },
  {
   "cell_type": "code",
   "execution_count": 137,
   "metadata": {},
   "outputs": [
    {
     "data": {
      "text/plain": [
       "KNeighborsClassifier(algorithm='auto', leaf_size=30, metric='minkowski',\n",
       "           metric_params=None, n_jobs=1, n_neighbors=15, p=2,\n",
       "           weights='uniform')"
      ]
     },
     "execution_count": 137,
     "metadata": {},
     "output_type": "execute_result"
    }
   ],
   "source": [
    "knn_model_stout = KNeighborsClassifier(n_neighbors = 15)\n",
    "knn_model_stout.fit(X_train_style, y_train_style)"
   ]
  },
  {
   "cell_type": "code",
   "execution_count": 138,
   "metadata": {},
   "outputs": [
    {
     "name": "stdout",
     "output_type": "stream",
     "text": [
      "Train Accuracy: 0.9459045283886293 Test Accuracy:  0.9389749702026222\n"
     ]
    }
   ],
   "source": [
    "print('Train Accuracy:',knn_model_stout.score(X_train_style, y_train_style), 'Test Accuracy: ',knn_model_stout.score(X_test_style, y_test_style))"
   ]
  },
  {
   "cell_type": "code",
   "execution_count": 139,
   "metadata": {},
   "outputs": [
    {
     "data": {
      "text/plain": [
       "0.8440026613439787"
      ]
     },
     "execution_count": 139,
     "metadata": {},
     "output_type": "execute_result"
    }
   ],
   "source": [
    "knn_model_stout_pred = knn_model_stout.predict(X_test_style)\n",
    "roc_auc_score(y_test_style, knn_model_stout_pred)"
   ]
  },
  {
   "cell_type": "code",
   "execution_count": 140,
   "metadata": {},
   "outputs": [
    {
     "name": "stdout",
     "output_type": "stream",
     "text": [
      "KNN ROC Score better than Logistic Regression\n"
     ]
    }
   ],
   "source": [
    "if roc_auc_score(y_test_style, knn_model_stout_pred)>roc_auc_score(y_test_style, log_model_stout_pred):\n",
    "    print(\"KNN ROC Score better than Logistic Regression\")\n",
    "else:\n",
    "    print(\"Logistic Regression ROC Score better than KNN\")"
   ]
  },
  {
   "cell_type": "code",
   "execution_count": 141,
   "metadata": {},
   "outputs": [
    {
     "name": "stdout",
     "output_type": "stream",
     "text": [
      "F1: 0.7121978639685216\n",
      "Accuracy: 0.9389749702026222\n",
      "Precision: 0.7007743362831859\n",
      "Recall: 0.724\n"
     ]
    }
   ],
   "source": [
    "print('F1:',metrics.f1_score(y_test_style, knn_model_stout_pred))\n",
    "print('Accuracy:', metrics.accuracy_score(y_test_style, knn_model_stout_pred))\n",
    "print('Precision:', metrics.precision_score(y_test_style, knn_model_stout_pred))\n",
    "print('Recall:', metrics.recall_score(y_test_style, knn_model_stout_pred))"
   ]
  },
  {
   "cell_type": "markdown",
   "metadata": {},
   "source": [
    "Porter"
   ]
  },
  {
   "cell_type": "code",
   "execution_count": 142,
   "metadata": {},
   "outputs": [],
   "source": [
    "#Input styles here:\n",
    "\n",
    "y_test_style = y_test_porter\n",
    "X_test_style = X_test_porter\n",
    "\n",
    "y_train_style = y_train_porter\n",
    "X_train_style = X_train_porter"
   ]
  },
  {
   "cell_type": "code",
   "execution_count": 143,
   "metadata": {},
   "outputs": [
    {
     "data": {
      "text/plain": [
       "KNeighborsClassifier(algorithm='auto', leaf_size=30, metric='minkowski',\n",
       "           metric_params=None, n_jobs=1, n_neighbors=15, p=2,\n",
       "           weights='uniform')"
      ]
     },
     "execution_count": 143,
     "metadata": {},
     "output_type": "execute_result"
    }
   ],
   "source": [
    "knn_model_porter = KNeighborsClassifier(n_neighbors = 15)\n",
    "knn_model_porter.fit(X_train_style, y_train_style)"
   ]
  },
  {
   "cell_type": "code",
   "execution_count": 144,
   "metadata": {},
   "outputs": [
    {
     "name": "stdout",
     "output_type": "stream",
     "text": [
      "Train Accuracy: 0.9564784307715883 Test Accuracy:  0.9533969010727056\n"
     ]
    }
   ],
   "source": [
    "print('Train Accuracy:',knn_model_porter.score(X_train_style, y_train_style), 'Test Accuracy: ',knn_model_porter.score(X_test_style, y_test_style))"
   ]
  },
  {
   "cell_type": "code",
   "execution_count": 145,
   "metadata": {},
   "outputs": [
    {
     "data": {
      "text/plain": [
       "0.551206446689056"
      ]
     },
     "execution_count": 145,
     "metadata": {},
     "output_type": "execute_result"
    }
   ],
   "source": [
    "knn_model_porter_pred = knn_model_porter.predict(X_test_style)\n",
    "roc_auc_score(y_test_style, knn_model_porter_pred)"
   ]
  },
  {
   "cell_type": "code",
   "execution_count": 146,
   "metadata": {},
   "outputs": [
    {
     "name": "stdout",
     "output_type": "stream",
     "text": [
      "KNN ROC Score better than Logistic Regression\n"
     ]
    }
   ],
   "source": [
    "if roc_auc_score(y_test_style, knn_model_porter_pred)>roc_auc_score(y_test_style, log_model_porter_pred):\n",
    "    print(\"KNN ROC Score better than Logistic Regression\")\n",
    "else:\n",
    "    print(\"Logistic Regression ROC Score better than KNN\")"
   ]
  },
  {
   "cell_type": "code",
   "execution_count": 147,
   "metadata": {},
   "outputs": [
    {
     "name": "stdout",
     "output_type": "stream",
     "text": [
      "F1: 0.1751054852320675\n",
      "Accuracy: 0.9533969010727056\n",
      "Precision: 0.4486486486486487\n",
      "Recall: 0.10878112712975098\n"
     ]
    }
   ],
   "source": [
    "print('F1:',metrics.f1_score(y_test_style, knn_model_porter_pred))\n",
    "print('Accuracy:', metrics.accuracy_score(y_test_style, knn_model_porter_pred))\n",
    "print('Precision:', metrics.precision_score(y_test_style, knn_model_porter_pred))\n",
    "print('Recall:', metrics.recall_score(y_test_style, knn_model_porter_pred))"
   ]
  },
  {
   "cell_type": "markdown",
   "metadata": {},
   "source": [
    "Saison"
   ]
  },
  {
   "cell_type": "code",
   "execution_count": 148,
   "metadata": {},
   "outputs": [],
   "source": [
    "#Input styles here:\n",
    "\n",
    "y_test_style = y_test_saison\n",
    "X_test_style = X_test_saison\n",
    "\n",
    "y_train_style = y_train_saison\n",
    "X_train_style = X_train_saison"
   ]
  },
  {
   "cell_type": "code",
   "execution_count": 149,
   "metadata": {},
   "outputs": [
    {
     "data": {
      "text/plain": [
       "KNeighborsClassifier(algorithm='auto', leaf_size=30, metric='minkowski',\n",
       "           metric_params=None, n_jobs=1, n_neighbors=15, p=2,\n",
       "           weights='uniform')"
      ]
     },
     "execution_count": 149,
     "metadata": {},
     "output_type": "execute_result"
    }
   ],
   "source": [
    "knn_model_saison = KNeighborsClassifier(n_neighbors = 15)\n",
    "knn_model_saison.fit(X_train_style, y_train_style)"
   ]
  },
  {
   "cell_type": "code",
   "execution_count": 150,
   "metadata": {},
   "outputs": [
    {
     "name": "stdout",
     "output_type": "stream",
     "text": [
      "Train Accuracy: 0.95443516461063 Test Accuracy:  0.9554231227651967\n"
     ]
    }
   ],
   "source": [
    "print('Train Accuracy:',knn_model_saison.score(X_train_style, y_train_style), 'Test Accuracy: ',knn_model_saison.score(X_test_style, y_test_style))"
   ]
  },
  {
   "cell_type": "code",
   "execution_count": 151,
   "metadata": {},
   "outputs": [
    {
     "data": {
      "text/plain": [
       "0.5044359228635784"
      ]
     },
     "execution_count": 151,
     "metadata": {},
     "output_type": "execute_result"
    }
   ],
   "source": [
    "knn_model_saison_pred = knn_model_saison.predict(X_test_style)\n",
    "roc_auc_score(y_test_style, knn_model_saison_pred)"
   ]
  },
  {
   "cell_type": "code",
   "execution_count": 152,
   "metadata": {},
   "outputs": [
    {
     "name": "stdout",
     "output_type": "stream",
     "text": [
      "KNN ROC Score better than Logistic Regression\n"
     ]
    }
   ],
   "source": [
    "if roc_auc_score(y_test_style, knn_model_saison_pred)>roc_auc_score(y_test_style, log_model_saison_pred):\n",
    "    print(\"KNN ROC Score better than Logistic Regression\")\n",
    "else:\n",
    "    print(\"Logistic Regression ROC Score better than KNN\")"
   ]
  },
  {
   "cell_type": "code",
   "execution_count": 153,
   "metadata": {},
   "outputs": [
    {
     "name": "stdout",
     "output_type": "stream",
     "text": [
      "F1: 0.01837270341207349\n",
      "Accuracy: 0.9554231227651967\n",
      "Precision: 0.4666666666666667\n",
      "Recall: 0.009370816599732263\n"
     ]
    }
   ],
   "source": [
    "print('F1:',metrics.f1_score(y_test_style, knn_model_saison_pred))\n",
    "print('Accuracy:', metrics.accuracy_score(y_test_style, knn_model_saison_pred))\n",
    "print('Precision:', metrics.precision_score(y_test_style, knn_model_saison_pred))\n",
    "print('Recall:', metrics.recall_score(y_test_style, knn_model_saison_pred))"
   ]
  },
  {
   "cell_type": "markdown",
   "metadata": {},
   "source": [
    "Kolsch"
   ]
  },
  {
   "cell_type": "code",
   "execution_count": 154,
   "metadata": {},
   "outputs": [],
   "source": [
    "#Input styles here:\n",
    "\n",
    "y_test_style = y_test_kolsch\n",
    "X_test_style = X_test_kolsch\n",
    "\n",
    "y_train_style = y_train_kolsch\n",
    "X_train_style = X_train_kolsch"
   ]
  },
  {
   "cell_type": "code",
   "execution_count": 155,
   "metadata": {},
   "outputs": [
    {
     "data": {
      "text/plain": [
       "KNeighborsClassifier(algorithm='auto', leaf_size=30, metric='minkowski',\n",
       "           metric_params=None, n_jobs=1, n_neighbors=15, p=2,\n",
       "           weights='uniform')"
      ]
     },
     "execution_count": 155,
     "metadata": {},
     "output_type": "execute_result"
    }
   ],
   "source": [
    "knn_model_kolsch = KNeighborsClassifier(n_neighbors = 15)\n",
    "knn_model_kolsch.fit(X_train_style, y_train_style)"
   ]
  },
  {
   "cell_type": "code",
   "execution_count": 156,
   "metadata": {},
   "outputs": [
    {
     "name": "stdout",
     "output_type": "stream",
     "text": [
      "Train Accuracy: 0.9848542895818967 Test Accuracy:  0.9852205005959476\n"
     ]
    }
   ],
   "source": [
    "print('Train Accuracy:',knn_model_kolsch.score(X_train_style, y_train_style), 'Test Accuracy: ',knn_model_kolsch.score(X_test_style, y_test_style))"
   ]
  },
  {
   "cell_type": "code",
   "execution_count": 157,
   "metadata": {},
   "outputs": [
    {
     "data": {
      "text/plain": [
       "0.5019858846577118"
      ]
     },
     "execution_count": 157,
     "metadata": {},
     "output_type": "execute_result"
    }
   ],
   "source": [
    "knn_model_kolsch_pred = knn_model_kolsch.predict(X_test_style)\n",
    "roc_auc_score(y_test_style, knn_model_kolsch_pred)"
   ]
  },
  {
   "cell_type": "code",
   "execution_count": 158,
   "metadata": {},
   "outputs": [
    {
     "name": "stdout",
     "output_type": "stream",
     "text": [
      "KNN ROC Score better than Logistic Regression\n"
     ]
    }
   ],
   "source": [
    "if roc_auc_score(y_test_style, knn_model_kolsch_pred)>roc_auc_score(y_test_style, log_model_kolsch_pred):\n",
    "    print(\"KNN ROC Score better than Logistic Regression\")\n",
    "else:\n",
    "    print(\"Logistic Regression ROC Score better than KNN\") "
   ]
  },
  {
   "cell_type": "code",
   "execution_count": 159,
   "metadata": {},
   "outputs": [
    {
     "name": "stdout",
     "output_type": "stream",
     "text": [
      "F1: 0.008\n",
      "Accuracy: 0.9852205005959476\n",
      "Precision: 0.5\n",
      "Recall: 0.004032258064516129\n"
     ]
    }
   ],
   "source": [
    "print('F1:',metrics.f1_score(y_test_style, knn_model_kolsch_pred))\n",
    "print('Accuracy:', metrics.accuracy_score(y_test_style, knn_model_kolsch_pred))\n",
    "print('Precision:', metrics.precision_score(y_test_style, knn_model_kolsch_pred))\n",
    "print('Recall:', metrics.recall_score(y_test_style, knn_model_kolsch_pred))"
   ]
  },
  {
   "cell_type": "markdown",
   "metadata": {},
   "source": [
    "Ale"
   ]
  },
  {
   "cell_type": "code",
   "execution_count": 160,
   "metadata": {},
   "outputs": [],
   "source": [
    "#Input styles here:\n",
    "\n",
    "y_test_style = y_test_ale\n",
    "X_test_style = X_test_ale\n",
    "\n",
    "y_train_style = y_train_ale\n",
    "X_train_style = X_train_ale"
   ]
  },
  {
   "cell_type": "code",
   "execution_count": 161,
   "metadata": {},
   "outputs": [
    {
     "data": {
      "text/plain": [
       "KNeighborsClassifier(algorithm='auto', leaf_size=30, metric='minkowski',\n",
       "           metric_params=None, n_jobs=1, n_neighbors=15, p=2,\n",
       "           weights='uniform')"
      ]
     },
     "execution_count": 161,
     "metadata": {},
     "output_type": "execute_result"
    }
   ],
   "source": [
    "knn_model_ale = KNeighborsClassifier(n_neighbors = 15)\n",
    "knn_model_ale.fit(X_train_style, y_train_style)"
   ]
  },
  {
   "cell_type": "code",
   "execution_count": 162,
   "metadata": {},
   "outputs": [
    {
     "name": "stdout",
     "output_type": "stream",
     "text": [
      "Train Accuracy: 0.8533956529512425 Test Accuracy:  0.8395113230035757\n"
     ]
    }
   ],
   "source": [
    "print('Train Accuracy:',knn_model_ale.score(X_train_style, y_train_style), 'Test Accuracy: ',knn_model_ale.score(X_test_style, y_test_style))"
   ]
  },
  {
   "cell_type": "code",
   "execution_count": 163,
   "metadata": {},
   "outputs": [
    {
     "data": {
      "text/plain": [
       "0.6463837244116747"
      ]
     },
     "execution_count": 163,
     "metadata": {},
     "output_type": "execute_result"
    }
   ],
   "source": [
    "knn_model_ale_pred = knn_model_ale.predict(X_test_style)\n",
    "roc_auc_score(y_test_style, knn_model_ale_pred)"
   ]
  },
  {
   "cell_type": "code",
   "execution_count": 164,
   "metadata": {},
   "outputs": [
    {
     "name": "stdout",
     "output_type": "stream",
     "text": [
      "KNN ROC Score better than Logistic Regression\n"
     ]
    }
   ],
   "source": [
    "if roc_auc_score(y_test_style, knn_model_ale_pred)>roc_auc_score(y_test_style, log_model_ale_pred):\n",
    "    print(\"KNN ROC Score better than Logistic Regression\")\n",
    "else:\n",
    "    print(\"Logistic Regression ROC Score better than KNN\")"
   ]
  },
  {
   "cell_type": "code",
   "execution_count": 165,
   "metadata": {},
   "outputs": [
    {
     "name": "stdout",
     "output_type": "stream",
     "text": [
      "F1: 0.4443985970703528\n",
      "Accuracy: 0.8395113230035757\n",
      "Precision: 0.6769327467001885\n",
      "Recall: 0.3307739557739558\n"
     ]
    }
   ],
   "source": [
    "print('F1:',metrics.f1_score(y_test_style, knn_model_ale_pred))\n",
    "print('Accuracy:', metrics.accuracy_score(y_test_style, knn_model_ale_pred))\n",
    "print('Precision:', metrics.precision_score(y_test_style, knn_model_ale_pred))\n",
    "print('Recall:', metrics.recall_score(y_test_style, knn_model_ale_pred))"
   ]
  },
  {
   "cell_type": "markdown",
   "metadata": {},
   "source": [
    "APA"
   ]
  },
  {
   "cell_type": "code",
   "execution_count": 166,
   "metadata": {},
   "outputs": [],
   "source": [
    "#Input styles here:\n",
    "\n",
    "y_test_style = y_test_apa\n",
    "X_test_style = X_test_apa\n",
    "\n",
    "y_train_style = y_train_apa\n",
    "X_train_style = X_train_apa"
   ]
  },
  {
   "cell_type": "code",
   "execution_count": 167,
   "metadata": {},
   "outputs": [
    {
     "data": {
      "text/plain": [
       "KNeighborsClassifier(algorithm='auto', leaf_size=30, metric='minkowski',\n",
       "           metric_params=None, n_jobs=1, n_neighbors=15, p=2,\n",
       "           weights='uniform')"
      ]
     },
     "execution_count": 167,
     "metadata": {},
     "output_type": "execute_result"
    }
   ],
   "source": [
    "knn_model_apa = KNeighborsClassifier(n_neighbors = 15)\n",
    "knn_model_apa.fit(X_train_style, y_train_style)"
   ]
  },
  {
   "cell_type": "code",
   "execution_count": 168,
   "metadata": {},
   "outputs": [
    {
     "name": "stdout",
     "output_type": "stream",
     "text": [
      "Train Accuracy: 0.8842745128087247 Test Accuracy:  0.8751489868891538\n"
     ]
    }
   ],
   "source": [
    "print('Train Accuracy:',knn_model_apa.score(X_train_style, y_train_style), 'Test Accuracy: ',knn_model_apa.score(X_test_style, y_test_style))"
   ]
  },
  {
   "cell_type": "code",
   "execution_count": 169,
   "metadata": {},
   "outputs": [
    {
     "data": {
      "text/plain": [
       "0.611847224701053"
      ]
     },
     "execution_count": 169,
     "metadata": {},
     "output_type": "execute_result"
    }
   ],
   "source": [
    "knn_model_apa_pred = knn_model_apa.predict(X_test_style)\n",
    "roc_auc_score(y_test_style, knn_model_apa_pred)"
   ]
  },
  {
   "cell_type": "code",
   "execution_count": 170,
   "metadata": {},
   "outputs": [
    {
     "name": "stdout",
     "output_type": "stream",
     "text": [
      "KNN ROC Score better than Logistic Regression\n"
     ]
    }
   ],
   "source": [
    "if roc_auc_score(y_test_style, knn_model_apa_pred)>roc_auc_score(y_test_style, log_model_apa_pred):\n",
    "    print(\"KNN ROC Score better than Logistic Regression\")\n",
    "else:\n",
    "    print(\"Logistic Regression ROC Score better than KNN\")"
   ]
  },
  {
   "cell_type": "code",
   "execution_count": 171,
   "metadata": {},
   "outputs": [
    {
     "name": "stdout",
     "output_type": "stream",
     "text": [
      "F1: 0.3463338533541342\n",
      "Accuracy: 0.8751489868891538\n",
      "Precision: 0.5285714285714286\n",
      "Recall: 0.25754060324825984\n"
     ]
    }
   ],
   "source": [
    "print('F1:',metrics.f1_score(y_test_style, knn_model_apa_pred))\n",
    "print('Accuracy:', metrics.accuracy_score(y_test_style, knn_model_apa_pred))\n",
    "print('Precision:', metrics.precision_score(y_test_style, knn_model_apa_pred))\n",
    "print('Recall:', metrics.recall_score(y_test_style, knn_model_apa_pred))"
   ]
  },
  {
   "cell_type": "markdown",
   "metadata": {},
   "source": [
    "Wheat"
   ]
  },
  {
   "cell_type": "code",
   "execution_count": 172,
   "metadata": {},
   "outputs": [],
   "source": [
    "#Input styles here:\n",
    "\n",
    "y_test_style = y_test_wheat\n",
    "X_test_style = X_test_wheat\n",
    "\n",
    "y_train_style = y_train_wheat\n",
    "X_train_style = X_train_wheat"
   ]
  },
  {
   "cell_type": "code",
   "execution_count": 173,
   "metadata": {},
   "outputs": [
    {
     "data": {
      "text/plain": [
       "KNeighborsClassifier(algorithm='auto', leaf_size=30, metric='minkowski',\n",
       "           metric_params=None, n_jobs=1, n_neighbors=15, p=2,\n",
       "           weights='uniform')"
      ]
     },
     "execution_count": 173,
     "metadata": {},
     "output_type": "execute_result"
    }
   ],
   "source": [
    "knn_model_wheat = KNeighborsClassifier(n_neighbors = 15)\n",
    "knn_model_wheat.fit(X_train_style, y_train_style)"
   ]
  },
  {
   "cell_type": "code",
   "execution_count": 174,
   "metadata": {},
   "outputs": [
    {
     "name": "stdout",
     "output_type": "stream",
     "text": [
      "Train Accuracy: 0.935381707659694 Test Accuracy:  0.9302741358760429\n"
     ]
    }
   ],
   "source": [
    "print('Train Accuracy:',knn_model_wheat.score(X_train_style, y_train_style), 'Test Accuracy: ',knn_model_wheat.score(X_test_style, y_test_style))"
   ]
  },
  {
   "cell_type": "code",
   "execution_count": 175,
   "metadata": {},
   "outputs": [
    {
     "data": {
      "text/plain": [
       "0.6863133411271588"
      ]
     },
     "execution_count": 175,
     "metadata": {},
     "output_type": "execute_result"
    }
   ],
   "source": [
    "knn_model_wheat_pred = knn_model_wheat.predict(X_test_style)\n",
    "roc_auc_score(y_test_style, knn_model_wheat_pred)"
   ]
  },
  {
   "cell_type": "code",
   "execution_count": 176,
   "metadata": {},
   "outputs": [
    {
     "name": "stdout",
     "output_type": "stream",
     "text": [
      "KNN ROC Score better than Logistic Regression\n"
     ]
    }
   ],
   "source": [
    "if roc_auc_score(y_test_style, knn_model_wheat_pred)>roc_auc_score(y_test_style, log_model_wheat_pred):\n",
    "    print(\"KNN ROC Score better than Logistic Regression\")\n",
    "else:\n",
    "    print(\"Logistic Regression ROC Score better than KNN\")"
   ]
  },
  {
   "cell_type": "code",
   "execution_count": 177,
   "metadata": {},
   "outputs": [
    {
     "name": "stdout",
     "output_type": "stream",
     "text": [
      "F1: 0.47674418604651164\n",
      "Accuracy: 0.9302741358760429\n",
      "Precision: 0.5995500562429696\n",
      "Recall: 0.3956941351150705\n"
     ]
    }
   ],
   "source": [
    "print('F1:',metrics.f1_score(y_test_style, knn_model_wheat_pred))\n",
    "print('Accuracy:', metrics.accuracy_score(y_test_style, knn_model_wheat_pred))\n",
    "print('Precision:', metrics.precision_score(y_test_style, knn_model_wheat_pred))\n",
    "print('Recall:', metrics.recall_score(y_test_style, knn_model_wheat_pred))"
   ]
  },
  {
   "cell_type": "markdown",
   "metadata": {},
   "source": [
    "Pilsner"
   ]
  },
  {
   "cell_type": "code",
   "execution_count": 178,
   "metadata": {},
   "outputs": [],
   "source": [
    "#Input styles here:\n",
    "\n",
    "y_test_style = y_test_pilsner\n",
    "X_test_style = X_test_pilsner\n",
    "\n",
    "y_train_style = y_train_pilsner\n",
    "X_train_style = X_train_pilsner"
   ]
  },
  {
   "cell_type": "code",
   "execution_count": 179,
   "metadata": {},
   "outputs": [
    {
     "data": {
      "text/plain": [
       "KNeighborsClassifier(algorithm='auto', leaf_size=30, metric='minkowski',\n",
       "           metric_params=None, n_jobs=1, n_neighbors=15, p=2,\n",
       "           weights='uniform')"
      ]
     },
     "execution_count": 179,
     "metadata": {},
     "output_type": "execute_result"
    }
   ],
   "source": [
    "knn_model_pilsner = KNeighborsClassifier(n_neighbors = 15)\n",
    "knn_model_pilsner.fit(X_train_style, y_train_style)"
   ]
  },
  {
   "cell_type": "code",
   "execution_count": 180,
   "metadata": {},
   "outputs": [
    {
     "name": "stdout",
     "output_type": "stream",
     "text": [
      "Train Accuracy: 0.9824789926697827 Test Accuracy:  0.982657926102503\n"
     ]
    }
   ],
   "source": [
    "print('Train Accuracy:',knn_model_pilsner.score(X_train_style, y_train_style), 'Test Accuracy: ',knn_model_pilsner.score(X_test_style, y_test_style))"
   ]
  },
  {
   "cell_type": "code",
   "execution_count": 181,
   "metadata": {},
   "outputs": [
    {
     "data": {
      "text/plain": [
       "0.5067515592504761"
      ]
     },
     "execution_count": 181,
     "metadata": {},
     "output_type": "execute_result"
    }
   ],
   "source": [
    "knn_model_pilsner_pred = knn_model_pilsner.predict(X_test_style)\n",
    "roc_auc_score(y_test_style, knn_model_pilsner_pred)"
   ]
  },
  {
   "cell_type": "code",
   "execution_count": 182,
   "metadata": {},
   "outputs": [
    {
     "name": "stdout",
     "output_type": "stream",
     "text": [
      "KNN ROC Score better than Logistic Regression\n"
     ]
    }
   ],
   "source": [
    "if roc_auc_score(y_test_style, knn_model_pilsner_pred)>roc_auc_score(y_test_style, log_model_pilsner_pred):\n",
    "    print(\"KNN ROC Score better than Logistic Regression\")\n",
    "else:\n",
    "    print(\"Logistic Regression ROC Score better than KNN\")"
   ]
  },
  {
   "cell_type": "code",
   "execution_count": 183,
   "metadata": {},
   "outputs": [
    {
     "name": "stdout",
     "output_type": "stream",
     "text": [
      "F1: 0.026755852842809368\n",
      "Accuracy: 0.982657926102503\n",
      "Precision: 0.5\n",
      "Recall: 0.013745704467353952\n"
     ]
    }
   ],
   "source": [
    "print('F1:',metrics.f1_score(y_test_style, knn_model_pilsner_pred))\n",
    "print('Accuracy:', metrics.accuracy_score(y_test_style, knn_model_pilsner_pred))\n",
    "print('Precision:', metrics.precision_score(y_test_style, knn_model_pilsner_pred))\n",
    "print('Recall:', metrics.recall_score(y_test_style, knn_model_pilsner_pred))"
   ]
  },
  {
   "cell_type": "markdown",
   "metadata": {},
   "source": [
    "**Decision Trees**"
   ]
  },
  {
   "cell_type": "code",
   "execution_count": 184,
   "metadata": {},
   "outputs": [],
   "source": [
    "dt_model = DecisionTreeClassifier(random_state = 4444)"
   ]
  },
  {
   "cell_type": "code",
   "execution_count": 185,
   "metadata": {},
   "outputs": [
    {
     "data": {
      "text/plain": [
       "DecisionTreeClassifier(class_weight=None, criterion='gini', max_depth=None,\n",
       "            max_features=None, max_leaf_nodes=None,\n",
       "            min_impurity_decrease=0.0, min_impurity_split=None,\n",
       "            min_samples_leaf=1, min_samples_split=2,\n",
       "            min_weight_fraction_leaf=0.0, presort=False, random_state=4444,\n",
       "            splitter='best')"
      ]
     },
     "execution_count": 185,
     "metadata": {},
     "output_type": "execute_result"
    }
   ],
   "source": [
    "dt_model.fit(X_train, y_train)"
   ]
  },
  {
   "cell_type": "code",
   "execution_count": 186,
   "metadata": {},
   "outputs": [],
   "source": [
    "dt_pred = dt_model.predict(X_test)"
   ]
  },
  {
   "cell_type": "code",
   "execution_count": 187,
   "metadata": {},
   "outputs": [
    {
     "data": {
      "text/plain": [
       "0.499761620977354"
      ]
     },
     "execution_count": 187,
     "metadata": {},
     "output_type": "execute_result"
    }
   ],
   "source": [
    "dt_model.score(X_test, y_test)"
   ]
  },
  {
   "cell_type": "code",
   "execution_count": 188,
   "metadata": {},
   "outputs": [
    {
     "name": "stdout",
     "output_type": "stream",
     "text": [
      "Overall KNN Accuracy better than Decision Tree, move on to next model\n"
     ]
    }
   ],
   "source": [
    "if dt_model.score(X_test, y_test)>knn_model.score(X_test, y_test):\n",
    "    print(\"Overall Decision Tree Accuracy better than KNN - check individual styles\")\n",
    "else:\n",
    "    print(\"Overall KNN Accuracy better than Decision Tree, move on to next model\")"
   ]
  },
  {
   "cell_type": "markdown",
   "metadata": {},
   "source": [
    "**Random Forest**"
   ]
  },
  {
   "cell_type": "code",
   "execution_count": 189,
   "metadata": {},
   "outputs": [],
   "source": [
    "rf_model = RandomForestClassifier(random_state = 4444)"
   ]
  },
  {
   "cell_type": "code",
   "execution_count": 190,
   "metadata": {},
   "outputs": [
    {
     "data": {
      "text/plain": [
       "RandomForestClassifier(bootstrap=True, class_weight=None, criterion='gini',\n",
       "            max_depth=None, max_features='auto', max_leaf_nodes=None,\n",
       "            min_impurity_decrease=0.0, min_impurity_split=None,\n",
       "            min_samples_leaf=1, min_samples_split=2,\n",
       "            min_weight_fraction_leaf=0.0, n_estimators=10, n_jobs=1,\n",
       "            oob_score=False, random_state=4444, verbose=0,\n",
       "            warm_start=False)"
      ]
     },
     "execution_count": 190,
     "metadata": {},
     "output_type": "execute_result"
    }
   ],
   "source": [
    "rf_model.fit(X_train, y_train)"
   ]
  },
  {
   "cell_type": "code",
   "execution_count": 191,
   "metadata": {},
   "outputs": [],
   "source": [
    "rf_pred = rf_model.predict(X_test)"
   ]
  },
  {
   "cell_type": "code",
   "execution_count": 192,
   "metadata": {},
   "outputs": [
    {
     "data": {
      "text/plain": [
       "0.5909415971394517"
      ]
     },
     "execution_count": 192,
     "metadata": {},
     "output_type": "execute_result"
    }
   ],
   "source": [
    "rf_model.score(X_test, y_test)"
   ]
  },
  {
   "cell_type": "code",
   "execution_count": 193,
   "metadata": {},
   "outputs": [
    {
     "data": {
      "text/plain": [
       "0.5909415971394517"
      ]
     },
     "execution_count": 193,
     "metadata": {},
     "output_type": "execute_result"
    }
   ],
   "source": [
    "metrics.accuracy_score(y_test, rf_pred)"
   ]
  },
  {
   "cell_type": "code",
   "execution_count": 194,
   "metadata": {},
   "outputs": [],
   "source": [
    "with open ('random_forest.pickle', 'wb') as to_write:\n",
    "    pickle.dump(rf_model, to_write)"
   ]
  },
  {
   "cell_type": "code",
   "execution_count": 195,
   "metadata": {},
   "outputs": [],
   "source": [
    "rf_confusion = confusion_matrix(y_test, rf_pred)"
   ]
  },
  {
   "cell_type": "code",
   "execution_count": 196,
   "metadata": {},
   "outputs": [
    {
     "data": {
      "image/png": "[encoded data removed]",
      "text/plain": [
       "<Figure size 1000x1000 with 2 Axes>"
      ]
     },
     "metadata": {},
     "output_type": "display_data"
    }
   ],
   "source": [
    "plt.figure(figsize = (10,10),dpi = 100)\n",
    "sns.heatmap(rf_confusion, cmap= plt.cm.Blues, annot = True, square = True, xticklabels = style_list, yticklabels = style_list)\n",
    "\n",
    "plt.xlabel('Predicted Beer Style');\n",
    "plt.ylabel('Actual Beer Style');\n",
    "plt.title(\"Random Forest Confusion Matrix\");"
   ]
  },
  {
   "cell_type": "code",
   "execution_count": 347,
   "metadata": {},
   "outputs": [
    {
     "data": {
      "text/plain": [
       "array([0.06048888, 0.07199185, 0.06284205, 0.10837703, 0.22866008,\n",
       "       0.23199263, 0.0642963 , 0.02092067, 0.07289059, 0.05145274,\n",
       "       0.0096589 , 0.00826245, 0.00391087, 0.00425496])"
      ]
     },
     "execution_count": 347,
     "metadata": {},
     "output_type": "execute_result"
    }
   ],
   "source": [
    "rf_model.feature_importances_"
   ]
  },
  {
   "cell_type": "code",
   "execution_count": 197,
   "metadata": {},
   "outputs": [
    {
     "name": "stdout",
     "output_type": "stream",
     "text": [
      "Overall Random Forest Accuracy better than KNN - check individual styles\n"
     ]
    }
   ],
   "source": [
    "if rf_model.score(X_test, y_test)>knn_model.score(X_test, y_test):\n",
    "    print(\"Overall Random Forest Accuracy better than KNN - check individual styles\")\n",
    "else:\n",
    "    print(\"Overall KNN Accuracy better than Random Forest, move on to next model\")"
   ]
  },
  {
   "cell_type": "markdown",
   "metadata": {},
   "source": [
    "    IPA"
   ]
  },
  {
   "cell_type": "code",
   "execution_count": 198,
   "metadata": {},
   "outputs": [
    {
     "data": {
      "text/plain": [
       "RandomForestClassifier(bootstrap=True, class_weight=None, criterion='gini',\n",
       "            max_depth=None, max_features='auto', max_leaf_nodes=None,\n",
       "            min_impurity_decrease=0.0, min_impurity_split=None,\n",
       "            min_samples_leaf=1, min_samples_split=2,\n",
       "            min_weight_fraction_leaf=0.0, n_estimators=10, n_jobs=1,\n",
       "            oob_score=False, random_state=4444, verbose=0,\n",
       "            warm_start=False)"
      ]
     },
     "execution_count": 198,
     "metadata": {},
     "output_type": "execute_result"
    }
   ],
   "source": [
    "rf_model_ipa = RandomForestClassifier(random_state = 4444)\n",
    "rf_model_ipa.fit(X_train_ipa, y_train_ipa)"
   ]
  },
  {
   "cell_type": "code",
   "execution_count": 199,
   "metadata": {},
   "outputs": [
    {
     "name": "stdout",
     "output_type": "stream",
     "text": [
      "Train Accuracy: 0.9895538017521007 Test Accuracy:  0.8652562574493444\n"
     ]
    }
   ],
   "source": [
    "print('Train Accuracy:',rf_model_ipa.score(X_train_ipa, y_train_ipa), 'Test Accuracy: ',rf_model_ipa.score(X_test_ipa, y_test_ipa))"
   ]
  },
  {
   "cell_type": "code",
   "execution_count": 200,
   "metadata": {},
   "outputs": [
    {
     "data": {
      "text/plain": [
       "0.8200471961597676"
      ]
     },
     "execution_count": 200,
     "metadata": {},
     "output_type": "execute_result"
    }
   ],
   "source": [
    "rf_model_ipa_pred = rf_model_ipa.predict(X_test_ipa)\n",
    "roc_auc_score(y_test_ipa, rf_model_ipa_pred)"
   ]
  },
  {
   "cell_type": "code",
   "execution_count": 201,
   "metadata": {},
   "outputs": [
    {
     "name": "stdout",
     "output_type": "stream",
     "text": [
      "KNN ROC Score better than Random Forest\n"
     ]
    }
   ],
   "source": [
    "if roc_auc_score(y_test_ipa, rf_model_ipa_pred)>roc_auc_score(y_test_ipa, knn_model_ipa_pred):\n",
    "    print(\"Random Forest ROC Score better than KNN\")\n",
    "else:\n",
    "    print(\"KNN ROC Score better than Random Forest\")"
   ]
  },
  {
   "cell_type": "code",
   "execution_count": 202,
   "metadata": {},
   "outputs": [
    {
     "name": "stdout",
     "output_type": "stream",
     "text": [
      "F1: 0.7584659758572802\n",
      "Accuracy: 0.8652562574493444\n",
      "Precision: 0.817219152854512\n",
      "Recall: 0.7075941797887183\n"
     ]
    }
   ],
   "source": [
    "print('F1:',metrics.f1_score(y_test_ipa, rf_model_ipa_pred))\n",
    "print('Accuracy:', metrics.accuracy_score(y_test_ipa, rf_model_ipa_pred))\n",
    "print('Precision:', metrics.precision_score(y_test_ipa, rf_model_ipa_pred))\n",
    "print('Recall:', metrics.recall_score(y_test_ipa, rf_model_ipa_pred))"
   ]
  },
  {
   "cell_type": "markdown",
   "metadata": {},
   "source": [
    "Lager"
   ]
  },
  {
   "cell_type": "code",
   "execution_count": 203,
   "metadata": {},
   "outputs": [
    {
     "data": {
      "text/plain": [
       "RandomForestClassifier(bootstrap=True, class_weight=None, criterion='gini',\n",
       "            max_depth=None, max_features='auto', max_leaf_nodes=None,\n",
       "            min_impurity_decrease=0.0, min_impurity_split=None,\n",
       "            min_samples_leaf=1, min_samples_split=2,\n",
       "            min_weight_fraction_leaf=0.0, n_estimators=10, n_jobs=1,\n",
       "            oob_score=False, random_state=4444, verbose=0,\n",
       "            warm_start=False)"
      ]
     },
     "execution_count": 203,
     "metadata": {},
     "output_type": "execute_result"
    }
   ],
   "source": [
    "rf_model_lager = RandomForestClassifier(random_state = 4444)\n",
    "rf_model_lager.fit(X_train_lager, y_train_lager)"
   ]
  },
  {
   "cell_type": "code",
   "execution_count": 204,
   "metadata": {},
   "outputs": [
    {
     "name": "stdout",
     "output_type": "stream",
     "text": [
      "Train Accuracy: 0.9883789237095497 Test Accuracy:  0.9289034564958284\n"
     ]
    }
   ],
   "source": [
    "print('Train Accuracy:',rf_model_lager.score(X_train_ipa, y_train_lager), 'Test Accuracy: ',rf_model_lager.score(X_test_lager, y_test_lager))"
   ]
  },
  {
   "cell_type": "code",
   "execution_count": 205,
   "metadata": {},
   "outputs": [
    {
     "data": {
      "text/plain": [
       "0.5394312309008444"
      ]
     },
     "execution_count": 205,
     "metadata": {},
     "output_type": "execute_result"
    }
   ],
   "source": [
    "rf_model_lager_pred = rf_model_lager.predict(X_test_lager)\n",
    "roc_auc_score(y_test_lager, rf_model_lager_pred)"
   ]
  },
  {
   "cell_type": "code",
   "execution_count": 206,
   "metadata": {},
   "outputs": [
    {
     "name": "stdout",
     "output_type": "stream",
     "text": [
      "Random Forest ROC Score better than KNN\n"
     ]
    }
   ],
   "source": [
    "if roc_auc_score(y_test_lager, rf_model_lager_pred)>roc_auc_score(y_test_lager, knn_model_lager_pred):\n",
    "    print(\"Random Forest ROC Score better than KNN\")\n",
    "else:\n",
    "    print(\"KNN ROC Score better than Random Forest\")"
   ]
  },
  {
   "cell_type": "code",
   "execution_count": 207,
   "metadata": {},
   "outputs": [
    {
     "name": "stdout",
     "output_type": "stream",
     "text": [
      "F1: 0.1460272011453114\n",
      "Accuracy: 0.9289034564958284\n",
      "Precision: 0.5340314136125655\n",
      "Recall: 0.0845771144278607\n"
     ]
    }
   ],
   "source": [
    "print('F1:',metrics.f1_score(y_test_lager, rf_model_lager_pred))\n",
    "print('Accuracy:', metrics.accuracy_score(y_test_lager, rf_model_lager_pred))\n",
    "print('Precision:', metrics.precision_score(y_test_lager, rf_model_lager_pred))\n",
    "print('Recall:', metrics.recall_score(y_test_lager, rf_model_lager_pred))"
   ]
  },
  {
   "cell_type": "markdown",
   "metadata": {},
   "source": [
    "Stout"
   ]
  },
  {
   "cell_type": "code",
   "execution_count": 208,
   "metadata": {},
   "outputs": [
    {
     "data": {
      "text/plain": [
       "RandomForestClassifier(bootstrap=True, class_weight=None, criterion='gini',\n",
       "            max_depth=None, max_features='auto', max_leaf_nodes=None,\n",
       "            min_impurity_decrease=0.0, min_impurity_split=None,\n",
       "            min_samples_leaf=1, min_samples_split=2,\n",
       "            min_weight_fraction_leaf=0.0, n_estimators=10, n_jobs=1,\n",
       "            oob_score=False, random_state=4444, verbose=0,\n",
       "            warm_start=False)"
      ]
     },
     "execution_count": 208,
     "metadata": {},
     "output_type": "execute_result"
    }
   ],
   "source": [
    "rf_model_stout = RandomForestClassifier(random_state = 4444)\n",
    "rf_model_stout.fit(X_train_stout, y_train_stout)"
   ]
  },
  {
   "cell_type": "code",
   "execution_count": 209,
   "metadata": {},
   "outputs": [
    {
     "name": "stdout",
     "output_type": "stream",
     "text": [
      "Train Accuracy: 0.9961433351211912 Test Accuracy:  0.9441597139451728\n"
     ]
    }
   ],
   "source": [
    "print('Train Accuracy:',rf_model_stout.score(X_train_stout, y_train_stout), 'Test Accuracy: ',rf_model_stout.score(X_test_stout, y_test_stout))"
   ]
  },
  {
   "cell_type": "code",
   "execution_count": 210,
   "metadata": {},
   "outputs": [
    {
     "data": {
      "text/plain": [
       "0.8292255489021957"
      ]
     },
     "execution_count": 210,
     "metadata": {},
     "output_type": "execute_result"
    }
   ],
   "source": [
    "rf_model_stout_pred = rf_model_stout.predict(X_test_stout)\n",
    "roc_auc_score(y_test_stout, rf_model_stout_pred)"
   ]
  },
  {
   "cell_type": "code",
   "execution_count": 211,
   "metadata": {},
   "outputs": [
    {
     "name": "stdout",
     "output_type": "stream",
     "text": [
      "KNN ROC Score better than Random Forest\n"
     ]
    }
   ],
   "source": [
    "if roc_auc_score(y_test_stout, rf_model_stout_pred)>roc_auc_score(y_test_stout, knn_model_stout_pred):\n",
    "    print(\"Random Forest ROC Score better than KNN\")\n",
    "else:\n",
    "    print(\"KNN ROC Score better than Random Forest\")"
   ]
  },
  {
   "cell_type": "code",
   "execution_count": 212,
   "metadata": {},
   "outputs": [
    {
     "name": "stdout",
     "output_type": "stream",
     "text": [
      "F1: 0.7187030921645152\n",
      "Accuracy: 0.9441597139451728\n",
      "Precision: 0.7571157495256167\n",
      "Recall: 0.684\n"
     ]
    }
   ],
   "source": [
    "print('F1:',metrics.f1_score(y_test_stout, rf_model_stout_pred))\n",
    "print('Accuracy:', metrics.accuracy_score(y_test_stout, rf_model_stout_pred))\n",
    "print('Precision:', metrics.precision_score(y_test_stout, rf_model_stout_pred))\n",
    "print('Recall:', metrics.recall_score(y_test_stout, rf_model_stout_pred))"
   ]
  },
  {
   "cell_type": "markdown",
   "metadata": {},
   "source": [
    "Porter"
   ]
  },
  {
   "cell_type": "code",
   "execution_count": 213,
   "metadata": {},
   "outputs": [],
   "source": [
    "#Input test styles here:\n",
    "\n",
    "y_test_style = y_test_porter\n",
    "X_test_style = X_test_porter\n",
    "\n",
    "y_train_style = y_train_porter\n",
    "X_train_style = X_train_porter"
   ]
  },
  {
   "cell_type": "code",
   "execution_count": 214,
   "metadata": {},
   "outputs": [
    {
     "data": {
      "text/plain": [
       "RandomForestClassifier(bootstrap=True, class_weight=None, criterion='gini',\n",
       "            max_depth=None, max_features='auto', max_leaf_nodes=None,\n",
       "            min_impurity_decrease=0.0, min_impurity_split=None,\n",
       "            min_samples_leaf=1, min_samples_split=2,\n",
       "            min_weight_fraction_leaf=0.0, n_estimators=10, n_jobs=1,\n",
       "            oob_score=False, random_state=4444, verbose=0,\n",
       "            warm_start=False)"
      ]
     },
     "execution_count": 214,
     "metadata": {},
     "output_type": "execute_result"
    }
   ],
   "source": [
    "#Create model here:\n",
    "rf_model_porter = RandomForestClassifier(random_state = 4444)\n",
    "rf_model_porter.fit(X_train_style, y_train_style)"
   ]
  },
  {
   "cell_type": "code",
   "execution_count": 215,
   "metadata": {},
   "outputs": [
    {
     "name": "stdout",
     "output_type": "stream",
     "text": [
      "Train Accuracy: 0.9955814369269277 Test Accuracy:  0.9542312276519667\n"
     ]
    }
   ],
   "source": [
    "print('Train Accuracy:',rf_model_porter.score(X_train_style, y_train_style), 'Test Accuracy: ',rf_model_porter.score(X_test_style, y_test_style))"
   ]
  },
  {
   "cell_type": "code",
   "execution_count": 216,
   "metadata": {},
   "outputs": [
    {
     "data": {
      "text/plain": [
       "0.5691180348926448"
      ]
     },
     "execution_count": 216,
     "metadata": {},
     "output_type": "execute_result"
    }
   ],
   "source": [
    "rf_model_porter_pred = rf_model_porter.predict(X_test_style)\n",
    "roc_auc_score(y_test_style, rf_model_porter_pred)"
   ]
  },
  {
   "cell_type": "code",
   "execution_count": 217,
   "metadata": {},
   "outputs": [
    {
     "name": "stdout",
     "output_type": "stream",
     "text": [
      "Random Forest ROC Score better than KNN\n"
     ]
    }
   ],
   "source": [
    "if roc_auc_score(y_test_style, rf_model_porter_pred)>roc_auc_score(y_test_style, knn_model_porter_pred):\n",
    "    print(\"Random Forest ROC Score better than KNN\")\n",
    "else:\n",
    "    print(\"KNN ROC Score better than Random Forest\")"
   ]
  },
  {
   "cell_type": "code",
   "execution_count": 218,
   "metadata": {},
   "outputs": [
    {
     "name": "stdout",
     "output_type": "stream",
     "text": [
      "F1: 0.22424242424242427\n",
      "Accuracy: 0.9542312276519667\n",
      "Precision: 0.4889867841409692\n",
      "Recall: 0.145478374836173\n"
     ]
    }
   ],
   "source": [
    "print('F1:',metrics.f1_score(y_test_style, rf_model_porter_pred))\n",
    "print('Accuracy:', metrics.accuracy_score(y_test_style, rf_model_porter_pred))\n",
    "print('Precision:', metrics.precision_score(y_test_style, rf_model_porter_pred))\n",
    "print('Recall:', metrics.recall_score(y_test_style, rf_model_porter_pred))"
   ]
  },
  {
   "cell_type": "markdown",
   "metadata": {},
   "source": [
    "Saison"
   ]
  },
  {
   "cell_type": "code",
   "execution_count": 219,
   "metadata": {},
   "outputs": [],
   "source": [
    "#Input styles here:\n",
    "\n",
    "y_test_style = y_test_saison\n",
    "X_test_style = X_test_saison\n",
    "\n",
    "y_train_style = y_train_saison\n",
    "X_train_style = X_train_saison"
   ]
  },
  {
   "cell_type": "code",
   "execution_count": 220,
   "metadata": {},
   "outputs": [
    {
     "data": {
      "text/plain": [
       "RandomForestClassifier(bootstrap=True, class_weight=None, criterion='gini',\n",
       "            max_depth=None, max_features='auto', max_leaf_nodes=None,\n",
       "            min_impurity_decrease=0.0, min_impurity_split=None,\n",
       "            min_samples_leaf=1, min_samples_split=2,\n",
       "            min_weight_fraction_leaf=0.0, n_estimators=10, n_jobs=1,\n",
       "            oob_score=False, random_state=4444, verbose=0,\n",
       "            warm_start=False)"
      ]
     },
     "execution_count": 220,
     "metadata": {},
     "output_type": "execute_result"
    }
   ],
   "source": [
    "rf_model_saison = RandomForestClassifier(random_state = 4444)\n",
    "rf_model_saison.fit(X_train_style, y_train_style)"
   ]
  },
  {
   "cell_type": "code",
   "execution_count": 221,
   "metadata": {},
   "outputs": [
    {
     "name": "stdout",
     "output_type": "stream",
     "text": [
      "Train Accuracy: 0.9925165376854903 Test Accuracy:  0.9579856972586412\n"
     ]
    }
   ],
   "source": [
    "print('Train Accuracy:',rf_model_saison.score(X_train_style, y_train_style), 'Test Accuracy: ',rf_model_saison.score(X_test_style, y_test_style))"
   ]
  },
  {
   "cell_type": "code",
   "execution_count": 222,
   "metadata": {},
   "outputs": [
    {
     "data": {
      "text/plain": [
       "0.5555532594211855"
      ]
     },
     "execution_count": 222,
     "metadata": {},
     "output_type": "execute_result"
    }
   ],
   "source": [
    "rf_model_saison_pred = rf_model_saison.predict(X_test_style)\n",
    "roc_auc_score(y_test_style, rf_model_saison_pred)"
   ]
  },
  {
   "cell_type": "code",
   "execution_count": 223,
   "metadata": {},
   "outputs": [
    {
     "name": "stdout",
     "output_type": "stream",
     "text": [
      "Random Forest ROC Score better than KNN\n"
     ]
    }
   ],
   "source": [
    "if roc_auc_score(y_test_style, rf_model_saison_pred)>roc_auc_score(y_test_style, knn_model_saison_pred):\n",
    "    print(\"Random Forest ROC Score better than KNN\")\n",
    "else:\n",
    "    print(\"KNN ROC Score better than Random Forest\")"
   ]
  },
  {
   "cell_type": "code",
   "execution_count": 224,
   "metadata": {},
   "outputs": [
    {
     "name": "stdout",
     "output_type": "stream",
     "text": [
      "F1: 0.19428571428571428\n",
      "Accuracy: 0.9579856972586412\n",
      "Precision: 0.6640625\n",
      "Recall: 0.11378848728246319\n"
     ]
    }
   ],
   "source": [
    "print('F1:',metrics.f1_score(y_test_style, rf_model_saison_pred))\n",
    "print('Accuracy:', metrics.accuracy_score(y_test_style, rf_model_saison_pred))\n",
    "print('Precision:', metrics.precision_score(y_test_style, rf_model_saison_pred))\n",
    "print('Recall:', metrics.recall_score(y_test_style, rf_model_saison_pred))"
   ]
  },
  {
   "cell_type": "markdown",
   "metadata": {},
   "source": [
    "Kolsch"
   ]
  },
  {
   "cell_type": "code",
   "execution_count": 225,
   "metadata": {},
   "outputs": [],
   "source": [
    "#Input styles here:\n",
    "\n",
    "y_test_style = y_test_kolsch\n",
    "X_test_style = X_test_kolsch\n",
    "\n",
    "y_train_style = y_train_kolsch\n",
    "X_train_style = X_train_kolsch"
   ]
  },
  {
   "cell_type": "code",
   "execution_count": 226,
   "metadata": {},
   "outputs": [
    {
     "data": {
      "text/plain": [
       "RandomForestClassifier(bootstrap=True, class_weight=None, criterion='gini',\n",
       "            max_depth=None, max_features='auto', max_leaf_nodes=None,\n",
       "            min_impurity_decrease=0.0, min_impurity_split=None,\n",
       "            min_samples_leaf=1, min_samples_split=2,\n",
       "            min_weight_fraction_leaf=0.0, n_estimators=10, n_jobs=1,\n",
       "            oob_score=False, random_state=4444, verbose=0,\n",
       "            warm_start=False)"
      ]
     },
     "execution_count": 226,
     "metadata": {},
     "output_type": "execute_result"
    }
   ],
   "source": [
    "rf_model_kolsch = RandomForestClassifier(random_state = 4444)\n",
    "rf_model_kolsch.fit(X_train_style, y_train_style)"
   ]
  },
  {
   "cell_type": "code",
   "execution_count": 227,
   "metadata": {},
   "outputs": [
    {
     "name": "stdout",
     "output_type": "stream",
     "text": [
      "Train Accuracy: 0.9973948356447782 Test Accuracy:  0.9858164481525625\n"
     ]
    }
   ],
   "source": [
    "print('Train Accuracy:',rf_model_kolsch.score(X_train_style, y_train_style), 'Test Accuracy: ',rf_model_kolsch.score(X_test_style, y_test_style))"
   ]
  },
  {
   "cell_type": "code",
   "execution_count": 228,
   "metadata": {},
   "outputs": [
    {
     "data": {
      "text/plain": [
       "0.5439919062151214"
      ]
     },
     "execution_count": 228,
     "metadata": {},
     "output_type": "execute_result"
    }
   ],
   "source": [
    "rf_model_kolsch_pred = rf_model_kolsch.predict(X_test_style)\n",
    "roc_auc_score(y_test_style, rf_model_kolsch_pred)"
   ]
  },
  {
   "cell_type": "code",
   "execution_count": 229,
   "metadata": {},
   "outputs": [
    {
     "name": "stdout",
     "output_type": "stream",
     "text": [
      "Random Forest ROC Score better than KNN\n"
     ]
    }
   ],
   "source": [
    "if roc_auc_score(y_test_style, rf_model_kolsch_pred)>roc_auc_score(y_test_style, knn_model_kolsch_pred):\n",
    "    print(\"Random Forest ROC Score better than KNN\")\n",
    "else:\n",
    "    print(\"KNN ROC Score better than Random Forest\")"
   ]
  },
  {
   "cell_type": "code",
   "execution_count": 230,
   "metadata": {},
   "outputs": [
    {
     "name": "stdout",
     "output_type": "stream",
     "text": [
      "F1: 0.15602836879432624\n",
      "Accuracy: 0.9858164481525625\n",
      "Precision: 0.6470588235294118\n",
      "Recall: 0.08870967741935484\n"
     ]
    }
   ],
   "source": [
    "print('F1:',metrics.f1_score(y_test_style, rf_model_kolsch_pred))\n",
    "print('Accuracy:', metrics.accuracy_score(y_test_style, rf_model_kolsch_pred))\n",
    "print('Precision:', metrics.precision_score(y_test_style, rf_model_kolsch_pred))\n",
    "print('Recall:', metrics.recall_score(y_test_style, rf_model_kolsch_pred))"
   ]
  },
  {
   "cell_type": "markdown",
   "metadata": {},
   "source": [
    "Ale"
   ]
  },
  {
   "cell_type": "code",
   "execution_count": 231,
   "metadata": {},
   "outputs": [],
   "source": [
    "#Input styles here:\n",
    "\n",
    "y_test_style = y_test_ale\n",
    "X_test_style = X_test_ale\n",
    "\n",
    "y_train_style = y_train_ale\n",
    "X_train_style = X_train_ale"
   ]
  },
  {
   "cell_type": "code",
   "execution_count": 232,
   "metadata": {},
   "outputs": [
    {
     "data": {
      "text/plain": [
       "RandomForestClassifier(bootstrap=True, class_weight=None, criterion='gini',\n",
       "            max_depth=None, max_features='auto', max_leaf_nodes=None,\n",
       "            min_impurity_decrease=0.0, min_impurity_split=None,\n",
       "            min_samples_leaf=1, min_samples_split=2,\n",
       "            min_weight_fraction_leaf=0.0, n_estimators=10, n_jobs=1,\n",
       "            oob_score=False, random_state=4444, verbose=0,\n",
       "            warm_start=False)"
      ]
     },
     "execution_count": 232,
     "metadata": {},
     "output_type": "execute_result"
    }
   ],
   "source": [
    "rf_model_ale = RandomForestClassifier(random_state = 4444)\n",
    "rf_model_ale.fit(X_train_style, y_train_style)"
   ]
  },
  {
   "cell_type": "code",
   "execution_count": 233,
   "metadata": {},
   "outputs": [
    {
     "name": "stdout",
     "output_type": "stream",
     "text": [
      "Train Accuracy: 0.9853906469491482 Test Accuracy:  0.8459475566150179\n"
     ]
    }
   ],
   "source": [
    "print('Train Accuracy:',rf_model_ale.score(X_train_style, y_train_style), 'Test Accuracy: ',rf_model_ale.score(X_test_style, y_test_style))"
   ]
  },
  {
   "cell_type": "code",
   "execution_count": 234,
   "metadata": {},
   "outputs": [
    {
     "data": {
      "text/plain": [
       "0.665650091892328"
      ]
     },
     "execution_count": 234,
     "metadata": {},
     "output_type": "execute_result"
    }
   ],
   "source": [
    "rf_model_ale_pred = rf_model_ale.predict(X_test_style)\n",
    "roc_auc_score(y_test_style, rf_model_ale_pred)"
   ]
  },
  {
   "cell_type": "code",
   "execution_count": 235,
   "metadata": {},
   "outputs": [
    {
     "name": "stdout",
     "output_type": "stream",
     "text": [
      "Random Forest ROC Score better than KNN\n"
     ]
    }
   ],
   "source": [
    "if roc_auc_score(y_test_style, rf_model_ale_pred)>roc_auc_score(y_test_style, knn_model_ale_pred):\n",
    "    print(\"Random Forest ROC Score better than KNN\")\n",
    "else:\n",
    "    print(\"KNN ROC Score better than Random Forest\")"
   ]
  },
  {
   "cell_type": "code",
   "execution_count": 236,
   "metadata": {},
   "outputs": [
    {
     "name": "stdout",
     "output_type": "stream",
     "text": [
      "F1: 0.4831033793241352\n",
      "Accuracy: 0.8459475566150179\n",
      "Precision: 0.6922636103151862\n",
      "Recall: 0.371007371007371\n"
     ]
    }
   ],
   "source": [
    "print('F1:',metrics.f1_score(y_test_style, rf_model_ale_pred))\n",
    "print('Accuracy:', metrics.accuracy_score(y_test_style, rf_model_ale_pred))\n",
    "print('Precision:', metrics.precision_score(y_test_style, rf_model_ale_pred))\n",
    "print('Recall:', metrics.recall_score(y_test_style, rf_model_ale_pred))"
   ]
  },
  {
   "cell_type": "markdown",
   "metadata": {},
   "source": [
    "APA"
   ]
  },
  {
   "cell_type": "code",
   "execution_count": 237,
   "metadata": {},
   "outputs": [],
   "source": [
    "#Input styles here:\n",
    "\n",
    "y_test_style = y_test_apa\n",
    "X_test_style = X_test_apa\n",
    "\n",
    "y_train_style = y_train_apa\n",
    "X_train_style = X_train_apa"
   ]
  },
  {
   "cell_type": "code",
   "execution_count": 238,
   "metadata": {},
   "outputs": [
    {
     "data": {
      "text/plain": [
       "RandomForestClassifier(bootstrap=True, class_weight=None, criterion='gini',\n",
       "            max_depth=None, max_features='auto', max_leaf_nodes=None,\n",
       "            min_impurity_decrease=0.0, min_impurity_split=None,\n",
       "            min_samples_leaf=1, min_samples_split=2,\n",
       "            min_weight_fraction_leaf=0.0, n_estimators=10, n_jobs=1,\n",
       "            oob_score=False, random_state=4444, verbose=0,\n",
       "            warm_start=False)"
      ]
     },
     "execution_count": 238,
     "metadata": {},
     "output_type": "execute_result"
    }
   ],
   "source": [
    "rf_model_apa = RandomForestClassifier(random_state = 4444)\n",
    "rf_model_apa.fit(X_train_style, y_train_style)"
   ]
  },
  {
   "cell_type": "code",
   "execution_count": 239,
   "metadata": {},
   "outputs": [
    {
     "name": "stdout",
     "output_type": "stream",
     "text": [
      "Train Accuracy: 0.9882256787474778 Test Accuracy:  0.8873659117997617\n"
     ]
    }
   ],
   "source": [
    "print('Train Accuracy:',rf_model_apa.score(X_train_style, y_train_style), 'Test Accuracy: ',rf_model_apa.score(X_test_style, y_test_style))"
   ]
  },
  {
   "cell_type": "code",
   "execution_count": 240,
   "metadata": {},
   "outputs": [
    {
     "data": {
      "text/plain": [
       "0.648134689749539"
      ]
     },
     "execution_count": 240,
     "metadata": {},
     "output_type": "execute_result"
    }
   ],
   "source": [
    "rf_model_apa_pred = rf_model_apa.predict(X_test_style)\n",
    "roc_auc_score(y_test_style, rf_model_apa_pred)"
   ]
  },
  {
   "cell_type": "code",
   "execution_count": 241,
   "metadata": {},
   "outputs": [
    {
     "name": "stdout",
     "output_type": "stream",
     "text": [
      "Random Forest ROC Score better than KNN\n"
     ]
    }
   ],
   "source": [
    "if roc_auc_score(y_test_style, rf_model_apa_pred)>roc_auc_score(y_test_style, knn_model_apa_pred):\n",
    "    print(\"Random Forest ROC Score better than KNN\")\n",
    "else:\n",
    "    print(\"KNN ROC Score better than Random Forest\")"
   ]
  },
  {
   "cell_type": "code",
   "execution_count": 242,
   "metadata": {},
   "outputs": [
    {
     "name": "stdout",
     "output_type": "stream",
     "text": [
      "F1: 0.4265776699029126\n",
      "Accuracy: 0.8873659117997617\n",
      "Precision: 0.6161262050832603\n",
      "Recall: 0.32621809744779584\n"
     ]
    }
   ],
   "source": [
    "print('F1:',metrics.f1_score(y_test_style, rf_model_apa_pred))\n",
    "print('Accuracy:', metrics.accuracy_score(y_test_style, rf_model_apa_pred))\n",
    "print('Precision:', metrics.precision_score(y_test_style, rf_model_apa_pred))\n",
    "print('Recall:', metrics.recall_score(y_test_style, rf_model_apa_pred))"
   ]
  },
  {
   "cell_type": "markdown",
   "metadata": {},
   "source": [
    "Wheat"
   ]
  },
  {
   "cell_type": "code",
   "execution_count": 243,
   "metadata": {},
   "outputs": [],
   "source": [
    "#Input styles here:\n",
    "\n",
    "y_test_style = y_test_wheat\n",
    "X_test_style = X_test_wheat\n",
    "\n",
    "y_train_style = y_train_wheat\n",
    "X_train_style = X_train_wheat"
   ]
  },
  {
   "cell_type": "code",
   "execution_count": 244,
   "metadata": {},
   "outputs": [
    {
     "data": {
      "text/plain": [
       "RandomForestClassifier(bootstrap=True, class_weight=None, criterion='gini',\n",
       "            max_depth=None, max_features='auto', max_leaf_nodes=None,\n",
       "            min_impurity_decrease=0.0, min_impurity_split=None,\n",
       "            min_samples_leaf=1, min_samples_split=2,\n",
       "            min_weight_fraction_leaf=0.0, n_estimators=10, n_jobs=1,\n",
       "            oob_score=False, random_state=4444, verbose=0,\n",
       "            warm_start=False)"
      ]
     },
     "execution_count": 244,
     "metadata": {},
     "output_type": "execute_result"
    }
   ],
   "source": [
    "rf_model_wheat = RandomForestClassifier(random_state = 4444)\n",
    "rf_model_wheat.fit(X_train_style, y_train_style)"
   ]
  },
  {
   "cell_type": "code",
   "execution_count": 245,
   "metadata": {},
   "outputs": [
    {
     "name": "stdout",
     "output_type": "stream",
     "text": [
      "Train Accuracy: 0.9932061400148137 Test Accuracy:  0.9405840286054827\n"
     ]
    }
   ],
   "source": [
    "print('Train Accuracy:',rf_model_wheat.score(X_train_style, y_train_style), 'Test Accuracy: ',rf_model_wheat.score(X_test_style, y_test_style))"
   ]
  },
  {
   "cell_type": "code",
   "execution_count": 246,
   "metadata": {},
   "outputs": [
    {
     "data": {
      "text/plain": [
       "0.7068252879956087"
      ]
     },
     "execution_count": 246,
     "metadata": {},
     "output_type": "execute_result"
    }
   ],
   "source": [
    "rf_model_wheat_pred = rf_model_wheat.predict(X_test_style)\n",
    "roc_auc_score(y_test_style, rf_model_wheat_pred)"
   ]
  },
  {
   "cell_type": "code",
   "execution_count": 247,
   "metadata": {},
   "outputs": [
    {
     "name": "stdout",
     "output_type": "stream",
     "text": [
      "Random Forest ROC Score better than KNN\n"
     ]
    }
   ],
   "source": [
    "if roc_auc_score(y_test_style, rf_model_wheat_pred)>roc_auc_score(y_test_style, knn_model_wheat_pred):\n",
    "    print(\"Random Forest ROC Score better than KNN\")\n",
    "else:\n",
    "    print(\"KNN ROC Score better than Random Forest\")"
   ]
  },
  {
   "cell_type": "code",
   "execution_count": 248,
   "metadata": {},
   "outputs": [
    {
     "name": "stdout",
     "output_type": "stream",
     "text": [
      "F1: 0.5364946536494652\n",
      "Accuracy: 0.9405840286054827\n",
      "Precision: 0.7176616915422885\n",
      "Recall: 0.42835931700074237\n"
     ]
    }
   ],
   "source": [
    "print('F1:',metrics.f1_score(y_test_style, rf_model_wheat_pred))\n",
    "print('Accuracy:', metrics.accuracy_score(y_test_style, rf_model_wheat_pred))\n",
    "print('Precision:', metrics.precision_score(y_test_style, rf_model_wheat_pred))\n",
    "print('Recall:', metrics.recall_score(y_test_style, rf_model_wheat_pred))"
   ]
  },
  {
   "cell_type": "markdown",
   "metadata": {},
   "source": [
    "Pilsner"
   ]
  },
  {
   "cell_type": "code",
   "execution_count": 249,
   "metadata": {},
   "outputs": [],
   "source": [
    "#Input styles here:\n",
    "\n",
    "y_test_style = y_test_pilsner\n",
    "X_test_style = X_test_pilsner\n",
    "\n",
    "y_train_style = y_train_pilsner\n",
    "X_train_style = X_train_pilsner"
   ]
  },
  {
   "cell_type": "code",
   "execution_count": 250,
   "metadata": {},
   "outputs": [
    {
     "data": {
      "text/plain": [
       "RandomForestClassifier(bootstrap=True, class_weight=None, criterion='gini',\n",
       "            max_depth=None, max_features='auto', max_leaf_nodes=None,\n",
       "            min_impurity_decrease=0.0, min_impurity_split=None,\n",
       "            min_samples_leaf=1, min_samples_split=2,\n",
       "            min_weight_fraction_leaf=0.0, n_estimators=10, n_jobs=1,\n",
       "            oob_score=False, random_state=4444, verbose=0,\n",
       "            warm_start=False)"
      ]
     },
     "execution_count": 250,
     "metadata": {},
     "output_type": "execute_result"
    }
   ],
   "source": [
    "rf_model_pilsner = RandomForestClassifier(random_state = 4444)\n",
    "rf_model_pilsner.fit(X_train_style, y_train_style)"
   ]
  },
  {
   "cell_type": "code",
   "execution_count": 251,
   "metadata": {},
   "outputs": [
    {
     "name": "stdout",
     "output_type": "stream",
     "text": [
      "Train Accuracy: 0.9968329374505146 Test Accuracy:  0.9830750893921335\n"
     ]
    }
   ],
   "source": [
    "print('Train Accuracy:',rf_model_pilsner.score(X_train_style, y_train_style), 'Test Accuracy: ',rf_model_pilsner.score(X_test_style, y_test_style))"
   ]
  },
  {
   "cell_type": "code",
   "execution_count": 252,
   "metadata": {},
   "outputs": [
    {
     "data": {
      "text/plain": [
       "0.5305942793477438"
      ]
     },
     "execution_count": 252,
     "metadata": {},
     "output_type": "execute_result"
    }
   ],
   "source": [
    "rf_model_pilsner_pred = rf_model_pilsner.predict(X_test_style)\n",
    "roc_auc_score(y_test_style, rf_model_pilsner_pred)"
   ]
  },
  {
   "cell_type": "code",
   "execution_count": 253,
   "metadata": {},
   "outputs": [
    {
     "name": "stdout",
     "output_type": "stream",
     "text": [
      "Random Forest ROC Score better than KNN\n"
     ]
    }
   ],
   "source": [
    "if roc_auc_score(y_test_style, rf_model_pilsner_pred)>roc_auc_score(y_test_style, knn_model_pilsner_pred):\n",
    "    print(\"Random Forest ROC Score better than KNN\")\n",
    "else:\n",
    "    print(\"KNN ROC Score better than Random Forest\")"
   ]
  },
  {
   "cell_type": "code",
   "execution_count": 254,
   "metadata": {},
   "outputs": [
    {
     "name": "stdout",
     "output_type": "stream",
     "text": [
      "F1: 0.1125\n",
      "Accuracy: 0.9830750893921335\n",
      "Precision: 0.6206896551724138\n",
      "Recall: 0.061855670103092786\n"
     ]
    }
   ],
   "source": [
    "print('F1:',metrics.f1_score(y_test_style, rf_model_pilsner_pred))\n",
    "print('Accuracy:', metrics.accuracy_score(y_test_style, rf_model_pilsner_pred))\n",
    "print('Precision:', metrics.precision_score(y_test_style, rf_model_pilsner_pred))\n",
    "print('Recall:', metrics.recall_score(y_test_style, rf_model_pilsner_pred))"
   ]
  },
  {
   "cell_type": "markdown",
   "metadata": {},
   "source": [
    "**Gradient Boosted Trees**"
   ]
  },
  {
   "cell_type": "code",
   "execution_count": 255,
   "metadata": {},
   "outputs": [
    {
     "data": {
      "text/plain": [
       "GradientBoostingClassifier(criterion='friedman_mse', init=None,\n",
       "              learning_rate=0.1, loss='deviance', max_depth=3,\n",
       "              max_features=None, max_leaf_nodes=None,\n",
       "              min_impurity_decrease=0.0, min_impurity_split=None,\n",
       "              min_samples_leaf=1, min_samples_split=2,\n",
       "              min_weight_fraction_leaf=0.0, n_estimators=100,\n",
       "              presort='auto', random_state=None, subsample=1.0, verbose=0,\n",
       "              warm_start=False)"
      ]
     },
     "execution_count": 255,
     "metadata": {},
     "output_type": "execute_result"
    }
   ],
   "source": [
    "model_rf_gb = GradientBoostingClassifier()\n",
    "model_rf_gb.fit(X_train, y_train)"
   ]
  },
  {
   "cell_type": "code",
   "execution_count": 256,
   "metadata": {},
   "outputs": [
    {
     "data": {
      "text/plain": [
       "0.6196066746126341"
      ]
     },
     "execution_count": 256,
     "metadata": {},
     "output_type": "execute_result"
    }
   ],
   "source": [
    "rf_gb_pred = model_rf_gb.predict(X_test)\n",
    "metrics.accuracy_score(y_test, rf_gb_pred)"
   ]
  },
  {
   "cell_type": "code",
   "execution_count": 348,
   "metadata": {},
   "outputs": [
    {
     "data": {
      "text/plain": [
       "array([0.04937527, 0.05254431, 0.08774713, 0.13467566, 0.23172645,\n",
       "       0.2708634 , 0.04595256, 0.04119522, 0.04642116, 0.0335664 ,\n",
       "       0.00143637, 0.00091103, 0.0014208 , 0.00216425])"
      ]
     },
     "execution_count": 348,
     "metadata": {},
     "output_type": "execute_result"
    }
   ],
   "source": [
    "model_rf_gb.feature_importances_"
   ]
  },
  {
   "cell_type": "code",
   "execution_count": 257,
   "metadata": {},
   "outputs": [
    {
     "name": "stdout",
     "output_type": "stream",
     "text": [
      "Overall Gradient Boost Accuracy better than KNN - check individual styles\n"
     ]
    }
   ],
   "source": [
    "#Use KNN as baseline as some individual models perform better with KNN than with Random Forest\n",
    "\n",
    "if model_rf_gb.score(X_test, y_test)>knn_model.score(X_test, y_test):\n",
    "    print(\"Overall Gradient Boost Accuracy better than KNN - check individual styles\")\n",
    "else:\n",
    "    print(\"Overall KNN Accuracy better than Gradient Boost, move on to next model\")"
   ]
  },
  {
   "cell_type": "markdown",
   "metadata": {},
   "source": [
    "IPA"
   ]
  },
  {
   "cell_type": "code",
   "execution_count": 258,
   "metadata": {},
   "outputs": [],
   "source": [
    "#Input styles here:\n",
    "\n",
    "y_test_style = y_test_ipa\n",
    "X_test_style = X_test_ipa\n",
    "\n",
    "y_train_style = y_train_ipa\n",
    "X_train_style = X_train_ipa"
   ]
  },
  {
   "cell_type": "code",
   "execution_count": 259,
   "metadata": {},
   "outputs": [
    {
     "data": {
      "text/plain": [
       "GradientBoostingClassifier(criterion='friedman_mse', init=None,\n",
       "              learning_rate=0.1, loss='deviance', max_depth=3,\n",
       "              max_features=None, max_leaf_nodes=None,\n",
       "              min_impurity_decrease=0.0, min_impurity_split=None,\n",
       "              min_samples_leaf=1, min_samples_split=2,\n",
       "              min_weight_fraction_leaf=0.0, n_estimators=100,\n",
       "              presort='auto', random_state=None, subsample=1.0, verbose=0,\n",
       "              warm_start=False)"
      ]
     },
     "execution_count": 259,
     "metadata": {},
     "output_type": "execute_result"
    }
   ],
   "source": [
    "model_rf_gb_ipa = GradientBoostingClassifier()\n",
    "model_rf_gb_ipa.fit(X_train_style, y_train_style)"
   ]
  },
  {
   "cell_type": "code",
   "execution_count": 260,
   "metadata": {},
   "outputs": [
    {
     "name": "stdout",
     "output_type": "stream",
     "text": [
      "Train Accuracy: 0.8777360610936582 Test Accuracy:  0.8734207389749702\n"
     ]
    }
   ],
   "source": [
    "print('Train Accuracy:',model_rf_gb_ipa.score(X_train_style, y_train_style), 'Test Accuracy: ',model_rf_gb_ipa.score(X_test_style, y_test_style))"
   ]
  },
  {
   "cell_type": "code",
   "execution_count": 261,
   "metadata": {},
   "outputs": [
    {
     "data": {
      "text/plain": [
       "0.8399306677622531"
      ]
     },
     "execution_count": 261,
     "metadata": {},
     "output_type": "execute_result"
    }
   ],
   "source": [
    "model_rf_gb_ipa_pred = model_rf_gb_ipa.predict(X_test_style)\n",
    "roc_auc_score(y_test_style, model_rf_gb_ipa_pred)"
   ]
  },
  {
   "cell_type": "code",
   "execution_count": 262,
   "metadata": {},
   "outputs": [
    {
     "name": "stdout",
     "output_type": "stream",
     "text": [
      "Gradient Boost ROC Score better than KNN\n"
     ]
    }
   ],
   "source": [
    "if roc_auc_score(y_test_style, model_rf_gb_ipa_pred)>roc_auc_score(y_test_style, knn_model_ipa_pred):\n",
    "    print(\"Gradient Boost ROC Score better than KNN\")\n",
    "else:\n",
    "    print(\"KNN ROC Score better than Gradient Boost\")"
   ]
  },
  {
   "cell_type": "code",
   "execution_count": 263,
   "metadata": {},
   "outputs": [
    {
     "name": "stdout",
     "output_type": "stream",
     "text": [
      "F1: 0.7813915191436805\n",
      "Accuracy: 0.8734207389749702\n",
      "Precision: 0.8078314535007448\n",
      "Recall: 0.7566274666135141\n"
     ]
    }
   ],
   "source": [
    "print('F1:',metrics.f1_score(y_test_style, model_rf_gb_ipa_pred))\n",
    "print('Accuracy:', metrics.accuracy_score(y_test_style, model_rf_gb_ipa_pred))\n",
    "print('Precision:', metrics.precision_score(y_test_style, model_rf_gb_ipa_pred))\n",
    "print('Recall:', metrics.recall_score(y_test_style, model_rf_gb_ipa_pred))"
   ]
  },
  {
   "cell_type": "markdown",
   "metadata": {},
   "source": [
    "Lager"
   ]
  },
  {
   "cell_type": "code",
   "execution_count": 265,
   "metadata": {},
   "outputs": [],
   "source": [
    "#Input styles here:\n",
    "\n",
    "y_test_style = y_test_lager\n",
    "X_test_style = X_test_lager\n",
    "\n",
    "y_train_style = y_train_lager\n",
    "X_train_style = X_train_lager"
   ]
  },
  {
   "cell_type": "code",
   "execution_count": 266,
   "metadata": {},
   "outputs": [
    {
     "data": {
      "text/plain": [
       "GradientBoostingClassifier(criterion='friedman_mse', init=None,\n",
       "              learning_rate=0.1, loss='deviance', max_depth=3,\n",
       "              max_features=None, max_leaf_nodes=None,\n",
       "              min_impurity_decrease=0.0, min_impurity_split=None,\n",
       "              min_samples_leaf=1, min_samples_split=2,\n",
       "              min_weight_fraction_leaf=0.0, n_estimators=100,\n",
       "              presort='auto', random_state=None, subsample=1.0, verbose=0,\n",
       "              warm_start=False)"
      ]
     },
     "execution_count": 266,
     "metadata": {},
     "output_type": "execute_result"
    }
   ],
   "source": [
    "model_rf_gb_lager = GradientBoostingClassifier()\n",
    "model_rf_gb_lager.fit(X_train_style, y_train_style)"
   ]
  },
  {
   "cell_type": "code",
   "execution_count": 267,
   "metadata": {},
   "outputs": [
    {
     "name": "stdout",
     "output_type": "stream",
     "text": [
      "Train Accuracy: 0.9313207161647894 Test Accuracy:  0.930393325387366\n"
     ]
    }
   ],
   "source": [
    "print('Train Accuracy:',model_rf_gb_lager.score(X_train_style, y_train_style), 'Test Accuracy: ',model_rf_gb_lager.score(X_test_style, y_test_style))"
   ]
  },
  {
   "cell_type": "code",
   "execution_count": 268,
   "metadata": {},
   "outputs": [
    {
     "data": {
      "text/plain": [
       "0.5302891390400423"
      ]
     },
     "execution_count": 268,
     "metadata": {},
     "output_type": "execute_result"
    }
   ],
   "source": [
    "model_rf_gb_lager_pred = model_rf_gb_lager.predict(X_test_style)\n",
    "roc_auc_score(y_test_style, model_rf_gb_lager_pred)"
   ]
  },
  {
   "cell_type": "code",
   "execution_count": 269,
   "metadata": {},
   "outputs": [
    {
     "name": "stdout",
     "output_type": "stream",
     "text": [
      "Random Forest ROC Score better than Gradient Boost\n"
     ]
    }
   ],
   "source": [
    "if roc_auc_score(y_test_style, model_rf_gb_lager_pred)>roc_auc_score(y_test_style, rf_model_lager_pred):\n",
    "    print(\"Gradient Boost ROC Score better than Random Forest\")\n",
    "else:\n",
    "    print(\"Random Forest ROC Score better than Gradient Boost\")"
   ]
  },
  {
   "cell_type": "code",
   "execution_count": 270,
   "metadata": {},
   "outputs": [
    {
     "name": "stdout",
     "output_type": "stream",
     "text": [
      "F1: 0.11515151515151516\n",
      "Accuracy: 0.930393325387366\n",
      "Precision: 0.6666666666666666\n",
      "Recall: 0.06301824212271974\n"
     ]
    }
   ],
   "source": [
    "print('F1:',metrics.f1_score(y_test_style, model_rf_gb_lager_pred))\n",
    "print('Accuracy:', metrics.accuracy_score(y_test_style, model_rf_gb_lager_pred))\n",
    "print('Precision:', metrics.precision_score(y_test_style, model_rf_gb_lager_pred))\n",
    "print('Recall:', metrics.recall_score(y_test_style, model_rf_gb_lager_pred))"
   ]
  },
  {
   "cell_type": "markdown",
   "metadata": {},
   "source": [
    "Stout"
   ]
  },
  {
   "cell_type": "code",
   "execution_count": 272,
   "metadata": {},
   "outputs": [],
   "source": [
    "#Input styles here:\n",
    "\n",
    "y_test_style = y_test_stout\n",
    "X_test_style = X_test_stout\n",
    "\n",
    "y_train_style = y_train_stout\n",
    "X_train_style = X_train_stout"
   ]
  },
  {
   "cell_type": "code",
   "execution_count": 273,
   "metadata": {},
   "outputs": [
    {
     "data": {
      "text/plain": [
       "GradientBoostingClassifier(criterion='friedman_mse', init=None,\n",
       "              learning_rate=0.1, loss='deviance', max_depth=3,\n",
       "              max_features=None, max_leaf_nodes=None,\n",
       "              min_impurity_decrease=0.0, min_impurity_split=None,\n",
       "              min_samples_leaf=1, min_samples_split=2,\n",
       "              min_weight_fraction_leaf=0.0, n_estimators=100,\n",
       "              presort='auto', random_state=None, subsample=1.0, verbose=0,\n",
       "              warm_start=False)"
      ]
     },
     "execution_count": 273,
     "metadata": {},
     "output_type": "execute_result"
    }
   ],
   "source": [
    "model_rf_gb_stout = GradientBoostingClassifier()\n",
    "model_rf_gb_stout.fit(X_train_style, y_train_style)"
   ]
  },
  {
   "cell_type": "code",
   "execution_count": 274,
   "metadata": {},
   "outputs": [
    {
     "name": "stdout",
     "output_type": "stream",
     "text": [
      "Train Accuracy: 0.9504252547697495 Test Accuracy:  0.9469010727056019\n"
     ]
    }
   ],
   "source": [
    "print('Train Accuracy:',model_rf_gb_stout.score(X_train_style, y_train_style), 'Test Accuracy: ',model_rf_gb_stout.score(X_test_style, y_test_style))"
   ]
  },
  {
   "cell_type": "code",
   "execution_count": 275,
   "metadata": {},
   "outputs": [
    {
     "data": {
      "text/plain": [
       "0.8789732915122136"
      ]
     },
     "execution_count": 275,
     "metadata": {},
     "output_type": "execute_result"
    }
   ],
   "source": [
    "model_rf_gb_stout_pred = model_rf_gb_stout.predict(X_test_style)\n",
    "roc_auc_score(y_test_style, model_rf_gb_stout_pred)"
   ]
  },
  {
   "cell_type": "code",
   "execution_count": 276,
   "metadata": {},
   "outputs": [
    {
     "name": "stdout",
     "output_type": "stream",
     "text": [
      "Gradient Boost ROC Score better than KNN\n"
     ]
    }
   ],
   "source": [
    "if roc_auc_score(y_test_style, model_rf_gb_stout_pred)>roc_auc_score(y_test_style, knn_model_stout_pred):\n",
    "    print(\"Gradient Boost ROC Score better than KNN\")\n",
    "else:\n",
    "    print(\"KNN ROC Score better than Gradient Boost\")"
   ]
  },
  {
   "cell_type": "code",
   "execution_count": null,
   "metadata": {},
   "outputs": [],
   "source": [
    "print('F1:',metrics.f1_score(y_test_style, model_rf_gb_stout_pred))\n",
    "print('Accuracy:', metrics.accuracy_score(y_test_style, model_rf_gb_stout_pred))\n",
    "print('Precision:', metrics.precision_score(y_test_style, model_rf_gb_stout_pred))\n",
    "print('Recall:', metrics.recall_score(y_test_style, model_rf_gb_stout_pred))"
   ]
  },
  {
   "cell_type": "markdown",
   "metadata": {},
   "source": [
    "Porter"
   ]
  },
  {
   "cell_type": "code",
   "execution_count": 277,
   "metadata": {},
   "outputs": [],
   "source": [
    "#Input styles here:\n",
    "\n",
    "y_test_style = y_test_porter\n",
    "X_test_style = X_test_porter\n",
    "\n",
    "y_train_style = y_train_porter\n",
    "X_train_style = X_train_porter"
   ]
  },
  {
   "cell_type": "code",
   "execution_count": 278,
   "metadata": {},
   "outputs": [
    {
     "data": {
      "text/plain": [
       "GradientBoostingClassifier(criterion='friedman_mse', init=None,\n",
       "              learning_rate=0.1, loss='deviance', max_depth=3,\n",
       "              max_features=None, max_leaf_nodes=None,\n",
       "              min_impurity_decrease=0.0, min_impurity_split=None,\n",
       "              min_samples_leaf=1, min_samples_split=2,\n",
       "              min_weight_fraction_leaf=0.0, n_estimators=100,\n",
       "              presort='auto', random_state=None, subsample=1.0, verbose=0,\n",
       "              warm_start=False)"
      ]
     },
     "execution_count": 278,
     "metadata": {},
     "output_type": "execute_result"
    }
   ],
   "source": [
    "model_rf_gb_porter = GradientBoostingClassifier()\n",
    "model_rf_gb_porter.fit(X_train_style, y_train_style)"
   ]
  },
  {
   "cell_type": "code",
   "execution_count": 279,
   "metadata": {},
   "outputs": [
    {
     "name": "stdout",
     "output_type": "stream",
     "text": [
      "Train Accuracy: 0.9579853395652951 Test Accuracy:  0.9552443384982121\n"
     ]
    }
   ],
   "source": [
    "print('Train Accuracy:',model_rf_gb_porter.score(X_train_style, y_train_style), 'Test Accuracy: ',model_rf_gb_porter.score(X_test_style, y_test_style))"
   ]
  },
  {
   "cell_type": "code",
   "execution_count": 280,
   "metadata": {},
   "outputs": [
    {
     "data": {
      "text/plain": [
       "0.5503018949967232"
      ]
     },
     "execution_count": 280,
     "metadata": {},
     "output_type": "execute_result"
    }
   ],
   "source": [
    "model_rf_gb_porter_pred = model_rf_gb_porter.predict(X_test_style)\n",
    "roc_auc_score(y_test_style, model_rf_gb_porter_pred)"
   ]
  },
  {
   "cell_type": "code",
   "execution_count": 281,
   "metadata": {},
   "outputs": [
    {
     "name": "stdout",
     "output_type": "stream",
     "text": [
      "Random Forest ROC Score better than Gradient Boost\n"
     ]
    }
   ],
   "source": [
    "if roc_auc_score(y_test_style, model_rf_gb_porter_pred)>roc_auc_score(y_test_style, rf_model_porter_pred):\n",
    "    print(\"Gradient Boost ROC Score better than Random Forest\")\n",
    "else:\n",
    "    print(\"Random Forest ROC Score better than Gradient Boost\")"
   ]
  },
  {
   "cell_type": "code",
   "execution_count": 282,
   "metadata": {},
   "outputs": [
    {
     "name": "stdout",
     "output_type": "stream",
     "text": [
      "F1: 0.17563117453347968\n",
      "Accuracy: 0.9552443384982121\n",
      "Precision: 0.5405405405405406\n",
      "Recall: 0.10484927916120576\n"
     ]
    }
   ],
   "source": [
    "print('F1:',metrics.f1_score(y_test_style, model_rf_gb_porter_pred))\n",
    "print('Accuracy:', metrics.accuracy_score(y_test_style, model_rf_gb_porter_pred))\n",
    "print('Precision:', metrics.precision_score(y_test_style, model_rf_gb_porter_pred))\n",
    "print('Recall:', metrics.recall_score(y_test_style, model_rf_gb_porter_pred))"
   ]
  },
  {
   "cell_type": "markdown",
   "metadata": {},
   "source": [
    "Saison"
   ]
  },
  {
   "cell_type": "code",
   "execution_count": 283,
   "metadata": {},
   "outputs": [],
   "source": [
    "#Input styles here:\n",
    "\n",
    "y_test_style = y_test_saison\n",
    "X_test_style = X_test_saison\n",
    "\n",
    "y_train_style = y_train_saison\n",
    "X_train_style = X_train_saison"
   ]
  },
  {
   "cell_type": "code",
   "execution_count": 284,
   "metadata": {},
   "outputs": [
    {
     "data": {
      "text/plain": [
       "GradientBoostingClassifier(criterion='friedman_mse', init=None,\n",
       "              learning_rate=0.1, loss='deviance', max_depth=3,\n",
       "              max_features=None, max_leaf_nodes=None,\n",
       "              min_impurity_decrease=0.0, min_impurity_split=None,\n",
       "              min_samples_leaf=1, min_samples_split=2,\n",
       "              min_weight_fraction_leaf=0.0, n_estimators=100,\n",
       "              presort='auto', random_state=None, subsample=1.0, verbose=0,\n",
       "              warm_start=False)"
      ]
     },
     "execution_count": 284,
     "metadata": {},
     "output_type": "execute_result"
    }
   ],
   "source": [
    "model_rf_gb_saison = GradientBoostingClassifier()\n",
    "model_rf_gb_saison.fit(X_train_style, y_train_style)"
   ]
  },
  {
   "cell_type": "code",
   "execution_count": 285,
   "metadata": {},
   "outputs": [
    {
     "name": "stdout",
     "output_type": "stream",
     "text": [
      "Train Accuracy: 0.9582407478354149 Test Accuracy:  0.9572109654350417\n"
     ]
    }
   ],
   "source": [
    "print('Train Accuracy:',model_rf_gb_saison.score(X_train_style, y_train_style), 'Test Accuracy: ',model_rf_gb_saison.score(X_test_style, y_test_style))"
   ]
  },
  {
   "cell_type": "code",
   "execution_count": 286,
   "metadata": {},
   "outputs": [
    {
     "data": {
      "text/plain": [
       "0.5481281035908953"
      ]
     },
     "execution_count": 286,
     "metadata": {},
     "output_type": "execute_result"
    }
   ],
   "source": [
    "model_rf_gb_saison_pred = model_rf_gb_saison.predict(X_test_style)\n",
    "roc_auc_score(y_test_style, model_rf_gb_saison_pred)"
   ]
  },
  {
   "cell_type": "code",
   "execution_count": 287,
   "metadata": {},
   "outputs": [
    {
     "name": "stdout",
     "output_type": "stream",
     "text": [
      "Random Forest ROC Score better than Gradient Boost\n"
     ]
    }
   ],
   "source": [
    "if roc_auc_score(y_test_style, model_rf_gb_saison_pred)>roc_auc_score(y_test_style, rf_model_saison_pred):\n",
    "    print(\"Gradient Boost ROC Score better than Random Forest\")\n",
    "else:\n",
    "    print(\"Random Forest ROC Score better than Gradient Boost\")"
   ]
  },
  {
   "cell_type": "code",
   "execution_count": 288,
   "metadata": {},
   "outputs": [
    {
     "name": "stdout",
     "output_type": "stream",
     "text": [
      "F1: 0.17090069284064663\n",
      "Accuracy: 0.9572109654350417\n",
      "Precision: 0.6218487394957983\n",
      "Recall: 0.09906291834002677\n"
     ]
    }
   ],
   "source": [
    "print('F1:',metrics.f1_score(y_test_style, model_rf_gb_saison_pred))\n",
    "print('Accuracy:', metrics.accuracy_score(y_test_style, model_rf_gb_saison_pred))\n",
    "print('Precision:', metrics.precision_score(y_test_style, model_rf_gb_saison_pred))\n",
    "print('Recall:', metrics.recall_score(y_test_style, model_rf_gb_saison_pred))"
   ]
  },
  {
   "cell_type": "markdown",
   "metadata": {},
   "source": [
    "Kolsch"
   ]
  },
  {
   "cell_type": "code",
   "execution_count": 289,
   "metadata": {},
   "outputs": [],
   "source": [
    "#Input styles here:\n",
    "\n",
    "y_test_style = y_test_kolsch\n",
    "X_test_style = X_test_kolsch\n",
    "\n",
    "y_train_style = y_train_kolsch\n",
    "X_train_style = X_train_kolsch"
   ]
  },
  {
   "cell_type": "code",
   "execution_count": 290,
   "metadata": {},
   "outputs": [
    {
     "data": {
      "text/plain": [
       "GradientBoostingClassifier(criterion='friedman_mse', init=None,\n",
       "              learning_rate=0.1, loss='deviance', max_depth=3,\n",
       "              max_features=None, max_leaf_nodes=None,\n",
       "              min_impurity_decrease=0.0, min_impurity_split=None,\n",
       "              min_samples_leaf=1, min_samples_split=2,\n",
       "              min_weight_fraction_leaf=0.0, n_estimators=100,\n",
       "              presort='auto', random_state=None, subsample=1.0, verbose=0,\n",
       "              warm_start=False)"
      ]
     },
     "execution_count": 290,
     "metadata": {},
     "output_type": "execute_result"
    }
   ],
   "source": [
    "model_rf_gb_kolsch = GradientBoostingClassifier()\n",
    "model_rf_gb_kolsch.fit(X_train_style, y_train_style)"
   ]
  },
  {
   "cell_type": "code",
   "execution_count": 291,
   "metadata": {},
   "outputs": [
    {
     "name": "stdout",
     "output_type": "stream",
     "text": [
      "Train Accuracy: 0.9865144433376752 Test Accuracy:  0.9855184743742551\n"
     ]
    }
   ],
   "source": [
    "print('Train Accuracy:',model_rf_gb_kolsch.score(X_train_style, y_train_style), 'Test Accuracy: ',model_rf_gb_kolsch.score(X_test_style, y_test_style))"
   ]
  },
  {
   "cell_type": "code",
   "execution_count": 292,
   "metadata": {},
   "outputs": [
    {
     "data": {
      "text/plain": [
       "0.5438406843423896"
      ]
     },
     "execution_count": 292,
     "metadata": {},
     "output_type": "execute_result"
    }
   ],
   "source": [
    "model_rf_gb_kolsch_pred = model_rf_gb_kolsch.predict(X_test_style)\n",
    "roc_auc_score(y_test_style, model_rf_gb_kolsch_pred)"
   ]
  },
  {
   "cell_type": "code",
   "execution_count": 293,
   "metadata": {},
   "outputs": [
    {
     "name": "stdout",
     "output_type": "stream",
     "text": [
      "Random Forest ROC Score better than Gradient Boost\n"
     ]
    }
   ],
   "source": [
    "if roc_auc_score(y_test_style, model_rf_gb_kolsch_pred)>roc_auc_score(y_test_style, rf_model_kolsch_pred):\n",
    "    print(\"Gradient Boost ROC Score better than Random Forest\")\n",
    "else:\n",
    "    print(\"Random Forest ROC Score better than Gradient Boost\")"
   ]
  },
  {
   "cell_type": "code",
   "execution_count": 294,
   "metadata": {},
   "outputs": [
    {
     "name": "stdout",
     "output_type": "stream",
     "text": [
      "F1: 0.15331010452961671\n",
      "Accuracy: 0.9855184743742551\n",
      "Precision: 0.5641025641025641\n",
      "Recall: 0.08870967741935484\n"
     ]
    }
   ],
   "source": [
    "print('F1:',metrics.f1_score(y_test_style, model_rf_gb_kolsch_pred))\n",
    "print('Accuracy:', metrics.accuracy_score(y_test_style, model_rf_gb_kolsch_pred))\n",
    "print('Precision:', metrics.precision_score(y_test_style, model_rf_gb_kolsch_pred))\n",
    "print('Recall:', metrics.recall_score(y_test_style, model_rf_gb_kolsch_pred))"
   ]
  },
  {
   "cell_type": "markdown",
   "metadata": {},
   "source": [
    "Ale"
   ]
  },
  {
   "cell_type": "code",
   "execution_count": 295,
   "metadata": {},
   "outputs": [],
   "source": [
    "#Input styles here:\n",
    "\n",
    "y_test_style = y_test_ale\n",
    "X_test_style = X_test_ale\n",
    "\n",
    "y_train_style = y_train_ale\n",
    "X_train_style = X_train_ale"
   ]
  },
  {
   "cell_type": "code",
   "execution_count": 296,
   "metadata": {},
   "outputs": [
    {
     "data": {
      "text/plain": [
       "GradientBoostingClassifier(criterion='friedman_mse', init=None,\n",
       "              learning_rate=0.1, loss='deviance', max_depth=3,\n",
       "              max_features=None, max_leaf_nodes=None,\n",
       "              min_impurity_decrease=0.0, min_impurity_split=None,\n",
       "              min_samples_leaf=1, min_samples_split=2,\n",
       "              min_weight_fraction_leaf=0.0, n_estimators=100,\n",
       "              presort='auto', random_state=None, subsample=1.0, verbose=0,\n",
       "              warm_start=False)"
      ]
     },
     "execution_count": 296,
     "metadata": {},
     "output_type": "execute_result"
    }
   ],
   "source": [
    "model_rf_gb_ale = GradientBoostingClassifier()\n",
    "model_rf_gb_ale.fit(X_train_style, y_train_style)"
   ]
  },
  {
   "cell_type": "code",
   "execution_count": 297,
   "metadata": {},
   "outputs": [
    {
     "name": "stdout",
     "output_type": "stream",
     "text": [
      "Train Accuracy: 0.8550558067070212 Test Accuracy:  0.8486293206197855\n"
     ]
    }
   ],
   "source": [
    "print('Train Accuracy:',model_rf_gb_ale.score(X_train_style, y_train_style), 'Test Accuracy: ',model_rf_gb_ale.score(X_test_style, y_test_style))"
   ]
  },
  {
   "cell_type": "code",
   "execution_count": 298,
   "metadata": {},
   "outputs": [
    {
     "data": {
      "text/plain": [
       "0.6719774545861503"
      ]
     },
     "execution_count": 298,
     "metadata": {},
     "output_type": "execute_result"
    }
   ],
   "source": [
    "model_rf_gb_ale_pred = model_rf_gb_ale.predict(X_test_style)\n",
    "roc_auc_score(y_test_style, model_rf_gb_ale_pred)"
   ]
  },
  {
   "cell_type": "code",
   "execution_count": 299,
   "metadata": {},
   "outputs": [
    {
     "name": "stdout",
     "output_type": "stream",
     "text": [
      "Gradient Boost ROC Score better than Random Forest\n"
     ]
    }
   ],
   "source": [
    "if roc_auc_score(y_test_style, model_rf_gb_ale_pred)>roc_auc_score(y_test_style, rf_model_ale_pred):\n",
    "    print(\"Gradient Boost ROC Score better than Random Forest\")\n",
    "else:\n",
    "    print(\"Random Forest ROC Score better than Gradient Boost\")"
   ]
  },
  {
   "cell_type": "code",
   "execution_count": 300,
   "metadata": {},
   "outputs": [
    {
     "name": "stdout",
     "output_type": "stream",
     "text": [
      "F1: 0.49563145353455124\n",
      "Accuracy: 0.8486293206197855\n",
      "Precision: 0.701123595505618\n",
      "Recall: 0.3832923832923833\n"
     ]
    }
   ],
   "source": [
    "print('F1:',metrics.f1_score(y_test_style, model_rf_gb_ale_pred))\n",
    "print('Accuracy:', metrics.accuracy_score(y_test_style, model_rf_gb_ale_pred))\n",
    "print('Precision:', metrics.precision_score(y_test_style, model_rf_gb_ale_pred))\n",
    "print('Recall:', metrics.recall_score(y_test_style, model_rf_gb_ale_pred))"
   ]
  },
  {
   "cell_type": "markdown",
   "metadata": {},
   "source": [
    "APA"
   ]
  },
  {
   "cell_type": "code",
   "execution_count": 301,
   "metadata": {},
   "outputs": [],
   "source": [
    "#Input styles here:\n",
    "\n",
    "y_test_style = y_test_apa\n",
    "X_test_style = X_test_apa\n",
    "\n",
    "y_train_style = y_train_apa\n",
    "X_train_style = X_train_apa"
   ]
  },
  {
   "cell_type": "code",
   "execution_count": 302,
   "metadata": {},
   "outputs": [
    {
     "data": {
      "text/plain": [
       "GradientBoostingClassifier(criterion='friedman_mse', init=None,\n",
       "              learning_rate=0.1, loss='deviance', max_depth=3,\n",
       "              max_features=None, max_leaf_nodes=None,\n",
       "              min_impurity_decrease=0.0, min_impurity_split=None,\n",
       "              min_samples_leaf=1, min_samples_split=2,\n",
       "              min_weight_fraction_leaf=0.0, n_estimators=100,\n",
       "              presort='auto', random_state=None, subsample=1.0, verbose=0,\n",
       "              warm_start=False)"
      ]
     },
     "execution_count": 302,
     "metadata": {},
     "output_type": "execute_result"
    }
   ],
   "source": [
    "model_rf_gb_apa = GradientBoostingClassifier()\n",
    "model_rf_gb_apa.fit(X_train_style, y_train_style)"
   ]
  },
  {
   "cell_type": "code",
   "execution_count": 303,
   "metadata": {},
   "outputs": [
    {
     "name": "stdout",
     "output_type": "stream",
     "text": [
      "Train Accuracy: 0.8926519040686537 Test Accuracy:  0.8950536352800954\n"
     ]
    }
   ],
   "source": [
    "print('Train Accuracy:',model_rf_gb_apa.score(X_train_style, y_train_style), 'Test Accuracy: ',model_rf_gb_apa.score(X_test_style, y_test_style))"
   ]
  },
  {
   "cell_type": "code",
   "execution_count": 304,
   "metadata": {},
   "outputs": [
    {
     "data": {
      "text/plain": [
       "0.6851869831637813"
      ]
     },
     "execution_count": 304,
     "metadata": {},
     "output_type": "execute_result"
    }
   ],
   "source": [
    "model_rf_gb_apa_pred = model_rf_gb_apa.predict(X_test_style)\n",
    "roc_auc_score(y_test_style, model_rf_gb_apa_pred)"
   ]
  },
  {
   "cell_type": "code",
   "execution_count": 305,
   "metadata": {},
   "outputs": [
    {
     "name": "stdout",
     "output_type": "stream",
     "text": [
      "Gradient Boost ROC Score better than Random Forest\n"
     ]
    }
   ],
   "source": [
    "if roc_auc_score(y_test_style, model_rf_gb_apa_pred)>roc_auc_score(y_test_style, rf_model_apa_pred):\n",
    "    print(\"Gradient Boost ROC Score better than Random Forest\")\n",
    "else:\n",
    "    print(\"Random Forest ROC Score better than Gradient Boost\")"
   ]
  },
  {
   "cell_type": "code",
   "execution_count": 306,
   "metadata": {},
   "outputs": [
    {
     "name": "stdout",
     "output_type": "stream",
     "text": [
      "F1: 0.4964255075779239\n",
      "Accuracy: 0.8950536352800954\n",
      "Precision: 0.646795827123696\n",
      "Recall: 0.40278422273781905\n"
     ]
    }
   ],
   "source": [
    "print('F1:',metrics.f1_score(y_test_style, model_rf_gb_apa_pred))\n",
    "print('Accuracy:', metrics.accuracy_score(y_test_style, model_rf_gb_apa_pred))\n",
    "print('Precision:', metrics.precision_score(y_test_style, model_rf_gb_apa_pred))\n",
    "print('Recall:', metrics.recall_score(y_test_style, model_rf_gb_apa_pred))"
   ]
  },
  {
   "cell_type": "markdown",
   "metadata": {},
   "source": [
    "Wheat"
   ]
  },
  {
   "cell_type": "code",
   "execution_count": 307,
   "metadata": {},
   "outputs": [],
   "source": [
    "#Input styles here:\n",
    "\n",
    "y_test_style = y_test_wheat\n",
    "X_test_style = X_test_wheat\n",
    "\n",
    "y_train_style = y_train_wheat\n",
    "X_train_style = X_train_wheat"
   ]
  },
  {
   "cell_type": "code",
   "execution_count": 308,
   "metadata": {},
   "outputs": [
    {
     "data": {
      "text/plain": [
       "GradientBoostingClassifier(criterion='friedman_mse', init=None,\n",
       "              learning_rate=0.1, loss='deviance', max_depth=3,\n",
       "              max_features=None, max_leaf_nodes=None,\n",
       "              min_impurity_decrease=0.0, min_impurity_split=None,\n",
       "              min_samples_leaf=1, min_samples_split=2,\n",
       "              min_weight_fraction_leaf=0.0, n_estimators=100,\n",
       "              presort='auto', random_state=None, subsample=1.0, verbose=0,\n",
       "              warm_start=False)"
      ]
     },
     "execution_count": 308,
     "metadata": {},
     "output_type": "execute_result"
    }
   ],
   "source": [
    "model_rf_gb_wheat = GradientBoostingClassifier()\n",
    "model_rf_gb_wheat.fit(X_train_style, y_train_style)"
   ]
  },
  {
   "cell_type": "code",
   "execution_count": 309,
   "metadata": {},
   "outputs": [
    {
     "name": "stdout",
     "output_type": "stream",
     "text": [
      "Train Accuracy: 0.9422521901259163 Test Accuracy:  0.9402860548271752\n"
     ]
    }
   ],
   "source": [
    "print('Train Accuracy:',model_rf_gb_wheat.score(X_train_style, y_train_style), 'Test Accuracy: ',model_rf_gb_wheat.score(X_test_style, y_test_style))"
   ]
  },
  {
   "cell_type": "code",
   "execution_count": 310,
   "metadata": {},
   "outputs": [
    {
     "data": {
      "text/plain": [
       "0.7313954887306295"
      ]
     },
     "execution_count": 310,
     "metadata": {},
     "output_type": "execute_result"
    }
   ],
   "source": [
    "model_rf_gb_wheat_pred = model_rf_gb_wheat.predict(X_test_style)\n",
    "roc_auc_score(y_test_style, model_rf_gb_wheat_pred)"
   ]
  },
  {
   "cell_type": "code",
   "execution_count": 311,
   "metadata": {},
   "outputs": [
    {
     "name": "stdout",
     "output_type": "stream",
     "text": [
      "Gradient Boost ROC Score better than Random Forest\n"
     ]
    }
   ],
   "source": [
    "if roc_auc_score(y_test_style, model_rf_gb_wheat_pred)>roc_auc_score(y_test_style, rf_model_wheat_pred):\n",
    "    print(\"Gradient Boost ROC Score better than Random Forest\")\n",
    "else:\n",
    "    print(\"Random Forest ROC Score better than Gradient Boost\")"
   ]
  },
  {
   "cell_type": "code",
   "execution_count": 312,
   "metadata": {},
   "outputs": [
    {
     "name": "stdout",
     "output_type": "stream",
     "text": [
      "F1: 0.5647263249348392\n",
      "Accuracy: 0.9402860548271752\n",
      "Precision: 0.680628272251309\n",
      "Recall: 0.4825538233110616\n"
     ]
    }
   ],
   "source": [
    "print('F1:',metrics.f1_score(y_test_style, model_rf_gb_wheat_pred))\n",
    "print('Accuracy:', metrics.accuracy_score(y_test_style, model_rf_gb_wheat_pred))\n",
    "print('Precision:', metrics.precision_score(y_test_style, model_rf_gb_wheat_pred))\n",
    "print('Recall:', metrics.recall_score(y_test_style, model_rf_gb_wheat_pred))"
   ]
  },
  {
   "cell_type": "markdown",
   "metadata": {},
   "source": [
    "Pilsner"
   ]
  },
  {
   "cell_type": "code",
   "execution_count": 313,
   "metadata": {},
   "outputs": [],
   "source": [
    "#Input styles here:\n",
    "\n",
    "y_test_style = y_test_pilsner\n",
    "X_test_style = X_test_pilsner\n",
    "\n",
    "y_train_style = y_train_pilsner\n",
    "X_train_style = X_train_pilsner"
   ]
  },
  {
   "cell_type": "code",
   "execution_count": 314,
   "metadata": {},
   "outputs": [
    {
     "data": {
      "text/plain": [
       "GradientBoostingClassifier(criterion='friedman_mse', init=None,\n",
       "              learning_rate=0.1, loss='deviance', max_depth=3,\n",
       "              max_features=None, max_leaf_nodes=None,\n",
       "              min_impurity_decrease=0.0, min_impurity_split=None,\n",
       "              min_samples_leaf=1, min_samples_split=2,\n",
       "              min_weight_fraction_leaf=0.0, n_estimators=100,\n",
       "              presort='auto', random_state=None, subsample=1.0, verbose=0,\n",
       "              warm_start=False)"
      ]
     },
     "execution_count": 314,
     "metadata": {},
     "output_type": "execute_result"
    }
   ],
   "source": [
    "model_rf_gb_pilsner = GradientBoostingClassifier()\n",
    "model_rf_gb_pilsner.fit(X_train_style, y_train_style)"
   ]
  },
  {
   "cell_type": "code",
   "execution_count": 315,
   "metadata": {},
   "outputs": [
    {
     "name": "stdout",
     "output_type": "stream",
     "text": [
      "Train Accuracy: 0.9841391464255612 Test Accuracy:  0.9829558998808104\n"
     ]
    }
   ],
   "source": [
    "print('Train Accuracy:',model_rf_gb_pilsner.score(X_train_style, y_train_style), 'Test Accuracy: ',model_rf_gb_pilsner.score(X_test_style, y_test_style))"
   ]
  },
  {
   "cell_type": "code",
   "execution_count": 316,
   "metadata": {},
   "outputs": [
    {
     "data": {
      "text/plain": [
       "0.5423488615444765"
      ]
     },
     "execution_count": 316,
     "metadata": {},
     "output_type": "execute_result"
    }
   ],
   "source": [
    "model_rf_gb_pilsner_pred = model_rf_gb_pilsner.predict(X_test_style)\n",
    "roc_auc_score(y_test_style, model_rf_gb_pilsner_pred)"
   ]
  },
  {
   "cell_type": "code",
   "execution_count": 317,
   "metadata": {},
   "outputs": [
    {
     "name": "stdout",
     "output_type": "stream",
     "text": [
      "Gradient Boost ROC Score better than Random Forest\n"
     ]
    }
   ],
   "source": [
    "if roc_auc_score(y_test_style, model_rf_gb_pilsner_pred)>roc_auc_score(y_test_style, rf_model_pilsner_pred):\n",
    "    print(\"Gradient Boost ROC Score better than Random Forest\")\n",
    "else:\n",
    "    print(\"Random Forest ROC Score better than Gradient Boost\")"
   ]
  },
  {
   "cell_type": "code",
   "execution_count": 318,
   "metadata": {},
   "outputs": [
    {
     "name": "stdout",
     "output_type": "stream",
     "text": [
      "F1: 0.1488095238095238\n",
      "Accuracy: 0.9829558998808104\n",
      "Precision: 0.5555555555555556\n",
      "Recall: 0.0859106529209622\n"
     ]
    }
   ],
   "source": [
    "print('F1:',metrics.f1_score(y_test_style, model_rf_gb_pilsner_pred))\n",
    "print('Accuracy:', metrics.accuracy_score(y_test_style, model_rf_gb_pilsner_pred))\n",
    "print('Precision:', metrics.precision_score(y_test_style, model_rf_gb_pilsner_pred))\n",
    "print('Recall:', metrics.recall_score(y_test_style, model_rf_gb_pilsner_pred))"
   ]
  },
  {
   "cell_type": "markdown",
   "metadata": {},
   "source": [
    "**Gaussian Naive Bayes**"
   ]
  },
  {
   "cell_type": "code",
   "execution_count": 320,
   "metadata": {},
   "outputs": [],
   "source": [
    "model_gnb = GaussianNB()"
   ]
  },
  {
   "cell_type": "code",
   "execution_count": 321,
   "metadata": {},
   "outputs": [
    {
     "data": {
      "text/plain": [
       "GaussianNB(priors=None)"
      ]
     },
     "execution_count": 321,
     "metadata": {},
     "output_type": "execute_result"
    }
   ],
   "source": [
    "model_gnb.fit(X_train, y_train)"
   ]
  },
  {
   "cell_type": "code",
   "execution_count": 322,
   "metadata": {},
   "outputs": [],
   "source": [
    "gnb_pred = model_gnb.predict(X_test)"
   ]
  },
  {
   "cell_type": "code",
   "execution_count": 323,
   "metadata": {
    "scrolled": true
   },
   "outputs": [
    {
     "data": {
      "text/plain": [
       "0.4088200238379023"
      ]
     },
     "execution_count": 323,
     "metadata": {},
     "output_type": "execute_result"
    }
   ],
   "source": [
    "model_gnb.score(X_test, y_test)"
   ]
  },
  {
   "cell_type": "code",
   "execution_count": 324,
   "metadata": {},
   "outputs": [
    {
     "name": "stdout",
     "output_type": "stream",
     "text": [
      "Overall Random Forest Accuracy better than Naive Bayes, move on to next model\n"
     ]
    }
   ],
   "source": [
    "#Use RF as baseline as some individual models perform better with RF than with Gradient Boost\n",
    "\n",
    "if model_gnb.score(X_test, y_test)>rf_model.score(X_test, y_test):\n",
    "    print(\"Overall Naive Bayes Accuracy better than Random Forest - check individual styles\")\n",
    "else:\n",
    "    print(\"Overall Random Forest Accuracy better than Naive Bayes, move on to next model\")"
   ]
  },
  {
   "cell_type": "markdown",
   "metadata": {},
   "source": [
    "**SVM**"
   ]
  },
  {
   "cell_type": "code",
   "execution_count": 325,
   "metadata": {},
   "outputs": [],
   "source": [
    "model_svm = SVC()"
   ]
  },
  {
   "cell_type": "code",
   "execution_count": 326,
   "metadata": {},
   "outputs": [
    {
     "data": {
      "text/plain": [
       "SVC(C=1.0, cache_size=200, class_weight=None, coef0=0.0,\n",
       "  decision_function_shape='ovr', degree=3, gamma='auto', kernel='rbf',\n",
       "  max_iter=-1, probability=False, random_state=None, shrinking=True,\n",
       "  tol=0.001, verbose=False)"
      ]
     },
     "execution_count": 326,
     "metadata": {},
     "output_type": "execute_result"
    }
   ],
   "source": [
    "model_svm.fit(X_train, y_train)"
   ]
  },
  {
   "cell_type": "code",
   "execution_count": 327,
   "metadata": {},
   "outputs": [],
   "source": [
    "svm_pred = model_svm.predict(X_test)"
   ]
  },
  {
   "cell_type": "code",
   "execution_count": 328,
   "metadata": {},
   "outputs": [
    {
     "data": {
      "text/plain": [
       "0.49451728247914184"
      ]
     },
     "execution_count": 328,
     "metadata": {},
     "output_type": "execute_result"
    }
   ],
   "source": [
    "model_svm.score(X_test, y_test)"
   ]
  },
  {
   "cell_type": "code",
   "execution_count": 329,
   "metadata": {},
   "outputs": [
    {
     "name": "stdout",
     "output_type": "stream",
     "text": [
      "Overall KNN Accuracy better than SVM, move on to next model\n"
     ]
    }
   ],
   "source": [
    "#Use RF as baseline as some individual models perform better with RF than with Gradient Boost\n",
    "\n",
    "if model_svm.score(X_test, y_test)>rf_model.score(X_test, y_test):\n",
    "    print(\"Overall SVM Accuracy better than KNN - check individual styles\")\n",
    "else:\n",
    "    print(\"Overall KNN Accuracy better than SVM, move on to next model\")"
   ]
  },
  {
   "cell_type": "markdown",
   "metadata": {},
   "source": [
    "**Neural Net**"
   ]
  },
  {
   "cell_type": "code",
   "execution_count": 330,
   "metadata": {},
   "outputs": [
    {
     "data": {
      "text/plain": [
       "(39153, 14)"
      ]
     },
     "execution_count": 330,
     "metadata": {},
     "output_type": "execute_result"
    }
   ],
   "source": [
    "X_train.shape"
   ]
  },
  {
   "cell_type": "code",
   "execution_count": 331,
   "metadata": {},
   "outputs": [
    {
     "data": {
      "text/plain": [
       "(16780, 14)"
      ]
     },
     "execution_count": 331,
     "metadata": {},
     "output_type": "execute_result"
    }
   ],
   "source": [
    "X_test.shape"
   ]
  },
  {
   "cell_type": "code",
   "execution_count": 332,
   "metadata": {},
   "outputs": [],
   "source": [
    "ohe = LabelEncoder().fit(y_train)\n",
    "y_train_nn = ohe.transform(y_train)\n",
    "y_test_nn = ohe.transform(y_test)\n",
    "y_train_nn = np_utils.to_categorical(y_train_nn)\n",
    "y_test_nn = np_utils.to_categorical(y_test_nn)"
   ]
  },
  {
   "cell_type": "code",
   "execution_count": 333,
   "metadata": {
    "scrolled": true
   },
   "outputs": [
    {
     "name": "stdout",
     "output_type": "stream",
     "text": [
      "Epoch 1/10\n",
      "39153/39153 [==============================] - 5s 128us/step - loss: 1.5231 - acc: 0.4765\n",
      "Epoch 2/10\n",
      "39153/39153 [==============================] - 5s 118us/step - loss: 1.3645 - acc: 0.5230\n",
      "Epoch 3/10\n",
      "39153/39153 [==============================] - 5s 115us/step - loss: 1.3378 - acc: 0.5279\n",
      "Epoch 4/10\n",
      "39153/39153 [==============================] - 5s 117us/step - loss: 1.3275 - acc: 0.5328\n",
      "Epoch 5/10\n",
      "39153/39153 [==============================] - 5s 117us/step - loss: 1.3218 - acc: 0.5338\n",
      "Epoch 6/10\n",
      "39153/39153 [==============================] - 5s 116us/step - loss: 1.3156 - acc: 0.5374\n",
      "Epoch 7/10\n",
      "39153/39153 [==============================] - 5s 136us/step - loss: 1.3085 - acc: 0.5393\n",
      "Epoch 8/10\n",
      "39153/39153 [==============================] - 5s 137us/step - loss: 1.3010 - acc: 0.5424 2s - ETA: 0s - loss: 1.3033 \n",
      "Epoch 9/10\n",
      "39153/39153 [==============================] - 5s 121us/step - loss: 1.2967 - acc: 0.5422 1s - - ETA: 0s - loss: 1.2973 -\n",
      "Epoch 10/10\n",
      "39153/39153 [==============================] - 5s 129us/step - loss: 1.2935 - acc: 0.5413\n"
     ]
    },
    {
     "data": {
      "text/plain": [
       "<keras.callbacks.History at 0x1a424cad68>"
      ]
     },
     "execution_count": 333,
     "metadata": {},
     "output_type": "execute_result"
    }
   ],
   "source": [
    "from keras.models import Sequential\n",
    "from keras.layers import Dense\n",
    "\n",
    "model = Sequential()\n",
    "model.add(Dense(8, input_dim = 14, activation = 'relu'))\n",
    "model.add(Dense(12, activation = 'tanh'))\n",
    "model.add(Dense(10, activation = 'softmax'))\n",
    "\n",
    "model.compile(loss = 'categorical_crossentropy', optimizer = 'adam', metrics = ['accuracy'])\n",
    "\n",
    "model.fit(X_train, y_train_nn, epochs = 10, batch_size = 10)"
   ]
  },
  {
   "cell_type": "code",
   "execution_count": 334,
   "metadata": {},
   "outputs": [
    {
     "name": "stdout",
     "output_type": "stream",
     "text": [
      "39153/39153 [==============================] - 1s 13us/step\n"
     ]
    },
    {
     "data": {
      "text/plain": [
       "[1.2859666419054203, 0.547544249494977]"
      ]
     },
     "execution_count": 334,
     "metadata": {},
     "output_type": "execute_result"
    }
   ],
   "source": [
    "train_scores = model.evaluate(X_train, y_train_nn)\n",
    "train_scores"
   ]
  },
  {
   "cell_type": "code",
   "execution_count": 335,
   "metadata": {},
   "outputs": [
    {
     "name": "stdout",
     "output_type": "stream",
     "text": [
      "16780/16780 [==============================] - 0s 14us/step\n"
     ]
    },
    {
     "data": {
      "text/plain": [
       "[1.2840528473666513, 0.5512514898546831]"
      ]
     },
     "execution_count": 335,
     "metadata": {},
     "output_type": "execute_result"
    }
   ],
   "source": [
    "test_scores = model.evaluate(X_test, y_test_nn)\n",
    "test_scores"
   ]
  },
  {
   "cell_type": "code",
   "execution_count": 336,
   "metadata": {
    "scrolled": true
   },
   "outputs": [
    {
     "name": "stdout",
     "output_type": "stream",
     "text": [
      "_________________________________________________________________\n",
      "Layer (type)                 Output Shape              Param #   \n",
      "=================================================================\n",
      "dense_1 (Dense)              (None, 8)                 120       \n",
      "_________________________________________________________________\n",
      "dense_2 (Dense)              (None, 12)                108       \n",
      "_________________________________________________________________\n",
      "dense_3 (Dense)              (None, 10)                130       \n",
      "=================================================================\n",
      "Total params: 358\n",
      "Trainable params: 358\n",
      "Non-trainable params: 0\n",
      "_________________________________________________________________\n"
     ]
    }
   ],
   "source": [
    "model.summary()"
   ]
  },
  {
   "cell_type": "code",
   "execution_count": 337,
   "metadata": {},
   "outputs": [],
   "source": [
    "preds_nn = model.predict(X_test)\n",
    "preds_class = model.predict_classes(X_test)"
   ]
  },
  {
   "cell_type": "code",
   "execution_count": 338,
   "metadata": {},
   "outputs": [
    {
     "data": {
      "text/plain": [
       "(16780,)"
      ]
     },
     "execution_count": 338,
     "metadata": {},
     "output_type": "execute_result"
    }
   ],
   "source": [
    "preds_class.shape"
   ]
  },
  {
   "cell_type": "code",
   "execution_count": 339,
   "metadata": {},
   "outputs": [
    {
     "name": "stdout",
     "output_type": "stream",
     "text": [
      "8 [0.04531846 0.17737567 0.00185378 0.00129594 0.08318979 0.02970044\n",
      " 0.24175045 0.04741991 0.361413   0.01068255] [0. 0. 0. 0. 0. 0. 1. 0. 0. 0.]\n"
     ]
    }
   ],
   "source": [
    "#Check working correctly - predicting style 8 because has highest probability:\n",
    "\n",
    "print(preds_class[0], preds_nn[0], y_test_nn[0])"
   ]
  },
  {
   "cell_type": "code",
   "execution_count": 340,
   "metadata": {},
   "outputs": [
    {
     "name": "stdout",
     "output_type": "stream",
     "text": [
      "NN Accuracy:  0.5512514898546831\n"
     ]
    }
   ],
   "source": [
    "print(\"NN Accuracy: \", test_scores[1])"
   ]
  },
  {
   "cell_type": "code",
   "execution_count": 344,
   "metadata": {},
   "outputs": [
    {
     "name": "stdout",
     "output_type": "stream",
     "text": [
      "Overall Random Forest Accuracy better than NN, use Random Forest in ensemble\n"
     ]
    }
   ],
   "source": [
    "#Use RF as baseline as some individual models perform better with RF than with Gradient Boost\n",
    "\n",
    "if test_scores[1]>rf_model.score(X_test, y_test):\n",
    "    print(\"Overall NN Accuracy better than Random Forest - check ensemble\")\n",
    "else:\n",
    "    print(\"Overall Random Forest Accuracy better than NN, use Random Forest in ensemble\")"
   ]
  },
  {
   "cell_type": "code",
   "execution_count": 343,
   "metadata": {},
   "outputs": [
    {
     "name": "stdout",
     "output_type": "stream",
     "text": [
      "Overall Gradient Boost Accuracy better than NN\n"
     ]
    }
   ],
   "source": [
    "if test_scores[1]>model_rf_gb.score(X_test, y_test):\n",
    "    print(\"Overall NN Accuracy better than Gradient Boost\")\n",
    "else:\n",
    "    print(\"Overall Gradient Boost Accuracy better than NN\")"
   ]
  },
  {
   "cell_type": "markdown",
   "metadata": {},
   "source": [
    "*Adjust for imbalanced classes*"
   ]
  },
  {
   "cell_type": "code",
   "execution_count": 667,
   "metadata": {},
   "outputs": [],
   "source": [
    "import imblearn.over_sampling"
   ]
  },
  {
   "cell_type": "code",
   "execution_count": 689,
   "metadata": {},
   "outputs": [],
   "source": [
    "ROS = imblearn.over_sampling.RandomOverSampler(ratio = 'auto', random_state = 4444)"
   ]
  },
  {
   "cell_type": "code",
   "execution_count": 690,
   "metadata": {},
   "outputs": [
    {
     "data": {
      "text/plain": [
       "array([ 8,  1,  7,  2,  3,  9,  5,  6, 10,  4])"
      ]
     },
     "execution_count": 690,
     "metadata": {},
     "output_type": "execute_result"
    }
   ],
   "source": [
    "y_train.unique()"
   ]
  },
  {
   "cell_type": "code",
   "execution_count": 691,
   "metadata": {},
   "outputs": [
    {
     "data": {
      "text/html": [
       "<div>\n",
       "<style scoped>\n",
       "    .dataframe tbody tr th:only-of-type {\n",
       "        vertical-align: middle;\n",
       "    }\n",
       "\n",
       "    .dataframe tbody tr th {\n",
       "        vertical-align: top;\n",
       "    }\n",
       "\n",
       "    .dataframe thead th {\n",
       "        text-align: right;\n",
       "    }\n",
       "</style>\n",
       "<table border=\"1\" class=\"dataframe\">\n",
       "  <thead>\n",
       "    <tr style=\"text-align: right;\">\n",
       "      <th></th>\n",
       "      <th>size</th>\n",
       "      <th>og</th>\n",
       "      <th>fg</th>\n",
       "      <th>abv</th>\n",
       "      <th>ibu</th>\n",
       "      <th>color</th>\n",
       "      <th>boilsize</th>\n",
       "      <th>boiltime</th>\n",
       "      <th>boilgravity</th>\n",
       "      <th>efficiency</th>\n",
       "      <th>allgrain</th>\n",
       "      <th>biab</th>\n",
       "      <th>partialmash</th>\n",
       "      <th>extract</th>\n",
       "    </tr>\n",
       "  </thead>\n",
       "  <tbody>\n",
       "    <tr>\n",
       "      <th>count</th>\n",
       "      <td>39153.000000</td>\n",
       "      <td>39153.000000</td>\n",
       "      <td>39153.000000</td>\n",
       "      <td>39153.000000</td>\n",
       "      <td>39153.000000</td>\n",
       "      <td>39153.000000</td>\n",
       "      <td>39153.000000</td>\n",
       "      <td>39153.000000</td>\n",
       "      <td>39153.000000</td>\n",
       "      <td>39153.000000</td>\n",
       "      <td>39153.000000</td>\n",
       "      <td>39153.000000</td>\n",
       "      <td>39153.000000</td>\n",
       "      <td>39153.000000</td>\n",
       "    </tr>\n",
       "    <tr>\n",
       "      <th>mean</th>\n",
       "      <td>45.733747</td>\n",
       "      <td>1.415365</td>\n",
       "      <td>1.076901</td>\n",
       "      <td>6.112521</td>\n",
       "      <td>47.564113</td>\n",
       "      <td>13.411178</td>\n",
       "      <td>51.720025</td>\n",
       "      <td>64.988379</td>\n",
       "      <td>1.356284</td>\n",
       "      <td>66.294342</td>\n",
       "      <td>0.679131</td>\n",
       "      <td>0.168084</td>\n",
       "      <td>0.043522</td>\n",
       "      <td>0.109264</td>\n",
       "    </tr>\n",
       "    <tr>\n",
       "      <th>std</th>\n",
       "      <td>188.494853</td>\n",
       "      <td>2.229805</td>\n",
       "      <td>0.432528</td>\n",
       "      <td>1.705952</td>\n",
       "      <td>38.806361</td>\n",
       "      <td>12.545077</td>\n",
       "      <td>200.671489</td>\n",
       "      <td>13.835574</td>\n",
       "      <td>1.956732</td>\n",
       "      <td>13.860540</td>\n",
       "      <td>0.466817</td>\n",
       "      <td>0.373946</td>\n",
       "      <td>0.204031</td>\n",
       "      <td>0.311974</td>\n",
       "    </tr>\n",
       "    <tr>\n",
       "      <th>min</th>\n",
       "      <td>1.000000</td>\n",
       "      <td>1.000000</td>\n",
       "      <td>0.598715</td>\n",
       "      <td>0.000000</td>\n",
       "      <td>0.000000</td>\n",
       "      <td>0.000000</td>\n",
       "      <td>1.000000</td>\n",
       "      <td>0.000000</td>\n",
       "      <td>1.000000</td>\n",
       "      <td>0.000000</td>\n",
       "      <td>0.000000</td>\n",
       "      <td>0.000000</td>\n",
       "      <td>0.000000</td>\n",
       "      <td>0.000000</td>\n",
       "    </tr>\n",
       "    <tr>\n",
       "      <th>25%</th>\n",
       "      <td>18.930000</td>\n",
       "      <td>1.051000</td>\n",
       "      <td>1.011000</td>\n",
       "      <td>5.120000</td>\n",
       "      <td>25.490000</td>\n",
       "      <td>5.000000</td>\n",
       "      <td>22.000000</td>\n",
       "      <td>60.000000</td>\n",
       "      <td>1.040000</td>\n",
       "      <td>65.000000</td>\n",
       "      <td>0.000000</td>\n",
       "      <td>0.000000</td>\n",
       "      <td>0.000000</td>\n",
       "      <td>0.000000</td>\n",
       "    </tr>\n",
       "    <tr>\n",
       "      <th>50%</th>\n",
       "      <td>20.820000</td>\n",
       "      <td>1.058000</td>\n",
       "      <td>1.013000</td>\n",
       "      <td>5.820000</td>\n",
       "      <td>38.810000</td>\n",
       "      <td>7.760000</td>\n",
       "      <td>28.000000</td>\n",
       "      <td>60.000000</td>\n",
       "      <td>1.047000</td>\n",
       "      <td>70.000000</td>\n",
       "      <td>1.000000</td>\n",
       "      <td>0.000000</td>\n",
       "      <td>0.000000</td>\n",
       "      <td>0.000000</td>\n",
       "    </tr>\n",
       "    <tr>\n",
       "      <th>75%</th>\n",
       "      <td>24.000000</td>\n",
       "      <td>1.068000</td>\n",
       "      <td>1.016000</td>\n",
       "      <td>6.790000</td>\n",
       "      <td>61.050000</td>\n",
       "      <td>16.260000</td>\n",
       "      <td>30.000000</td>\n",
       "      <td>60.000000</td>\n",
       "      <td>1.059000</td>\n",
       "      <td>75.000000</td>\n",
       "      <td>1.000000</td>\n",
       "      <td>0.000000</td>\n",
       "      <td>0.000000</td>\n",
       "      <td>0.000000</td>\n",
       "    </tr>\n",
       "    <tr>\n",
       "      <th>max</th>\n",
       "      <td>9200.000000</td>\n",
       "      <td>32.500800</td>\n",
       "      <td>9.861370</td>\n",
       "      <td>54.720000</td>\n",
       "      <td>1605.830000</td>\n",
       "      <td>50.000000</td>\n",
       "      <td>9700.000000</td>\n",
       "      <td>240.000000</td>\n",
       "      <td>52.600000</td>\n",
       "      <td>100.000000</td>\n",
       "      <td>1.000000</td>\n",
       "      <td>1.000000</td>\n",
       "      <td>1.000000</td>\n",
       "      <td>1.000000</td>\n",
       "    </tr>\n",
       "  </tbody>\n",
       "</table>\n",
       "</div>"
      ],
      "text/plain": [
       "               size            og            fg           abv           ibu  \\\n",
       "count  39153.000000  39153.000000  39153.000000  39153.000000  39153.000000   \n",
       "mean      45.733747      1.415365      1.076901      6.112521     47.564113   \n",
       "std      188.494853      2.229805      0.432528      1.705952     38.806361   \n",
       "min        1.000000      1.000000      0.598715      0.000000      0.000000   \n",
       "25%       18.930000      1.051000      1.011000      5.120000     25.490000   \n",
       "50%       20.820000      1.058000      1.013000      5.820000     38.810000   \n",
       "75%       24.000000      1.068000      1.016000      6.790000     61.050000   \n",
       "max     9200.000000     32.500800      9.861370     54.720000   1605.830000   \n",
       "\n",
       "              color      boilsize      boiltime   boilgravity    efficiency  \\\n",
       "count  39153.000000  39153.000000  39153.000000  39153.000000  39153.000000   \n",
       "mean      13.411178     51.720025     64.988379      1.356284     66.294342   \n",
       "std       12.545077    200.671489     13.835574      1.956732     13.860540   \n",
       "min        0.000000      1.000000      0.000000      1.000000      0.000000   \n",
       "25%        5.000000     22.000000     60.000000      1.040000     65.000000   \n",
       "50%        7.760000     28.000000     60.000000      1.047000     70.000000   \n",
       "75%       16.260000     30.000000     60.000000      1.059000     75.000000   \n",
       "max       50.000000   9700.000000    240.000000     52.600000    100.000000   \n",
       "\n",
       "           allgrain          biab   partialmash       extract  \n",
       "count  39153.000000  39153.000000  39153.000000  39153.000000  \n",
       "mean       0.679131      0.168084      0.043522      0.109264  \n",
       "std        0.466817      0.373946      0.204031      0.311974  \n",
       "min        0.000000      0.000000      0.000000      0.000000  \n",
       "25%        0.000000      0.000000      0.000000      0.000000  \n",
       "50%        1.000000      0.000000      0.000000      0.000000  \n",
       "75%        1.000000      0.000000      0.000000      0.000000  \n",
       "max        1.000000      1.000000      1.000000      1.000000  "
      ]
     },
     "execution_count": 691,
     "metadata": {},
     "output_type": "execute_result"
    }
   ],
   "source": [
    "X_train.describe()"
   ]
  },
  {
   "cell_type": "code",
   "execution_count": 692,
   "metadata": {},
   "outputs": [],
   "source": [
    "X_tr_rs, y_tr_rs = ROS.fit_sample(X_train, y_train)"
   ]
  },
  {
   "cell_type": "code",
   "execution_count": 739,
   "metadata": {
    "scrolled": true
   },
   "outputs": [
    {
     "name": "stdout",
     "output_type": "stream",
     "text": [
      "Simple Logistic Regression; Test F1: 0.448\n"
     ]
    },
    {
     "name": "stderr",
     "output_type": "stream",
     "text": [
      "/anaconda3/lib/python3.6/site-packages/sklearn/metrics/classification.py:1135: UndefinedMetricWarning: F-score is ill-defined and being set to 0.0 in labels with no predicted samples.\n",
      "  'precision', 'predicted', average, warn_for)\n"
     ]
    }
   ],
   "source": [
    "lr = LogisticRegression() \n",
    "lr.fit(X_train, y_train)\n",
    "\n",
    "print('Simple Logistic Regression; Test F1: %.3f'%\\\n",
    "      f1_score(y_test,lr.predict(X_test), average = \"weighted\"))\n"
   ]
  },
  {
   "cell_type": "code",
   "execution_count": 736,
   "metadata": {},
   "outputs": [
    {
     "data": {
      "text/plain": [
       "0.5224376165300233"
      ]
     },
     "execution_count": 736,
     "metadata": {},
     "output_type": "execute_result"
    }
   ],
   "source": [
    "lr.score(X_train, y_train)"
   ]
  },
  {
   "cell_type": "code",
   "execution_count": 738,
   "metadata": {},
   "outputs": [
    {
     "name": "stdout",
     "output_type": "stream",
     "text": [
      "Logistic Regression on Oversampled Train Data; Test F1: 0.492\n"
     ]
    }
   ],
   "source": [
    "lr_os = LogisticRegression() \n",
    "lr_os.fit(X_tr_rs, y_tr_rs)\n",
    "    \n",
    "\n",
    "print('Logistic Regression on Oversampled Train Data; Test F1: %.3f'%\\\n",
    "      (f1_score(y_test, lr_os.predict(X_test), average = 'weighted')))"
   ]
  },
  {
   "cell_type": "code",
   "execution_count": 810,
   "metadata": {},
   "outputs": [
    {
     "name": "stdout",
     "output_type": "stream",
     "text": [
      "This is worse than above: 0.4551745147532422\n"
     ]
    }
   ],
   "source": [
    "print(\"This is worse than above:\", lr_os.score(X_tr_rs, y_tr_rs))"
   ]
  },
  {
   "cell_type": "code",
   "execution_count": 747,
   "metadata": {},
   "outputs": [
    {
     "data": {
      "text/plain": [
       "KNeighborsClassifier(algorithm='auto', leaf_size=30, metric='minkowski',\n",
       "           metric_params=None, n_jobs=1, n_neighbors=15, p=2,\n",
       "           weights='uniform')"
      ]
     },
     "execution_count": 747,
     "metadata": {},
     "output_type": "execute_result"
    }
   ],
   "source": [
    "knn_model.fit(X_tr_rs, y_tr_rs)"
   ]
  },
  {
   "cell_type": "code",
   "execution_count": 748,
   "metadata": {},
   "outputs": [],
   "source": [
    "knn_os_pred = knn_model.predict(X_test)"
   ]
  },
  {
   "cell_type": "code",
   "execution_count": 811,
   "metadata": {},
   "outputs": [
    {
     "data": {
      "text/plain": [
       "0.45840286054827173"
      ]
     },
     "execution_count": 811,
     "metadata": {},
     "output_type": "execute_result"
    }
   ],
   "source": [
    "metrics.accuracy_score(y_test, knn_os_pred)"
   ]
  },
  {
   "cell_type": "code",
   "execution_count": 751,
   "metadata": {},
   "outputs": [],
   "source": [
    "knn_os_confusion = confusion_matrix(y_test, knn_os_pred)"
   ]
  },
  {
   "cell_type": "code",
   "execution_count": 752,
   "metadata": {},
   "outputs": [
    {
     "data": {
      "text/plain": [
       "Text(0.5,1,'KNN Oversampling Confusion Matrix')"
      ]
     },
     "execution_count": 752,
     "metadata": {},
     "output_type": "execute_result"
    },
    {
     "data": {
      "image/png": "[encoded data removed]",
      "text/plain": [
       "<Figure size 1000x1000 with 2 Axes>"
      ]
     },
     "metadata": {},
     "output_type": "display_data"
    }
   ],
   "source": [
    "plt.figure(figsize = (10,10),dpi = 100)\n",
    "sns.heatmap(knn_os_confusion, cmap= plt.cm.Blues, annot = True, square = True, xticklabels = style_list, yticklabels = style_list)\n",
    "\n",
    "plt.xlabel('Predicted Beer Style')\n",
    "plt.ylabel('Actual Beer Style')\n",
    "plt.title(\"KNN Oversampling Confusion Matrix\")"
   ]
  },
  {
   "cell_type": "code",
   "execution_count": 802,
   "metadata": {},
   "outputs": [],
   "source": [
    "rf_model_os = RandomForestClassifier(random_state = 4444)"
   ]
  },
  {
   "cell_type": "code",
   "execution_count": 803,
   "metadata": {},
   "outputs": [
    {
     "data": {
      "text/plain": [
       "RandomForestClassifier(bootstrap=True, class_weight=None, criterion='gini',\n",
       "            max_depth=None, max_features='auto', max_leaf_nodes=None,\n",
       "            min_impurity_decrease=0.0, min_impurity_split=None,\n",
       "            min_samples_leaf=1, min_samples_split=2,\n",
       "            min_weight_fraction_leaf=0.0, n_estimators=10, n_jobs=1,\n",
       "            oob_score=False, random_state=4444, verbose=0,\n",
       "            warm_start=False)"
      ]
     },
     "execution_count": 803,
     "metadata": {},
     "output_type": "execute_result"
    }
   ],
   "source": [
    "rf_model_os.fit(X_tr_rs, y_tr_rs)"
   ]
  },
  {
   "cell_type": "code",
   "execution_count": 804,
   "metadata": {},
   "outputs": [],
   "source": [
    "rf_pred_os = rf_model_os.predict(X_test)"
   ]
  },
  {
   "cell_type": "code",
   "execution_count": 808,
   "metadata": {},
   "outputs": [
    {
     "name": "stdout",
     "output_type": "stream",
     "text": [
      "This is worse than above: 0.583969010727056\n"
     ]
    }
   ],
   "source": [
    "print(\"This is worse than above:\", metrics.accuracy_score(y_test, rf_pred_os))"
   ]
  },
  {
   "cell_type": "code",
   "execution_count": 349,
   "metadata": {},
   "outputs": [
    {
     "data": {
      "text/plain": [
       "'\\n\\nImbalanced class correction did not work with random over-sampling.\\nMove on to model tuning / feature selection & emsembling\\n\\nGradient Boost - IPA, Stout, Ale, APA, Wheat and Pilsner slightly better than RF\\nRandom Forest - Lager, Porter, Saison, Kolsch slightly better than GB\\nNN - May also want to try neural net in emsembling, especially since some accuracies remain ~0.5\\n\\n'"
      ]
     },
     "execution_count": 349,
     "metadata": {},
     "output_type": "execute_result"
    }
   ],
   "source": [
    "'''\n",
    "\n",
    "Imbalanced class correction did not work with random over-sampling.\n",
    "Move on to model tuning / feature selection & emsembling\n",
    "\n",
    "Gradient Boost - IPA, Stout, Ale, APA, Wheat and Pilsner slightly better than RF\n",
    "Random Forest - Lager, Porter, Saison, Kolsch slightly better than GB\n",
    "NN - May also want to try neural net in emsembling, especially since some accuracies remain ~0.5\n",
    "\n",
    "'''"
   ]
  },
  {
   "cell_type": "code",
   "execution_count": null,
   "metadata": {},
   "outputs": [],
   "source": []
  }
 ],
 "metadata": {
  "kernelspec": {
   "display_name": "Python 3",
   "language": "python",
   "name": "python3"
  },
  "language_info": {
   "codemirror_mode": {
    "name": "ipython",
    "version": 3
   },
   "file_extension": ".py",
   "mimetype": "text/x-python",
   "name": "python",
   "nbconvert_exporter": "python",
   "pygments_lexer": "ipython3",
   "version": "3.6.6"
  }
 },
 "nbformat": 4,
 "nbformat_minor": 2
}
