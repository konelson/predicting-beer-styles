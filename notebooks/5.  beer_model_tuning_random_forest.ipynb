{
 "cells": [
  {
   "cell_type": "markdown",
   "metadata": {},
   "source": [
    "# Model Tuning - Random Forest"
   ]
  },
  {
   "cell_type": "code",
   "execution_count": 3,
   "metadata": {},
   "outputs": [
    {
     "data": {
      "text/plain": [
       "'/Users/kelly/metis_v3/Project_3'"
      ]
     },
     "execution_count": 3,
     "metadata": {},
     "output_type": "execute_result"
    }
   ],
   "source": [
    "pwd"
   ]
  },
  {
   "cell_type": "code",
   "execution_count": 49,
   "metadata": {},
   "outputs": [],
   "source": [
    "import numpy as np\n",
    "import pandas as pd\n",
    "import matplotlib.pyplot as plt\n",
    "import graphviz\n",
    "\n",
    "from sklearn.cross_validation import train_test_split\n",
    "from sklearn.ensemble import RandomForestClassifier, GradientBoostingClassifier\n",
    "from sklearn.cross_validation import cross_val_score\n",
    "from sklearn import tree"
   ]
  },
  {
   "cell_type": "code",
   "execution_count": 5,
   "metadata": {},
   "outputs": [
    {
     "data": {
      "text/html": [
       "<div>\n",
       "<style scoped>\n",
       "    .dataframe tbody tr th:only-of-type {\n",
       "        vertical-align: middle;\n",
       "    }\n",
       "\n",
       "    .dataframe tbody tr th {\n",
       "        vertical-align: top;\n",
       "    }\n",
       "\n",
       "    .dataframe thead th {\n",
       "        text-align: right;\n",
       "    }\n",
       "</style>\n",
       "<table border=\"1\" class=\"dataframe\">\n",
       "  <thead>\n",
       "    <tr style=\"text-align: right;\">\n",
       "      <th></th>\n",
       "      <th>beerid</th>\n",
       "      <th>name</th>\n",
       "      <th>style</th>\n",
       "      <th>styleid</th>\n",
       "      <th>size</th>\n",
       "      <th>og</th>\n",
       "      <th>fg</th>\n",
       "      <th>abv</th>\n",
       "      <th>ibu</th>\n",
       "      <th>color</th>\n",
       "      <th>...</th>\n",
       "      <th>lager</th>\n",
       "      <th>stout</th>\n",
       "      <th>porter</th>\n",
       "      <th>saison</th>\n",
       "      <th>kolsch</th>\n",
       "      <th>ale</th>\n",
       "      <th>apa</th>\n",
       "      <th>wheat</th>\n",
       "      <th>pilsner</th>\n",
       "      <th>style_num</th>\n",
       "    </tr>\n",
       "  </thead>\n",
       "  <tbody>\n",
       "    <tr>\n",
       "      <th>0</th>\n",
       "      <td>1</td>\n",
       "      <td>Vanilla Cream Ale</td>\n",
       "      <td>Cream Ale</td>\n",
       "      <td>45</td>\n",
       "      <td>21.77</td>\n",
       "      <td>1.055</td>\n",
       "      <td>1.013</td>\n",
       "      <td>5.48</td>\n",
       "      <td>17.65</td>\n",
       "      <td>4.83</td>\n",
       "      <td>...</td>\n",
       "      <td>0</td>\n",
       "      <td>0</td>\n",
       "      <td>0</td>\n",
       "      <td>0</td>\n",
       "      <td>0</td>\n",
       "      <td>7</td>\n",
       "      <td>0</td>\n",
       "      <td>0</td>\n",
       "      <td>0</td>\n",
       "      <td>7</td>\n",
       "    </tr>\n",
       "  </tbody>\n",
       "</table>\n",
       "<p>1 rows × 32 columns</p>\n",
       "</div>"
      ],
      "text/plain": [
       "   beerid               name      style  styleid   size     og     fg   abv  \\\n",
       "0       1  Vanilla Cream Ale  Cream Ale       45  21.77  1.055  1.013  5.48   \n",
       "\n",
       "     ibu  color    ...     lager  stout  porter  saison kolsch  ale  apa  \\\n",
       "0  17.65   4.83    ...         0      0       0       0      0    7    0   \n",
       "\n",
       "   wheat  pilsner style_num  \n",
       "0      0        0         7  \n",
       "\n",
       "[1 rows x 32 columns]"
      ]
     },
     "execution_count": 5,
     "metadata": {},
     "output_type": "execute_result"
    }
   ],
   "source": [
    "import pickle\n",
    "with open('beer_df_formodel.pickle','rb') as read_file:\n",
    "    beer_df = pickle.load(read_file)\n",
    "beer_df.head(1)"
   ]
  },
  {
   "cell_type": "code",
   "execution_count": 6,
   "metadata": {},
   "outputs": [],
   "source": [
    "X = beer_df.iloc[:,4:-13].drop(columns = 'brewmethod')\n",
    "y = beer_df.style_num\n",
    "X_train, X_test, y_train, y_test = train_test_split(X, y, test_size = 0.3, random_state = 4444)"
   ]
  },
  {
   "cell_type": "markdown",
   "metadata": {},
   "source": [
    "# Random Forest"
   ]
  },
  {
   "cell_type": "code",
   "execution_count": 51,
   "metadata": {},
   "outputs": [
    {
     "data": {
      "text/plain": [
       "RandomForestClassifier(bootstrap=True, class_weight=None, criterion='gini',\n",
       "            max_depth=None, max_features='auto', max_leaf_nodes=None,\n",
       "            min_impurity_decrease=0.0, min_impurity_split=None,\n",
       "            min_samples_leaf=1, min_samples_split=2,\n",
       "            min_weight_fraction_leaf=0.0, n_estimators=10, n_jobs=1,\n",
       "            oob_score=False, random_state=4444, verbose=0,\n",
       "            warm_start=False)"
      ]
     },
     "execution_count": 51,
     "metadata": {},
     "output_type": "execute_result"
    }
   ],
   "source": [
    "rf_model = RandomForestClassifier(random_state = 4444)\n",
    "rf_model.fit(X_train, y_train)"
   ]
  },
  {
   "cell_type": "code",
   "execution_count": 53,
   "metadata": {},
   "outputs": [
    {
     "data": {
      "text/plain": [
       "0.5909415971394517"
      ]
     },
     "execution_count": 53,
     "metadata": {},
     "output_type": "execute_result"
    }
   ],
   "source": [
    "rf_model.score(X_test, y_test)"
   ]
  },
  {
   "cell_type": "code",
   "execution_count": 54,
   "metadata": {},
   "outputs": [
    {
     "data": {
      "text/plain": [
       "Index(['size', 'og', 'fg', 'abv', 'ibu', 'color', 'boilsize', 'boiltime',\n",
       "       'boilgravity', 'efficiency', 'allgrain', 'biab', 'partialmash',\n",
       "       'extract'],\n",
       "      dtype='object')"
      ]
     },
     "execution_count": 54,
     "metadata": {},
     "output_type": "execute_result"
    }
   ],
   "source": [
    "X.columns"
   ]
  },
  {
   "cell_type": "code",
   "execution_count": 55,
   "metadata": {},
   "outputs": [],
   "source": [
    "style_list = ['ipa', 'lager', 'stout', 'porter', 'saison', 'kolsch', 'ale', 'apa', 'wheat', 'pilsner']"
   ]
  },
  {
   "cell_type": "markdown",
   "metadata": {},
   "source": [
    "**Adjust Number of Features**"
   ]
  },
  {
   "cell_type": "code",
   "execution_count": 16,
   "metadata": {},
   "outputs": [
    {
     "data": {
      "text/html": [
       "<div>\n",
       "<style scoped>\n",
       "    .dataframe tbody tr th:only-of-type {\n",
       "        vertical-align: middle;\n",
       "    }\n",
       "\n",
       "    .dataframe tbody tr th {\n",
       "        vertical-align: top;\n",
       "    }\n",
       "\n",
       "    .dataframe thead th {\n",
       "        text-align: right;\n",
       "    }\n",
       "</style>\n",
       "<table border=\"1\" class=\"dataframe\">\n",
       "  <thead>\n",
       "    <tr style=\"text-align: right;\">\n",
       "      <th></th>\n",
       "      <th>size</th>\n",
       "      <th>og</th>\n",
       "      <th>fg</th>\n",
       "      <th>abv</th>\n",
       "      <th>ibu</th>\n",
       "      <th>color</th>\n",
       "      <th>boilsize</th>\n",
       "      <th>boiltime</th>\n",
       "      <th>boilgravity</th>\n",
       "      <th>efficiency</th>\n",
       "      <th>allgrain</th>\n",
       "      <th>biab</th>\n",
       "      <th>partialmash</th>\n",
       "      <th>extract</th>\n",
       "    </tr>\n",
       "  </thead>\n",
       "  <tbody>\n",
       "    <tr>\n",
       "      <th>0</th>\n",
       "      <td>21.77</td>\n",
       "      <td>1.055</td>\n",
       "      <td>1.013</td>\n",
       "      <td>5.48</td>\n",
       "      <td>17.65</td>\n",
       "      <td>4.83</td>\n",
       "      <td>28.39</td>\n",
       "      <td>75</td>\n",
       "      <td>1.038</td>\n",
       "      <td>70.0</td>\n",
       "      <td>1</td>\n",
       "      <td>0</td>\n",
       "      <td>0</td>\n",
       "      <td>0</td>\n",
       "    </tr>\n",
       "    <tr>\n",
       "      <th>2</th>\n",
       "      <td>50.00</td>\n",
       "      <td>1.060</td>\n",
       "      <td>1.010</td>\n",
       "      <td>6.48</td>\n",
       "      <td>17.84</td>\n",
       "      <td>4.57</td>\n",
       "      <td>60.00</td>\n",
       "      <td>90</td>\n",
       "      <td>1.050</td>\n",
       "      <td>72.0</td>\n",
       "      <td>1</td>\n",
       "      <td>0</td>\n",
       "      <td>0</td>\n",
       "      <td>0</td>\n",
       "    </tr>\n",
       "    <tr>\n",
       "      <th>3</th>\n",
       "      <td>24.61</td>\n",
       "      <td>1.055</td>\n",
       "      <td>1.013</td>\n",
       "      <td>5.58</td>\n",
       "      <td>40.12</td>\n",
       "      <td>8.00</td>\n",
       "      <td>29.34</td>\n",
       "      <td>70</td>\n",
       "      <td>1.047</td>\n",
       "      <td>79.0</td>\n",
       "      <td>1</td>\n",
       "      <td>0</td>\n",
       "      <td>0</td>\n",
       "      <td>0</td>\n",
       "    </tr>\n",
       "    <tr>\n",
       "      <th>4</th>\n",
       "      <td>20.82</td>\n",
       "      <td>1.054</td>\n",
       "      <td>1.014</td>\n",
       "      <td>5.36</td>\n",
       "      <td>19.97</td>\n",
       "      <td>5.94</td>\n",
       "      <td>28.39</td>\n",
       "      <td>75</td>\n",
       "      <td>1.040</td>\n",
       "      <td>70.0</td>\n",
       "      <td>1</td>\n",
       "      <td>0</td>\n",
       "      <td>0</td>\n",
       "      <td>0</td>\n",
       "    </tr>\n",
       "    <tr>\n",
       "      <th>5</th>\n",
       "      <td>22.71</td>\n",
       "      <td>1.060</td>\n",
       "      <td>1.016</td>\n",
       "      <td>5.77</td>\n",
       "      <td>31.63</td>\n",
       "      <td>34.76</td>\n",
       "      <td>30.28</td>\n",
       "      <td>75</td>\n",
       "      <td>1.042</td>\n",
       "      <td>73.0</td>\n",
       "      <td>1</td>\n",
       "      <td>0</td>\n",
       "      <td>0</td>\n",
       "      <td>0</td>\n",
       "    </tr>\n",
       "  </tbody>\n",
       "</table>\n",
       "</div>"
      ],
      "text/plain": [
       "    size     og     fg   abv    ibu  color  boilsize  boiltime  boilgravity  \\\n",
       "0  21.77  1.055  1.013  5.48  17.65   4.83     28.39        75        1.038   \n",
       "2  50.00  1.060  1.010  6.48  17.84   4.57     60.00        90        1.050   \n",
       "3  24.61  1.055  1.013  5.58  40.12   8.00     29.34        70        1.047   \n",
       "4  20.82  1.054  1.014  5.36  19.97   5.94     28.39        75        1.040   \n",
       "5  22.71  1.060  1.016  5.77  31.63  34.76     30.28        75        1.042   \n",
       "\n",
       "   efficiency  allgrain  biab  partialmash  extract  \n",
       "0        70.0         1     0            0        0  \n",
       "2        72.0         1     0            0        0  \n",
       "3        79.0         1     0            0        0  \n",
       "4        70.0         1     0            0        0  \n",
       "5        73.0         1     0            0        0  "
      ]
     },
     "execution_count": 16,
     "metadata": {},
     "output_type": "execute_result"
    }
   ],
   "source": [
    "X.head()"
   ]
  },
  {
   "cell_type": "code",
   "execution_count": 17,
   "metadata": {},
   "outputs": [
    {
     "data": {
      "text/plain": [
       "(55933, 14)"
      ]
     },
     "execution_count": 17,
     "metadata": {},
     "output_type": "execute_result"
    }
   ],
   "source": [
    "X.shape"
   ]
  },
  {
   "cell_type": "code",
   "execution_count": 18,
   "metadata": {},
   "outputs": [],
   "source": [
    "X_individual = np.array(X.iloc[:,0]).reshape(-1,1)"
   ]
  },
  {
   "cell_type": "code",
   "execution_count": 20,
   "metadata": {},
   "outputs": [],
   "source": [
    "X_individual_train, X_individual_test, y_train, y_test = train_test_split(X_individual, y, test_size = 0.3, random_state = 4444)"
   ]
  },
  {
   "cell_type": "code",
   "execution_count": 21,
   "metadata": {},
   "outputs": [
    {
     "data": {
      "text/plain": [
       "RandomForestClassifier(bootstrap=True, class_weight=None, criterion='gini',\n",
       "            max_depth=None, max_features='auto', max_leaf_nodes=None,\n",
       "            min_impurity_decrease=0.0, min_impurity_split=None,\n",
       "            min_samples_leaf=1, min_samples_split=2,\n",
       "            min_weight_fraction_leaf=0.0, n_estimators=10, n_jobs=1,\n",
       "            oob_score=False, random_state=4444, verbose=0,\n",
       "            warm_start=False)"
      ]
     },
     "execution_count": 21,
     "metadata": {},
     "output_type": "execute_result"
    }
   ],
   "source": [
    "rf_model_individual = RandomForestClassifier(random_state=4444)\n",
    "rf_model_individual.fit(X_individual_train, y_train)"
   ]
  },
  {
   "cell_type": "markdown",
   "metadata": {},
   "source": [
    "Check Accuracy Using Each Column Individually To Begin:"
   ]
  },
  {
   "cell_type": "code",
   "execution_count": 22,
   "metadata": {},
   "outputs": [],
   "source": [
    "individual_col_accuracies = {}\n",
    "\n",
    "for col in np.arange(X.shape[1]):\n",
    "    \n",
    "    X_individual = np.array(X.iloc[:,col]).reshape(-1,1)\n",
    "    X_individual_train, X_individual_test, y_train, y_test = train_test_split(X_individual, y, test_size = 0.3, random_state = 4444)\n",
    "    \n",
    "    rf_model_individual = GradientBoostingClassifier()\n",
    "    rf_model_individual.fit(X_individual_train, y_train)\n",
    "    \n",
    "    rf_model_score = rf_model_individual.score(X_individual_test, y_test)\n",
    "    \n",
    "    individual_col_accuracies[col] = rf_model_score"
   ]
  },
  {
   "cell_type": "code",
   "execution_count": 13,
   "metadata": {},
   "outputs": [
    {
     "name": "stdout",
     "output_type": "stream",
     "text": [
      "size \t  0 \t 0.29880810488676995\n",
      "og \t  1 \t 0.3696066746126341\n",
      "fg \t  2 \t 0.3287246722288439\n",
      "abv \t  3 \t 0.367818831942789\n",
      "ibu \t  4 \t 0.46156138259833135\n",
      "color \t  5 \t 0.464958283671037\n",
      "boilsize \t  6 \t 0.29767580452920145\n",
      "boiltime \t  7 \t 0.30125148986889155\n",
      "boilgravity \t  8 \t 0.3269964243146603\n",
      "efficiency \t  9 \t 0.29845053635280094\n",
      "allgrain \t  10 \t 0.2989868891537545\n",
      "biab \t  11 \t 0.2989868891537545\n",
      "partialmash \t  12 \t 0.2989868891537545\n",
      "extract \t  13 \t 0.2989868891537545\n"
     ]
    }
   ],
   "source": [
    "for col, accuracy in individual_col_accuracies.items():\n",
    "    print(X.columns[col],'\\t ', col, '\\t', accuracy)"
   ]
  },
  {
   "cell_type": "code",
   "execution_count": 14,
   "metadata": {},
   "outputs": [
    {
     "data": {
      "text/plain": [
       "[0.29767580452920145,\n",
       " 0.29845053635280094,\n",
       " 0.29880810488676995,\n",
       " 0.2989868891537545,\n",
       " 0.2989868891537545,\n",
       " 0.2989868891537545,\n",
       " 0.2989868891537545,\n",
       " 0.30125148986889155,\n",
       " 0.3269964243146603,\n",
       " 0.3287246722288439,\n",
       " 0.367818831942789,\n",
       " 0.3696066746126341,\n",
       " 0.46156138259833135,\n",
       " 0.464958283671037]"
      ]
     },
     "execution_count": 14,
     "metadata": {},
     "output_type": "execute_result"
    }
   ],
   "source": [
    "sorted(individual_col_accuracies.values())"
   ]
  },
  {
   "cell_type": "markdown",
   "metadata": {},
   "source": [
    "Remove Columns:"
   ]
  },
  {
   "cell_type": "code",
   "execution_count": 26,
   "metadata": {},
   "outputs": [
    {
     "data": {
      "text/plain": [
       "array([0.06048888, 0.07199185, 0.06284205, 0.10837703, 0.22866008,\n",
       "       0.23199263, 0.0642963 , 0.02092067, 0.07289059, 0.05145274,\n",
       "       0.0096589 , 0.00826245, 0.00391087, 0.00425496])"
      ]
     },
     "execution_count": 26,
     "metadata": {},
     "output_type": "execute_result"
    }
   ],
   "source": [
    "rf_model.feature_importances_"
   ]
  },
  {
   "cell_type": "code",
   "execution_count": 33,
   "metadata": {},
   "outputs": [],
   "source": [
    "removed_columns = []#'size', 'og', 'fg', 'abv','ibu', 'color', 'boilsize', 'boiltime','boilgravity', 'efficiency', 'allgrain', 'biab', 'partialmash', 'extract']"
   ]
  },
  {
   "cell_type": "code",
   "execution_count": 34,
   "metadata": {},
   "outputs": [],
   "source": [
    "X_adjusted = X.drop(columns = removed_columns )"
   ]
  },
  {
   "cell_type": "code",
   "execution_count": 35,
   "metadata": {},
   "outputs": [],
   "source": [
    "X_adj_train, X_adj_test, y_train, y_test = train_test_split(X_adjusted, y, test_size = 0.3, random_state = 4444)"
   ]
  },
  {
   "cell_type": "code",
   "execution_count": 36,
   "metadata": {},
   "outputs": [
    {
     "data": {
      "text/plain": [
       "RandomForestClassifier(bootstrap=True, class_weight=None, criterion='gini',\n",
       "            max_depth=None, max_features='auto', max_leaf_nodes=None,\n",
       "            min_impurity_decrease=0.0, min_impurity_split=None,\n",
       "            min_samples_leaf=1, min_samples_split=2,\n",
       "            min_weight_fraction_leaf=0.0, n_estimators=10, n_jobs=1,\n",
       "            oob_score=False, random_state=None, verbose=0,\n",
       "            warm_start=False)"
      ]
     },
     "execution_count": 36,
     "metadata": {},
     "output_type": "execute_result"
    }
   ],
   "source": [
    "rf_model_adj = RandomForestClassifier()\n",
    "rf_model_adj.fit(X_adj_train, y_train)"
   ]
  },
  {
   "cell_type": "code",
   "execution_count": 37,
   "metadata": {},
   "outputs": [
    {
     "name": "stdout",
     "output_type": "stream",
     "text": [
      "Original Score:      \t 0.5909415971394517\n",
      "Adjusted Features Score:  0.5909415971394517\n"
     ]
    }
   ],
   "source": [
    "print(\"Original Score:     \" , '\\t', rf_model.score(X_test, y_test))\n",
    "print(\"Adjusted Features Score: \",rf_model.score(X_adj_test, y_test))"
   ]
  },
  {
   "cell_type": "code",
   "execution_count": 38,
   "metadata": {},
   "outputs": [
    {
     "data": {
      "text/plain": [
       "False"
      ]
     },
     "execution_count": 38,
     "metadata": {},
     "output_type": "execute_result"
    }
   ],
   "source": [
    "rf_model_adj.score(X_adj_test, y_test)>rf_model.score(X_test, y_test)"
   ]
  },
  {
   "cell_type": "code",
   "execution_count": 23,
   "metadata": {},
   "outputs": [],
   "source": [
    "#Found no combination of column adjustments that improved the overall accuracy"
   ]
  },
  {
   "cell_type": "markdown",
   "metadata": {},
   "source": [
    "**Adjust Number of Estimators**"
   ]
  },
  {
   "cell_type": "code",
   "execution_count": 39,
   "metadata": {},
   "outputs": [
    {
     "data": {
      "text/plain": [
       "0.6253277711561382"
      ]
     },
     "execution_count": 39,
     "metadata": {},
     "output_type": "execute_result"
    }
   ],
   "source": [
    "rf_model_2 = RandomForestClassifier(random_state = 4444, n_estimators = 200)\n",
    "rf_model_2.fit(X_train, y_train)\n",
    "rf_model_2.score(X_test, y_test)"
   ]
  },
  {
   "cell_type": "code",
   "execution_count": 42,
   "metadata": {},
   "outputs": [
    {
     "data": {
      "text/plain": [
       "0.6191299165673421"
      ]
     },
     "execution_count": 42,
     "metadata": {},
     "output_type": "execute_result"
    }
   ],
   "source": [
    "rf_model_3 = RandomForestClassifier(random_state = 4444, n_estimators = 50)\n",
    "rf_model_3.fit(X_train, y_train)\n",
    "rf_model_3.score(X_test, y_test)"
   ]
  },
  {
   "cell_type": "code",
   "execution_count": 43,
   "metadata": {},
   "outputs": [],
   "source": [
    "n_range = (1,200)\n",
    "n_scores = []\n",
    "\n",
    "for n in n_range:\n",
    "    \n",
    "    rf_model = RandomForestClassifier(n_estimators = n)\n",
    "\n",
    "    scores = cross_val_score(rf_model, X_train, y_train, cv=10, scoring = 'accuracy')\n",
    "    n_scores.append(scores.mean())"
   ]
  },
  {
   "cell_type": "code",
   "execution_count": 44,
   "metadata": {},
   "outputs": [
    {
     "data": {
      "image/png": "[encoded data removed]",
      "text/plain": [
       "<Figure size 432x288 with 1 Axes>"
      ]
     },
     "metadata": {},
     "output_type": "display_data"
    }
   ],
   "source": [
    "plt.plot(n_scores, n_range);"
   ]
  },
  {
   "cell_type": "code",
   "execution_count": 26,
   "metadata": {},
   "outputs": [
    {
     "name": "stdout",
     "output_type": "stream",
     "text": [
      "Increasing the number of estimators seems to increase the accuracy.\n"
     ]
    }
   ],
   "source": [
    "print(\"Increasing the number of estimators seems to increase the accuracy.\")"
   ]
  },
  {
   "cell_type": "markdown",
   "metadata": {},
   "source": [
    "Adjust Max Depth"
   ]
  },
  {
   "cell_type": "code",
   "execution_count": 9,
   "metadata": {},
   "outputs": [
    {
     "data": {
      "text/plain": [
       "Text(0,0.5,'Accuracy')"
      ]
     },
     "execution_count": 9,
     "metadata": {},
     "output_type": "execute_result"
    },
    {
     "data": {
      "image/png": "[encoded data removed]",
      "text/plain": [
       "<Figure size 900x600 with 1 Axes>"
      ]
     },
     "metadata": {},
     "output_type": "display_data"
    }
   ],
   "source": [
    "train_score = []\n",
    "test_score = []\n",
    "\n",
    "for depth in range(1,200):\n",
    "    \n",
    "    rf = RandomForestClassifier(max_depth = depth, n_jobs = 1)\n",
    "    rf.fit(X_train, y_train)\n",
    "    train_score.append(rf.score(X_train, y_train))\n",
    "    test_score.append(rf.score(X_test, y_test))\n",
    "\n",
    "plt.figure(dpi = 150)\n",
    "plt.plot(range (1,200), train_score, 'g', label = 'Train')\n",
    "plt.plot(range (1,200), test_score, 'b', label = 'Test')\n",
    "plt.legend(loc = 'upper right')\n",
    "plt.xlabel(\"Max Depth in Tree\")\n",
    "plt.ylabel (\"Accuracy\")"
   ]
  },
  {
   "cell_type": "code",
   "execution_count": 10,
   "metadata": {},
   "outputs": [
    {
     "data": {
      "text/plain": [
       "Text(0,0.5,'Accuracy')"
      ]
     },
     "execution_count": 10,
     "metadata": {},
     "output_type": "execute_result"
    },
    {
     "data": {
      "image/png": "[encoded data removed]",
      "text/plain": [
       "<Figure size 900x600 with 1 Axes>"
      ]
     },
     "metadata": {},
     "output_type": "display_data"
    }
   ],
   "source": [
    "train_score = []\n",
    "test_score = []\n",
    "\n",
    "for depth in range(1,25):\n",
    "    \n",
    "    rf = RandomForestClassifier(max_depth = depth, n_jobs = 1)\n",
    "    rf.fit(X_train, y_train)\n",
    "    train_score.append(rf.score(X_train, y_train))\n",
    "    test_score.append(rf.score(X_test, y_test))\n",
    "\n",
    "plt.figure(dpi = 150)\n",
    "plt.plot(range (1,25), train_score, 'g', label = 'Train')\n",
    "plt.plot(range (1,25), test_score, 'b', label = 'Test')\n",
    "plt.legend(loc = 'upper right')\n",
    "plt.xlabel(\"Max Depth in Tree\")\n",
    "plt.ylabel (\"Accuracy\")"
   ]
  },
  {
   "cell_type": "code",
   "execution_count": 11,
   "metadata": {},
   "outputs": [
    {
     "data": {
      "text/plain": [
       "0.6042908224076281"
      ]
     },
     "execution_count": 11,
     "metadata": {},
     "output_type": "execute_result"
    }
   ],
   "source": [
    "rf_model = RandomForestClassifier(max_depth = 10, random_state = 4444)\n",
    "rf_model.fit(X_train, y_train)\n",
    "rf_model.score(X_test, y_test)"
   ]
  },
  {
   "cell_type": "markdown",
   "metadata": {},
   "source": [
    "Adjust Criterion (Entropy)"
   ]
  },
  {
   "cell_type": "code",
   "execution_count": 12,
   "metadata": {},
   "outputs": [
    {
     "data": {
      "text/plain": [
       "0.5980333730631704"
      ]
     },
     "execution_count": 12,
     "metadata": {},
     "output_type": "execute_result"
    }
   ],
   "source": [
    "rf_model = RandomForestClassifier(criterion = 'entropy', max_depth = 10, random_state = 4444)\n",
    "rf_model.fit(X_train, y_train)\n",
    "rf_model.score(X_test, y_test)"
   ]
  },
  {
   "cell_type": "code",
   "execution_count": 65,
   "metadata": {},
   "outputs": [
    {
     "name": "stdout",
     "output_type": "stream",
     "text": [
      "Entry performs worse than gini impurity\n"
     ]
    }
   ],
   "source": [
    "print(\"Entry performs worse than gini impurity\")"
   ]
  },
  {
   "cell_type": "markdown",
   "metadata": {},
   "source": [
    "Final Random Forest Model"
   ]
  },
  {
   "cell_type": "code",
   "execution_count": 66,
   "metadata": {},
   "outputs": [
    {
     "data": {
      "text/plain": [
       "0.6122765196662694"
      ]
     },
     "execution_count": 66,
     "metadata": {},
     "output_type": "execute_result"
    }
   ],
   "source": [
    "rf_model = RandomForestClassifier(max_depth = 10, n_estimators = 500, random_state = 4444)\n",
    "rf_model.fit(X_train, y_train)\n",
    "rf_model.score(X_test, y_test)"
   ]
  },
  {
   "cell_type": "code",
   "execution_count": 81,
   "metadata": {},
   "outputs": [
    {
     "data": {
      "text/plain": [
       "['ipa',\n",
       " 'lager',\n",
       " 'stout',\n",
       " 'porter',\n",
       " 'saison',\n",
       " 'kolsch',\n",
       " 'ale',\n",
       " 'apa',\n",
       " 'wheat',\n",
       " 'pilsner']"
      ]
     },
     "execution_count": 81,
     "metadata": {},
     "output_type": "execute_result"
    }
   ],
   "source": [
    "style_list"
   ]
  },
  {
   "cell_type": "code",
   "execution_count": 74,
   "metadata": {},
   "outputs": [],
   "source": [
    "from sklearn.tree import export_graphviz"
   ]
  },
  {
   "cell_type": "code",
   "execution_count": 82,
   "metadata": {},
   "outputs": [
    {
     "data": {
      "text/plain": [
       "'Source.gv.pdf'"
      ]
     },
     "execution_count": 82,
     "metadata": {},
     "output_type": "execute_result"
    }
   ],
   "source": [
    "#This displays the first tree from my random forest\n",
    "\n",
    "rf_data = tree.export_graphviz(rf_model[0], out_file = None,\n",
    "                     feature_names = list(X.columns),\n",
    "                     class_names = style_list,\n",
    "                     filled=True, rounded=True,\n",
    "                     special_characters=True)\n",
    "rf_graph = graphviz.Source(rf_data)\n",
    "rf_graph.view()"
   ]
  },
  {
   "cell_type": "code",
   "execution_count": null,
   "metadata": {},
   "outputs": [],
   "source": []
  }
 ],
 "metadata": {
  "kernelspec": {
   "display_name": "Python 3",
   "language": "python",
   "name": "python3"
  },
  "language_info": {
   "codemirror_mode": {
    "name": "ipython",
    "version": 3
   },
   "file_extension": ".py",
   "mimetype": "text/x-python",
   "name": "python",
   "nbconvert_exporter": "python",
   "pygments_lexer": "ipython3",
   "version": "3.6.6"
  }
 },
 "nbformat": 4,
 "nbformat_minor": 2
}
